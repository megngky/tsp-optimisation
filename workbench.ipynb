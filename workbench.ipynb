{
 "cells": [
  {
   "cell_type": "code",
   "execution_count": 1,
   "id": "ae3593ac-8378-4f3b-9961-04b9856b4818",
   "metadata": {},
   "outputs": [],
   "source": [
    "import os\n",
    "import time\n",
    "import pandas as pd\n",
    "import numpy as np\n",
    "import matplotlib.pyplot as plt\n",
    "import plotly.graph_objects as go\n",
    "from scipy.optimize import curve_fit\n",
    "\n",
    "from src.constants import (\n",
    "\tDIR_DATA,\n",
    "\tDIR_GRAPH,\n",
    "\tDIR_PICKLE,\n",
    "\tFILE_DATA_FRAME,\n",
    "\tSOLUTION_DP,\n",
    "\tSOLUTION_GREEDY,\n",
    "\tSOLUTION_CHRISTOFIDES,\n",
    "\tSOLUTION_SIMULATED_ANNEALING,\n",
    "\tSOLUTION_LIN_KERNIGHAN,\n",
    "\tSOLUTION_GENETIC,\n",
    "\tSOLUTION_ANT_COLONY,\n",
    "\tALL_SOLUTIONS\n",
    ")\n",
    "\n",
    "from src.utils import (\n",
    "\tprint_time_taken,\n",
    "\tprocess_all_files_to_png,\n",
    "\tprocess_all_files_to_dataframe,\n",
    "\tsave_dataframe_to_file,\n",
    "\tload_dataframe_from_file\n",
    ")\n",
    "\n",
    "from src.solver.dynamic_programming_tsp_solver import DynamicProgrammingTspSolver\n",
    "from src.solver.greedy_tsp_solver import GreedyTspSolver\n",
    "from src.solver.christofides_tsp_solver import ChristofidesTspSolver\n",
    "from src.solver.simulated_annealing_tsp_solver import SimulatedAnnealingTspSolver\n",
    "from src.solver.lin_kernighan_tsp_solver import LinKernighanSolver\n",
    "from src.solver.genetic_tsp_solver import GeneticAlgorithmSolver\n",
    "from src.solver.ant_colony_tsp_solver import AntColonySolver"
   ]
  },
  {
   "cell_type": "markdown",
   "id": "b5c77f96",
   "metadata": {},
   "source": [
    "# Pre-Processing"
   ]
  },
  {
   "cell_type": "markdown",
   "id": "eb1ceab5",
   "metadata": {},
   "source": [
    "## Creating Graphs for Visualization"
   ]
  },
  {
   "cell_type": "code",
   "execution_count": 2,
   "id": "e79cf3ea",
   "metadata": {},
   "outputs": [],
   "source": [
    "# Create the output \"graph\" directory if it doesn't exist\n",
    "if not os.path.exists(DIR_GRAPH):\n",
    "\tos.makedirs(DIR_GRAPH)\n",
    "\n",
    "# Process all XML files in \"data\" directory and generate graphs\n",
    "# process_all_files_to_png(DIR_DATA, DIR_GRAPH)"
   ]
  },
  {
   "cell_type": "markdown",
   "id": "5c8d4cb3",
   "metadata": {},
   "source": [
    "## Constructing DataFrame of Problem-Graphs"
   ]
  },
  {
   "cell_type": "code",
   "execution_count": 3,
   "id": "a12c5968",
   "metadata": {},
   "outputs": [
    {
     "name": "stdout",
     "output_type": "stream",
     "text": [
      "DataFrame loaded successfully.\n"
     ]
    },
    {
     "data": {
      "text/html": [
       "<div>\n",
       "<style scoped>\n",
       "    .dataframe tbody tr th:only-of-type {\n",
       "        vertical-align: middle;\n",
       "    }\n",
       "\n",
       "    .dataframe tbody tr th {\n",
       "        vertical-align: top;\n",
       "    }\n",
       "\n",
       "    .dataframe thead th {\n",
       "        text-align: right;\n",
       "    }\n",
       "</style>\n",
       "<table border=\"1\" class=\"dataframe\">\n",
       "  <thead>\n",
       "    <tr style=\"text-align: right;\">\n",
       "      <th></th>\n",
       "      <th>tsp_problem</th>\n",
       "      <th>number_of_vertices</th>\n",
       "      <th>graph</th>\n",
       "      <th>optimal_cost</th>\n",
       "    </tr>\n",
       "  </thead>\n",
       "  <tbody>\n",
       "    <tr>\n",
       "      <th>0</th>\n",
       "      <td>ch130</td>\n",
       "      <td>130</td>\n",
       "      <td>(0, 1, 2, 3, 4, 5, 6, 7, 8, 9, 10, 11, 12, 13,...</td>\n",
       "      <td>6110.0</td>\n",
       "    </tr>\n",
       "    <tr>\n",
       "      <th>1</th>\n",
       "      <td>gr666</td>\n",
       "      <td>666</td>\n",
       "      <td>(0, 1, 2, 3, 4, 5, 6, 7, 8, 9, 10, 11, 12, 13,...</td>\n",
       "      <td>294358.0</td>\n",
       "    </tr>\n",
       "    <tr>\n",
       "      <th>2</th>\n",
       "      <td>kroB100</td>\n",
       "      <td>100</td>\n",
       "      <td>(0, 1, 2, 3, 4, 5, 6, 7, 8, 9, 10, 11, 12, 13,...</td>\n",
       "      <td>22141.0</td>\n",
       "    </tr>\n",
       "    <tr>\n",
       "      <th>3</th>\n",
       "      <td>d198</td>\n",
       "      <td>198</td>\n",
       "      <td>(0, 1, 2, 3, 4, 5, 6, 7, 8, 9, 10, 11, 12, 13,...</td>\n",
       "      <td>15780.0</td>\n",
       "    </tr>\n",
       "    <tr>\n",
       "      <th>4</th>\n",
       "      <td>kroA150</td>\n",
       "      <td>150</td>\n",
       "      <td>(0, 1, 2, 3, 4, 5, 6, 7, 8, 9, 10, 11, 12, 13,...</td>\n",
       "      <td>26524.0</td>\n",
       "    </tr>\n",
       "  </tbody>\n",
       "</table>\n",
       "</div>"
      ],
      "text/plain": [
       "  tsp_problem  number_of_vertices  \\\n",
       "0       ch130                 130   \n",
       "1       gr666                 666   \n",
       "2     kroB100                 100   \n",
       "3        d198                 198   \n",
       "4     kroA150                 150   \n",
       "\n",
       "                                               graph  optimal_cost  \n",
       "0  (0, 1, 2, 3, 4, 5, 6, 7, 8, 9, 10, 11, 12, 13,...        6110.0  \n",
       "1  (0, 1, 2, 3, 4, 5, 6, 7, 8, 9, 10, 11, 12, 13,...      294358.0  \n",
       "2  (0, 1, 2, 3, 4, 5, 6, 7, 8, 9, 10, 11, 12, 13,...       22141.0  \n",
       "3  (0, 1, 2, 3, 4, 5, 6, 7, 8, 9, 10, 11, 12, 13,...       15780.0  \n",
       "4  (0, 1, 2, 3, 4, 5, 6, 7, 8, 9, 10, 11, 12, 13,...       26524.0  "
      ]
     },
     "execution_count": 3,
     "metadata": {},
     "output_type": "execute_result"
    }
   ],
   "source": [
    "# Process all the files in the \"data\" directory into a DataFrame\n",
    "# df = process_all_files_to_dataframe(DIR_DATA)\n",
    "\n",
    "# Create the output \"pickle\" directory if it doesn't exist\n",
    "if not os.path.exists(DIR_PICKLE):\n",
    "\tos.makedirs(DIR_PICKLE)\n",
    "\n",
    "# Save the DataFrame to a \"tsp_problems_dataframe.pkl\" file\n",
    "# save_dataframe_to_file(df, FILE_DATA_FRAME)\n",
    "\n",
    "# Load the DataFrame from the file\n",
    "df_loaded = load_dataframe_from_file(FILE_DATA_FRAME)\n",
    "\n",
    "# Display the first few rows to confirm\n",
    "df_loaded.head()"
   ]
  },
  {
   "cell_type": "markdown",
   "id": "e35e34f7",
   "metadata": {},
   "source": [
    "# TSP Solutions"
   ]
  },
  {
   "cell_type": "code",
   "execution_count": 4,
   "id": "e08aa2b7",
   "metadata": {},
   "outputs": [],
   "source": [
    "def solve_tsp(df, solver, algorithm_name):\n",
    "\t# Check if the new columns exists, if not, create them\n",
    "\tcreate_performance_metric_columns_if_not_exist(df, algorithm_name)\n",
    "\n",
    "\tnum_of_problems = len(df.index)\n",
    "\t# Loop through each row in the dataframe and solve the TSP problem using TspSolver\n",
    "\tfor index, row in df.iterrows():\n",
    "\t\tgraph = row['graph']\n",
    "\t\tproblem_name = row['tsp_problem']\n",
    "\t\t\n",
    "\t\tprint(f\"[{index + 1}/{num_of_problems}] Solving TSP using \\\"{algorithm_name}\\\" for problem: {problem_name} with {row['number_of_vertices']} vertices...\")\n",
    "\t\t\n",
    "\t\t# Solve the TSP using the solver\n",
    "\t\tstart = time.time()\n",
    "\t\tsolution = solver.solve(graph)\n",
    "\t\tend = time.time()\n",
    "\n",
    "\t\tif solution:\n",
    "\t\t\tprint_time_taken(f\"solve TSP using \\\"{algorithm_name}\\\" for problem: {problem_name}\", start, end)\n",
    "\n",
    "\t\t\t# Obtain/calculate performance metrics\n",
    "\t\t\ttour, total_cost = solution\n",
    "\t\t\texecution_time = end - start\n",
    "\t\t\toptimal_cost = row.get('optimal_cost', None)\n",
    "\t\t\tdeviation_from_optimal = calculate_deviation_from_optimal_cost(total_cost, optimal_cost)\n",
    "\n",
    "\t\telse:\n",
    "\t\t\tprint(\"Did not solve.\")\n",
    "\n",
    "\t\t\t# Set performance metrics to n/a values\n",
    "\t\t\ttour = None\n",
    "\t\t\ttotal_cost = np.nan\n",
    "\t\t\texecution_time = np.nan\n",
    "\t\t\toptimal_cost = np.nan\n",
    "\t\t\tdeviation_from_optimal = np.nan\n",
    "\n",
    "\t\tprint(\"=====================================\")\n",
    "\n",
    "\t\t# Update the dataframe\n",
    "\t\tupdate_data_frame_row_with_performance_metrics(df, index, algorithm_name, tour, total_cost, execution_time, deviation_from_optimal)"
   ]
  },
  {
   "cell_type": "code",
   "execution_count": 5,
   "id": "b750a556",
   "metadata": {},
   "outputs": [],
   "source": [
    "def create_performance_metric_columns_if_not_exist(df, algorithm_name):\n",
    "\tif f'{algorithm_name}_tour' not in df.columns:\n",
    "\t\tdf[f'{algorithm_name}_tour'] = pd.Series(dtype='object')\n",
    "\tif f'{algorithm_name}_cost' not in df.columns:\n",
    "\t\tdf[f'{algorithm_name}_cost'] = pd.Series(dtype='float')\n",
    "\tif f'{algorithm_name}_execution_time' not in df.columns:\n",
    "\t\tdf[f'{algorithm_name}_execution_time'] = pd.Series(dtype='float')\n",
    "\tif f'{algorithm_name}_deviation_from_optimal' not in df.columns:\n",
    "\t\tdf[f'{algorithm_name}_deviation_from_optimal'] = pd.Series(dtype='float')"
   ]
  },
  {
   "cell_type": "code",
   "execution_count": 6,
   "id": "d92cb747",
   "metadata": {},
   "outputs": [],
   "source": [
    "def calculate_deviation_from_optimal_cost(total_cost, optimal_cost):\n",
    "\tif optimal_cost is not None:\n",
    "\t\treturn (total_cost - optimal_cost) / optimal_cost * 100"
   ]
  },
  {
   "cell_type": "code",
   "execution_count": 7,
   "id": "8b413299",
   "metadata": {},
   "outputs": [],
   "source": [
    "def update_data_frame_row_with_performance_metrics(df, index, algorithm_name, tour, total_cost, execution_time, deviation_from_optimal):\n",
    "\tdf.at[index, f'{algorithm_name}_tour'] = tour\n",
    "\tdf.at[index, f'{algorithm_name}_cost'] = total_cost\n",
    "\tdf.at[index, f'{algorithm_name}_execution_time'] = execution_time\n",
    "\tdf.at[index, f'{algorithm_name}_deviation_from_optimal'] = deviation_from_optimal"
   ]
  },
  {
   "cell_type": "markdown",
   "id": "3bc34241",
   "metadata": {},
   "source": [
    "## Exact Algorithms"
   ]
  },
  {
   "cell_type": "markdown",
   "id": "3179f3bc",
   "metadata": {},
   "source": [
    "### Held-Karp Algorithm (Dynamic Programming)"
   ]
  },
  {
   "cell_type": "code",
   "execution_count": 8,
   "id": "401aa16a",
   "metadata": {},
   "outputs": [
    {
     "name": "stdout",
     "output_type": "stream",
     "text": [
      "[1/72] Solving TSP using \"dp\" for problem: ch130 with 130 vertices...\n",
      "Did not solve.\n",
      "=====================================\n",
      "[2/72] Solving TSP using \"dp\" for problem: gr666 with 666 vertices...\n",
      "Did not solve.\n",
      "=====================================\n",
      "[3/72] Solving TSP using \"dp\" for problem: kroB100 with 100 vertices...\n",
      "Did not solve.\n",
      "=====================================\n",
      "[4/72] Solving TSP using \"dp\" for problem: d198 with 198 vertices...\n",
      "Did not solve.\n",
      "=====================================\n",
      "[5/72] Solving TSP using \"dp\" for problem: kroA150 with 150 vertices...\n",
      "Did not solve.\n",
      "=====================================\n",
      "[6/72] Solving TSP using \"dp\" for problem: tsp225 with 225 vertices...\n",
      "Did not solve.\n",
      "=====================================\n",
      "[7/72] Solving TSP using \"dp\" for problem: fl417 with 417 vertices...\n",
      "Did not solve.\n",
      "=====================================\n",
      "[8/72] Solving TSP using \"dp\" for problem: brg180 with 180 vertices...\n",
      "Did not solve.\n",
      "=====================================\n",
      "[9/72] Solving TSP using \"dp\" for problem: brazil58 with 58 vertices...\n",
      "Did not solve.\n",
      "=====================================\n",
      "[10/72] Solving TSP using \"dp\" for problem: lin105 with 105 vertices...\n",
      "Did not solve.\n",
      "=====================================\n",
      "[11/72] Solving TSP using \"dp\" for problem: gil262 with 262 vertices...\n",
      "Did not solve.\n",
      "=====================================\n",
      "[12/72] Solving TSP using \"dp\" for problem: pcb442 with 442 vertices...\n",
      "Did not solve.\n",
      "=====================================\n",
      "[13/72] Solving TSP using \"dp\" for problem: rd100 with 100 vertices...\n",
      "Did not solve.\n",
      "=====================================\n",
      "[14/72] Solving TSP using \"dp\" for problem: swiss42 with 42 vertices...\n",
      "Did not solve.\n",
      "=====================================\n",
      "[15/72] Solving TSP using \"dp\" for problem: pr439 with 439 vertices...\n",
      "Did not solve.\n",
      "=====================================\n",
      "[16/72] Solving TSP using \"dp\" for problem: gr96 with 96 vertices...\n",
      "Did not solve.\n",
      "=====================================\n",
      "[17/72] Solving TSP using \"dp\" for problem: gr229 with 229 vertices...\n",
      "Did not solve.\n",
      "=====================================\n",
      "[18/72] Solving TSP using \"dp\" for problem: pr264 with 264 vertices...\n",
      "Did not solve.\n",
      "=====================================\n",
      "[19/72] Solving TSP using \"dp\" for problem: pr76 with 76 vertices...\n",
      "Did not solve.\n",
      "=====================================\n",
      "[20/72] Solving TSP using \"dp\" for problem: dantzig42 with 42 vertices...\n",
      "Did not solve.\n",
      "=====================================\n",
      "[21/72] Solving TSP using \"dp\" for problem: kroB200 with 200 vertices...\n",
      "Did not solve.\n",
      "=====================================\n",
      "[22/72] Solving TSP using \"dp\" for problem: br17 with 17 vertices...\n",
      "Time taken to solve TSP using \"dp\" for problem: br17: 5.95707s\n",
      "=====================================\n",
      "[23/72] Solving TSP using \"dp\" for problem: hk48 with 48 vertices...\n",
      "Did not solve.\n",
      "=====================================\n",
      "[24/72] Solving TSP using \"dp\" for problem: pr107 with 107 vertices...\n",
      "Did not solve.\n",
      "=====================================\n",
      "[25/72] Solving TSP using \"dp\" for problem: ch150 with 150 vertices...\n",
      "Did not solve.\n",
      "=====================================\n",
      "[26/72] Solving TSP using \"dp\" for problem: rd400 with 400 vertices...\n",
      "Did not solve.\n",
      "=====================================\n",
      "[27/72] Solving TSP using \"dp\" for problem: gr202 with 202 vertices...\n",
      "Did not solve.\n",
      "=====================================\n",
      "[28/72] Solving TSP using \"dp\" for problem: rat575 with 575 vertices...\n",
      "Did not solve.\n",
      "=====================================\n",
      "[29/72] Solving TSP using \"dp\" for problem: kroD100 with 100 vertices...\n",
      "Did not solve.\n",
      "=====================================\n",
      "[30/72] Solving TSP using \"dp\" for problem: pr299 with 299 vertices...\n",
      "Did not solve.\n",
      "=====================================\n",
      "[31/72] Solving TSP using \"dp\" for problem: u724 with 724 vertices...\n",
      "Did not solve.\n",
      "=====================================\n",
      "[32/72] Solving TSP using \"dp\" for problem: gr24 with 24 vertices...\n",
      "Did not solve.\n",
      "=====================================\n",
      "[33/72] Solving TSP using \"dp\" for problem: ulysses16 with 16 vertices...\n",
      "Time taken to solve TSP using \"dp\" for problem: ulysses16: 2.65172s\n",
      "=====================================\n",
      "[34/72] Solving TSP using \"dp\" for problem: si535 with 535 vertices...\n",
      "Did not solve.\n",
      "=====================================\n",
      "[35/72] Solving TSP using \"dp\" for problem: gr21 with 21 vertices...\n",
      "Did not solve.\n",
      "=====================================\n",
      "[36/72] Solving TSP using \"dp\" for problem: berlin52 with 52 vertices...\n",
      "Did not solve.\n",
      "=====================================\n",
      "[37/72] Solving TSP using \"dp\" for problem: bays29 with 29 vertices...\n",
      "Did not solve.\n",
      "=====================================\n",
      "[38/72] Solving TSP using \"dp\" for problem: ts225 with 225 vertices...\n",
      "Did not solve.\n",
      "=====================================\n",
      "[39/72] Solving TSP using \"dp\" for problem: eil101 with 101 vertices...\n",
      "Did not solve.\n",
      "=====================================\n",
      "[40/72] Solving TSP using \"dp\" for problem: d657 with 657 vertices...\n",
      "Did not solve.\n",
      "=====================================\n",
      "[41/72] Solving TSP using \"dp\" for problem: rat783 with 783 vertices...\n",
      "Did not solve.\n",
      "=====================================\n",
      "[42/72] Solving TSP using \"dp\" for problem: pr124 with 124 vertices...\n",
      "Did not solve.\n",
      "=====================================\n",
      "[43/72] Solving TSP using \"dp\" for problem: p654 with 654 vertices...\n",
      "Did not solve.\n",
      "=====================================\n",
      "[44/72] Solving TSP using \"dp\" for problem: gr431 with 431 vertices...\n",
      "Did not solve.\n",
      "=====================================\n",
      "[45/72] Solving TSP using \"dp\" for problem: kroC100 with 100 vertices...\n",
      "Did not solve.\n",
      "=====================================\n",
      "[46/72] Solving TSP using \"dp\" for problem: ali535 with 535 vertices...\n",
      "Did not solve.\n",
      "=====================================\n",
      "[47/72] Solving TSP using \"dp\" for problem: ulysses22 with 22 vertices...\n",
      "Did not solve.\n",
      "=====================================\n",
      "[48/72] Solving TSP using \"dp\" for problem: kroB150 with 150 vertices...\n",
      "Did not solve.\n",
      "=====================================\n",
      "[49/72] Solving TSP using \"dp\" for problem: kroA100 with 100 vertices...\n",
      "Did not solve.\n",
      "=====================================\n",
      "[50/72] Solving TSP using \"dp\" for problem: pr136 with 136 vertices...\n",
      "Did not solve.\n",
      "=====================================\n",
      "[51/72] Solving TSP using \"dp\" for problem: rat195 with 195 vertices...\n",
      "Did not solve.\n",
      "=====================================\n",
      "[52/72] Solving TSP using \"dp\" for problem: dsj1000 with 1000 vertices...\n",
      "Did not solve.\n",
      "=====================================\n",
      "[53/72] Solving TSP using \"dp\" for problem: d493 with 493 vertices...\n",
      "Did not solve.\n",
      "=====================================\n",
      "[54/72] Solving TSP using \"dp\" for problem: gr17 with 17 vertices...\n",
      "Time taken to solve TSP using \"dp\" for problem: gr17: 6.04738s\n",
      "=====================================\n",
      "[55/72] Solving TSP using \"dp\" for problem: pr144 with 144 vertices...\n",
      "Did not solve.\n",
      "=====================================\n",
      "[56/72] Solving TSP using \"dp\" for problem: kroE100 with 100 vertices...\n",
      "Did not solve.\n",
      "=====================================\n",
      "[57/72] Solving TSP using \"dp\" for problem: pr226 with 226 vertices...\n",
      "Did not solve.\n",
      "=====================================\n",
      "[58/72] Solving TSP using \"dp\" for problem: si175 with 175 vertices...\n",
      "Did not solve.\n",
      "=====================================\n",
      "[59/72] Solving TSP using \"dp\" for problem: bayg29 with 29 vertices...\n",
      "Did not solve.\n",
      "=====================================\n",
      "[60/72] Solving TSP using \"dp\" for problem: pa561 with 561 vertices...\n",
      "Did not solve.\n",
      "=====================================\n",
      "[61/72] Solving TSP using \"dp\" for problem: gr120 with 120 vertices...\n",
      "Did not solve.\n",
      "=====================================\n",
      "[62/72] Solving TSP using \"dp\" for problem: pr152 with 152 vertices...\n",
      "Did not solve.\n",
      "=====================================\n",
      "[63/72] Solving TSP using \"dp\" for problem: gr137 with 137 vertices...\n",
      "Did not solve.\n",
      "=====================================\n",
      "[64/72] Solving TSP using \"dp\" for problem: u574 with 574 vertices...\n",
      "Did not solve.\n",
      "=====================================\n",
      "[65/72] Solving TSP using \"dp\" for problem: kroA200 with 200 vertices...\n",
      "Did not solve.\n",
      "=====================================\n",
      "[66/72] Solving TSP using \"dp\" for problem: burma14 with 14 vertices...\n",
      "Time taken to solve TSP using \"dp\" for problem: burma14: 0.49887s\n",
      "=====================================\n",
      "[67/72] Solving TSP using \"dp\" for problem: u159 with 159 vertices...\n",
      "Did not solve.\n",
      "=====================================\n",
      "[68/72] Solving TSP using \"dp\" for problem: st70 with 70 vertices...\n",
      "Did not solve.\n",
      "=====================================\n",
      "[69/72] Solving TSP using \"dp\" for problem: rat99 with 99 vertices...\n",
      "Did not solve.\n",
      "=====================================\n",
      "[70/72] Solving TSP using \"dp\" for problem: att48 with 48 vertices...\n",
      "Did not solve.\n",
      "=====================================\n",
      "[71/72] Solving TSP using \"dp\" for problem: lin318 with 318 vertices...\n",
      "Did not solve.\n",
      "=====================================\n",
      "[72/72] Solving TSP using \"dp\" for problem: gr48 with 48 vertices...\n",
      "Did not solve.\n",
      "=====================================\n"
     ]
    },
    {
     "data": {
      "text/html": [
       "<div>\n",
       "<style scoped>\n",
       "    .dataframe tbody tr th:only-of-type {\n",
       "        vertical-align: middle;\n",
       "    }\n",
       "\n",
       "    .dataframe tbody tr th {\n",
       "        vertical-align: top;\n",
       "    }\n",
       "\n",
       "    .dataframe thead th {\n",
       "        text-align: right;\n",
       "    }\n",
       "</style>\n",
       "<table border=\"1\" class=\"dataframe\">\n",
       "  <thead>\n",
       "    <tr style=\"text-align: right;\">\n",
       "      <th></th>\n",
       "      <th>tsp_problem</th>\n",
       "      <th>number_of_vertices</th>\n",
       "      <th>graph</th>\n",
       "      <th>optimal_cost</th>\n",
       "      <th>dp_tour</th>\n",
       "      <th>dp_cost</th>\n",
       "      <th>dp_execution_time</th>\n",
       "      <th>dp_deviation_from_optimal</th>\n",
       "    </tr>\n",
       "  </thead>\n",
       "  <tbody>\n",
       "    <tr>\n",
       "      <th>0</th>\n",
       "      <td>ch130</td>\n",
       "      <td>130</td>\n",
       "      <td>(0, 1, 2, 3, 4, 5, 6, 7, 8, 9, 10, 11, 12, 13,...</td>\n",
       "      <td>6110.0</td>\n",
       "      <td>None</td>\n",
       "      <td>NaN</td>\n",
       "      <td>NaN</td>\n",
       "      <td>NaN</td>\n",
       "    </tr>\n",
       "    <tr>\n",
       "      <th>1</th>\n",
       "      <td>gr666</td>\n",
       "      <td>666</td>\n",
       "      <td>(0, 1, 2, 3, 4, 5, 6, 7, 8, 9, 10, 11, 12, 13,...</td>\n",
       "      <td>294358.0</td>\n",
       "      <td>None</td>\n",
       "      <td>NaN</td>\n",
       "      <td>NaN</td>\n",
       "      <td>NaN</td>\n",
       "    </tr>\n",
       "    <tr>\n",
       "      <th>2</th>\n",
       "      <td>kroB100</td>\n",
       "      <td>100</td>\n",
       "      <td>(0, 1, 2, 3, 4, 5, 6, 7, 8, 9, 10, 11, 12, 13,...</td>\n",
       "      <td>22141.0</td>\n",
       "      <td>None</td>\n",
       "      <td>NaN</td>\n",
       "      <td>NaN</td>\n",
       "      <td>NaN</td>\n",
       "    </tr>\n",
       "    <tr>\n",
       "      <th>3</th>\n",
       "      <td>d198</td>\n",
       "      <td>198</td>\n",
       "      <td>(0, 1, 2, 3, 4, 5, 6, 7, 8, 9, 10, 11, 12, 13,...</td>\n",
       "      <td>15780.0</td>\n",
       "      <td>None</td>\n",
       "      <td>NaN</td>\n",
       "      <td>NaN</td>\n",
       "      <td>NaN</td>\n",
       "    </tr>\n",
       "    <tr>\n",
       "      <th>4</th>\n",
       "      <td>kroA150</td>\n",
       "      <td>150</td>\n",
       "      <td>(0, 1, 2, 3, 4, 5, 6, 7, 8, 9, 10, 11, 12, 13,...</td>\n",
       "      <td>26524.0</td>\n",
       "      <td>None</td>\n",
       "      <td>NaN</td>\n",
       "      <td>NaN</td>\n",
       "      <td>NaN</td>\n",
       "    </tr>\n",
       "  </tbody>\n",
       "</table>\n",
       "</div>"
      ],
      "text/plain": [
       "  tsp_problem  number_of_vertices  \\\n",
       "0       ch130                 130   \n",
       "1       gr666                 666   \n",
       "2     kroB100                 100   \n",
       "3        d198                 198   \n",
       "4     kroA150                 150   \n",
       "\n",
       "                                               graph  optimal_cost dp_tour  \\\n",
       "0  (0, 1, 2, 3, 4, 5, 6, 7, 8, 9, 10, 11, 12, 13,...        6110.0    None   \n",
       "1  (0, 1, 2, 3, 4, 5, 6, 7, 8, 9, 10, 11, 12, 13,...      294358.0    None   \n",
       "2  (0, 1, 2, 3, 4, 5, 6, 7, 8, 9, 10, 11, 12, 13,...       22141.0    None   \n",
       "3  (0, 1, 2, 3, 4, 5, 6, 7, 8, 9, 10, 11, 12, 13,...       15780.0    None   \n",
       "4  (0, 1, 2, 3, 4, 5, 6, 7, 8, 9, 10, 11, 12, 13,...       26524.0    None   \n",
       "\n",
       "   dp_cost  dp_execution_time  dp_deviation_from_optimal  \n",
       "0      NaN                NaN                        NaN  \n",
       "1      NaN                NaN                        NaN  \n",
       "2      NaN                NaN                        NaN  \n",
       "3      NaN                NaN                        NaN  \n",
       "4      NaN                NaN                        NaN  "
      ]
     },
     "execution_count": 8,
     "metadata": {},
     "output_type": "execute_result"
    }
   ],
   "source": [
    "solve_tsp(df_loaded, DynamicProgrammingTspSolver(), SOLUTION_DP)\n",
    "\n",
    "df_loaded.head()"
   ]
  },
  {
   "cell_type": "markdown",
   "id": "9a4c86a0",
   "metadata": {},
   "source": [
    "## Approximation and Heuristic Algorithms"
   ]
  },
  {
   "cell_type": "markdown",
   "id": "ec671109",
   "metadata": {},
   "source": [
    "### Greedy TSP"
   ]
  },
  {
   "cell_type": "code",
   "execution_count": 9,
   "id": "ec671109",
   "metadata": {},
   "outputs": [
    {
     "name": "stdout",
     "output_type": "stream",
     "text": [
      "[1/72] Solving TSP using \"greedy\" for problem: ch130 with 130 vertices...\n",
      "Time taken to solve TSP using \"greedy\" for problem: ch130: 0.00658s\n",
      "=====================================\n",
      "[2/72] Solving TSP using \"greedy\" for problem: gr666 with 666 vertices...\n",
      "Time taken to solve TSP using \"greedy\" for problem: gr666: 0.61820s\n",
      "=====================================\n",
      "[3/72] Solving TSP using \"greedy\" for problem: kroB100 with 100 vertices...\n",
      "Time taken to solve TSP using \"greedy\" for problem: kroB100: 0.00328s\n",
      "=====================================\n",
      "[4/72] Solving TSP using \"greedy\" for problem: d198 with 198 vertices...\n",
      "Time taken to solve TSP using \"greedy\" for problem: d198: 0.01791s\n",
      "=====================================\n",
      "[5/72] Solving TSP using \"greedy\" for problem: kroA150 with 150 vertices...\n",
      "Time taken to solve TSP using \"greedy\" for problem: kroA150: 0.00877s\n",
      "=====================================\n",
      "[6/72] Solving TSP using \"greedy\" for problem: tsp225 with 225 vertices...\n",
      "Time taken to solve TSP using \"greedy\" for problem: tsp225: 0.02555s\n",
      "=====================================\n",
      "[7/72] Solving TSP using \"greedy\" for problem: fl417 with 417 vertices...\n",
      "Time taken to solve TSP using \"greedy\" for problem: fl417: 0.14837s\n",
      "=====================================\n",
      "[8/72] Solving TSP using \"greedy\" for problem: brg180 with 180 vertices...\n",
      "Time taken to solve TSP using \"greedy\" for problem: brg180: 0.01450s\n",
      "=====================================\n",
      "[9/72] Solving TSP using \"greedy\" for problem: brazil58 with 58 vertices...\n",
      "Time taken to solve TSP using \"greedy\" for problem: brazil58: 0.00088s\n",
      "=====================================\n",
      "[10/72] Solving TSP using \"greedy\" for problem: lin105 with 105 vertices...\n",
      "Time taken to solve TSP using \"greedy\" for problem: lin105: 0.00382s\n",
      "=====================================\n",
      "[11/72] Solving TSP using \"greedy\" for problem: gil262 with 262 vertices...\n",
      "Time taken to solve TSP using \"greedy\" for problem: gil262: 0.04587s\n",
      "=====================================\n",
      "[12/72] Solving TSP using \"greedy\" for problem: pcb442 with 442 vertices...\n",
      "Time taken to solve TSP using \"greedy\" for problem: pcb442: 0.17777s\n",
      "=====================================\n",
      "[13/72] Solving TSP using \"greedy\" for problem: rd100 with 100 vertices...\n",
      "Time taken to solve TSP using \"greedy\" for problem: rd100: 0.00318s\n",
      "=====================================\n",
      "[14/72] Solving TSP using \"greedy\" for problem: swiss42 with 42 vertices...\n",
      "Time taken to solve TSP using \"greedy\" for problem: swiss42: 0.00040s\n",
      "=====================================\n",
      "[15/72] Solving TSP using \"greedy\" for problem: pr439 with 439 vertices...\n",
      "Time taken to solve TSP using \"greedy\" for problem: pr439: 0.16542s\n",
      "=====================================\n",
      "[16/72] Solving TSP using \"greedy\" for problem: gr96 with 96 vertices...\n",
      "Time taken to solve TSP using \"greedy\" for problem: gr96: 0.00286s\n",
      "=====================================\n",
      "[17/72] Solving TSP using \"greedy\" for problem: gr229 with 229 vertices...\n",
      "Time taken to solve TSP using \"greedy\" for problem: gr229: 0.02635s\n",
      "=====================================\n",
      "[18/72] Solving TSP using \"greedy\" for problem: pr264 with 264 vertices...\n",
      "Time taken to solve TSP using \"greedy\" for problem: pr264: 0.03869s\n",
      "=====================================\n",
      "[19/72] Solving TSP using \"greedy\" for problem: pr76 with 76 vertices...\n",
      "Time taken to solve TSP using \"greedy\" for problem: pr76: 0.00158s\n",
      "=====================================\n",
      "[20/72] Solving TSP using \"greedy\" for problem: dantzig42 with 42 vertices...\n",
      "Time taken to solve TSP using \"greedy\" for problem: dantzig42: 0.00040s\n",
      "=====================================\n",
      "[21/72] Solving TSP using \"greedy\" for problem: kroB200 with 200 vertices...\n",
      "Time taken to solve TSP using \"greedy\" for problem: kroB200: 0.01843s\n",
      "=====================================\n",
      "[22/72] Solving TSP using \"greedy\" for problem: br17 with 17 vertices...\n",
      "Time taken to solve TSP using \"greedy\" for problem: br17: 0.00006s\n",
      "=====================================\n",
      "[23/72] Solving TSP using \"greedy\" for problem: hk48 with 48 vertices...\n",
      "Time taken to solve TSP using \"greedy\" for problem: hk48: 0.00055s\n",
      "=====================================\n",
      "[24/72] Solving TSP using \"greedy\" for problem: pr107 with 107 vertices...\n",
      "Time taken to solve TSP using \"greedy\" for problem: pr107: 0.00361s\n",
      "=====================================\n",
      "[25/72] Solving TSP using \"greedy\" for problem: ch150 with 150 vertices...\n",
      "Time taken to solve TSP using \"greedy\" for problem: ch150: 0.00870s\n",
      "=====================================\n",
      "[26/72] Solving TSP using \"greedy\" for problem: rd400 with 400 vertices...\n",
      "Time taken to solve TSP using \"greedy\" for problem: rd400: 0.13318s\n",
      "=====================================\n",
      "[27/72] Solving TSP using \"greedy\" for problem: gr202 with 202 vertices...\n",
      "Time taken to solve TSP using \"greedy\" for problem: gr202: 0.02023s\n",
      "=====================================\n",
      "[28/72] Solving TSP using \"greedy\" for problem: rat575 with 575 vertices...\n",
      "Time taken to solve TSP using \"greedy\" for problem: rat575: 0.38688s\n",
      "=====================================\n",
      "[29/72] Solving TSP using \"greedy\" for problem: kroD100 with 100 vertices...\n",
      "Time taken to solve TSP using \"greedy\" for problem: kroD100: 0.00320s\n",
      "=====================================\n",
      "[30/72] Solving TSP using \"greedy\" for problem: pr299 with 299 vertices...\n",
      "Time taken to solve TSP using \"greedy\" for problem: pr299: 0.05888s\n",
      "=====================================\n",
      "[31/72] Solving TSP using \"greedy\" for problem: u724 with 724 vertices...\n",
      "Time taken to solve TSP using \"greedy\" for problem: u724: 0.76717s\n",
      "=====================================\n",
      "[32/72] Solving TSP using \"greedy\" for problem: gr24 with 24 vertices...\n",
      "Time taken to solve TSP using \"greedy\" for problem: gr24: 0.00014s\n",
      "=====================================\n",
      "[33/72] Solving TSP using \"greedy\" for problem: ulysses16 with 16 vertices...\n",
      "Time taken to solve TSP using \"greedy\" for problem: ulysses16: 0.00005s\n",
      "=====================================\n",
      "[34/72] Solving TSP using \"greedy\" for problem: si535 with 535 vertices...\n",
      "Time taken to solve TSP using \"greedy\" for problem: si535: 0.31109s\n",
      "=====================================\n",
      "[35/72] Solving TSP using \"greedy\" for problem: gr21 with 21 vertices...\n",
      "Time taken to solve TSP using \"greedy\" for problem: gr21: 0.00011s\n",
      "=====================================\n",
      "[36/72] Solving TSP using \"greedy\" for problem: berlin52 with 52 vertices...\n",
      "Time taken to solve TSP using \"greedy\" for problem: berlin52: 0.00067s\n",
      "=====================================\n",
      "[37/72] Solving TSP using \"greedy\" for problem: bays29 with 29 vertices...\n",
      "Time taken to solve TSP using \"greedy\" for problem: bays29: 0.00019s\n",
      "=====================================\n",
      "[38/72] Solving TSP using \"greedy\" for problem: ts225 with 225 vertices...\n",
      "Time taken to solve TSP using \"greedy\" for problem: ts225: 0.02547s\n",
      "=====================================\n",
      "[39/72] Solving TSP using \"greedy\" for problem: eil101 with 101 vertices...\n",
      "Time taken to solve TSP using \"greedy\" for problem: eil101: 0.00321s\n",
      "=====================================\n",
      "[40/72] Solving TSP using \"greedy\" for problem: d657 with 657 vertices...\n",
      "Time taken to solve TSP using \"greedy\" for problem: d657: 0.54761s\n",
      "=====================================\n",
      "[41/72] Solving TSP using \"greedy\" for problem: rat783 with 783 vertices...\n",
      "Time taken to solve TSP using \"greedy\" for problem: rat783: 0.88938s\n",
      "=====================================\n",
      "[42/72] Solving TSP using \"greedy\" for problem: pr124 with 124 vertices...\n",
      "Time taken to solve TSP using \"greedy\" for problem: pr124: 0.00620s\n",
      "=====================================\n",
      "[43/72] Solving TSP using \"greedy\" for problem: p654 with 654 vertices...\n",
      "Time taken to solve TSP using \"greedy\" for problem: p654: 0.56051s\n",
      "=====================================\n",
      "[44/72] Solving TSP using \"greedy\" for problem: gr431 with 431 vertices...\n",
      "Time taken to solve TSP using \"greedy\" for problem: gr431: 0.16019s\n",
      "=====================================\n",
      "[45/72] Solving TSP using \"greedy\" for problem: kroC100 with 100 vertices...\n",
      "Time taken to solve TSP using \"greedy\" for problem: kroC100: 0.00321s\n",
      "=====================================\n",
      "[46/72] Solving TSP using \"greedy\" for problem: ali535 with 535 vertices...\n",
      "Time taken to solve TSP using \"greedy\" for problem: ali535: 0.30593s\n",
      "=====================================\n",
      "[47/72] Solving TSP using \"greedy\" for problem: ulysses22 with 22 vertices...\n",
      "Time taken to solve TSP using \"greedy\" for problem: ulysses22: 0.00011s\n",
      "=====================================\n",
      "[48/72] Solving TSP using \"greedy\" for problem: kroB150 with 150 vertices...\n",
      "Time taken to solve TSP using \"greedy\" for problem: kroB150: 0.00903s\n",
      "=====================================\n",
      "[49/72] Solving TSP using \"greedy\" for problem: kroA100 with 100 vertices...\n",
      "Time taken to solve TSP using \"greedy\" for problem: kroA100: 0.00344s\n",
      "=====================================\n",
      "[50/72] Solving TSP using \"greedy\" for problem: pr136 with 136 vertices...\n",
      "Time taken to solve TSP using \"greedy\" for problem: pr136: 0.00729s\n",
      "=====================================\n",
      "[51/72] Solving TSP using \"greedy\" for problem: rat195 with 195 vertices...\n",
      "Time taken to solve TSP using \"greedy\" for problem: rat195: 0.01775s\n",
      "=====================================\n",
      "[52/72] Solving TSP using \"greedy\" for problem: dsj1000 with 1000 vertices...\n",
      "Time taken to solve TSP using \"greedy\" for problem: dsj1000: 1.98158s\n",
      "=====================================\n",
      "[53/72] Solving TSP using \"greedy\" for problem: d493 with 493 vertices...\n",
      "Time taken to solve TSP using \"greedy\" for problem: d493: 0.24206s\n",
      "=====================================\n",
      "[54/72] Solving TSP using \"greedy\" for problem: gr17 with 17 vertices...\n",
      "Time taken to solve TSP using \"greedy\" for problem: gr17: 0.00007s\n",
      "=====================================\n",
      "[55/72] Solving TSP using \"greedy\" for problem: pr144 with 144 vertices...\n",
      "Time taken to solve TSP using \"greedy\" for problem: pr144: 0.00852s\n",
      "=====================================\n",
      "[56/72] Solving TSP using \"greedy\" for problem: kroE100 with 100 vertices...\n",
      "Time taken to solve TSP using \"greedy\" for problem: kroE100: 0.00325s\n",
      "=====================================\n",
      "[57/72] Solving TSP using \"greedy\" for problem: pr226 with 226 vertices...\n",
      "Time taken to solve TSP using \"greedy\" for problem: pr226: 0.02861s\n",
      "=====================================\n",
      "[58/72] Solving TSP using \"greedy\" for problem: si175 with 175 vertices...\n",
      "Time taken to solve TSP using \"greedy\" for problem: si175: 0.01345s\n",
      "=====================================\n",
      "[59/72] Solving TSP using \"greedy\" for problem: bayg29 with 29 vertices...\n",
      "Time taken to solve TSP using \"greedy\" for problem: bayg29: 0.00021s\n",
      "=====================================\n",
      "[60/72] Solving TSP using \"greedy\" for problem: pa561 with 561 vertices...\n",
      "Time taken to solve TSP using \"greedy\" for problem: pa561: 0.35536s\n",
      "=====================================\n",
      "[61/72] Solving TSP using \"greedy\" for problem: gr120 with 120 vertices...\n",
      "Time taken to solve TSP using \"greedy\" for problem: gr120: 0.00518s\n",
      "=====================================\n",
      "[62/72] Solving TSP using \"greedy\" for problem: pr152 with 152 vertices...\n",
      "Time taken to solve TSP using \"greedy\" for problem: pr152: 0.00972s\n",
      "=====================================\n",
      "[63/72] Solving TSP using \"greedy\" for problem: gr137 with 137 vertices...\n",
      "Time taken to solve TSP using \"greedy\" for problem: gr137: 0.00731s\n",
      "=====================================\n",
      "[64/72] Solving TSP using \"greedy\" for problem: u574 with 574 vertices...\n",
      "Time taken to solve TSP using \"greedy\" for problem: u574: 0.40027s\n",
      "=====================================\n",
      "[65/72] Solving TSP using \"greedy\" for problem: kroA200 with 200 vertices...\n",
      "Time taken to solve TSP using \"greedy\" for problem: kroA200: 0.02039s\n",
      "=====================================\n",
      "[66/72] Solving TSP using \"greedy\" for problem: burma14 with 14 vertices...\n",
      "Time taken to solve TSP using \"greedy\" for problem: burma14: 0.00005s\n",
      "=====================================\n",
      "[67/72] Solving TSP using \"greedy\" for problem: u159 with 159 vertices...\n",
      "Time taken to solve TSP using \"greedy\" for problem: u159: 0.01023s\n",
      "=====================================\n",
      "[68/72] Solving TSP using \"greedy\" for problem: st70 with 70 vertices...\n",
      "Time taken to solve TSP using \"greedy\" for problem: st70: 0.00151s\n",
      "=====================================\n",
      "[69/72] Solving TSP using \"greedy\" for problem: rat99 with 99 vertices...\n",
      "Time taken to solve TSP using \"greedy\" for problem: rat99: 0.00333s\n",
      "=====================================\n",
      "[70/72] Solving TSP using \"greedy\" for problem: att48 with 48 vertices...\n",
      "Time taken to solve TSP using \"greedy\" for problem: att48: 0.00060s\n",
      "=====================================\n",
      "[71/72] Solving TSP using \"greedy\" for problem: lin318 with 318 vertices...\n",
      "Time taken to solve TSP using \"greedy\" for problem: lin318: 0.06656s\n",
      "=====================================\n",
      "[72/72] Solving TSP using \"greedy\" for problem: gr48 with 48 vertices...\n",
      "Time taken to solve TSP using \"greedy\" for problem: gr48: 0.00056s\n",
      "=====================================\n"
     ]
    },
    {
     "data": {
      "text/html": [
       "<div>\n",
       "<style scoped>\n",
       "    .dataframe tbody tr th:only-of-type {\n",
       "        vertical-align: middle;\n",
       "    }\n",
       "\n",
       "    .dataframe tbody tr th {\n",
       "        vertical-align: top;\n",
       "    }\n",
       "\n",
       "    .dataframe thead th {\n",
       "        text-align: right;\n",
       "    }\n",
       "</style>\n",
       "<table border=\"1\" class=\"dataframe\">\n",
       "  <thead>\n",
       "    <tr style=\"text-align: right;\">\n",
       "      <th></th>\n",
       "      <th>tsp_problem</th>\n",
       "      <th>number_of_vertices</th>\n",
       "      <th>graph</th>\n",
       "      <th>optimal_cost</th>\n",
       "      <th>dp_tour</th>\n",
       "      <th>dp_cost</th>\n",
       "      <th>dp_execution_time</th>\n",
       "      <th>dp_deviation_from_optimal</th>\n",
       "      <th>greedy_tour</th>\n",
       "      <th>greedy_cost</th>\n",
       "      <th>greedy_execution_time</th>\n",
       "      <th>greedy_deviation_from_optimal</th>\n",
       "    </tr>\n",
       "  </thead>\n",
       "  <tbody>\n",
       "    <tr>\n",
       "      <th>0</th>\n",
       "      <td>ch130</td>\n",
       "      <td>130</td>\n",
       "      <td>(0, 1, 2, 3, 4, 5, 6, 7, 8, 9, 10, 11, 12, 13,...</td>\n",
       "      <td>6110.0</td>\n",
       "      <td>None</td>\n",
       "      <td>NaN</td>\n",
       "      <td>NaN</td>\n",
       "      <td>NaN</td>\n",
       "      <td>[0, 40, 38, 70, 129, 49, 1, 117, 79, 45, 19, 3...</td>\n",
       "      <td>7575.286292</td>\n",
       "      <td>0.006576</td>\n",
       "      <td>23.981772</td>\n",
       "    </tr>\n",
       "    <tr>\n",
       "      <th>1</th>\n",
       "      <td>gr666</td>\n",
       "      <td>666</td>\n",
       "      <td>(0, 1, 2, 3, 4, 5, 6, 7, 8, 9, 10, 11, 12, 13,...</td>\n",
       "      <td>294358.0</td>\n",
       "      <td>None</td>\n",
       "      <td>NaN</td>\n",
       "      <td>NaN</td>\n",
       "      <td>NaN</td>\n",
       "      <td>[0, 309, 308, 307, 301, 300, 299, 298, 296, 29...</td>\n",
       "      <td>366962.000000</td>\n",
       "      <td>0.618201</td>\n",
       "      <td>24.665204</td>\n",
       "    </tr>\n",
       "    <tr>\n",
       "      <th>2</th>\n",
       "      <td>kroB100</td>\n",
       "      <td>100</td>\n",
       "      <td>(0, 1, 2, 3, 4, 5, 6, 7, 8, 9, 10, 11, 12, 13,...</td>\n",
       "      <td>22141.0</td>\n",
       "      <td>None</td>\n",
       "      <td>NaN</td>\n",
       "      <td>NaN</td>\n",
       "      <td>NaN</td>\n",
       "      <td>[0, 94, 97, 11, 70, 26, 60, 34, 93, 56, 33, 6,...</td>\n",
       "      <td>29155.043704</td>\n",
       "      <td>0.003280</td>\n",
       "      <td>31.678983</td>\n",
       "    </tr>\n",
       "    <tr>\n",
       "      <th>3</th>\n",
       "      <td>d198</td>\n",
       "      <td>198</td>\n",
       "      <td>(0, 1, 2, 3, 4, 5, 6, 7, 8, 9, 10, 11, 12, 13,...</td>\n",
       "      <td>15780.0</td>\n",
       "      <td>None</td>\n",
       "      <td>NaN</td>\n",
       "      <td>NaN</td>\n",
       "      <td>NaN</td>\n",
       "      <td>[0, 1, 6, 5, 2, 3, 4, 7, 8, 9, 10, 11, 12, 40,...</td>\n",
       "      <td>18620.073812</td>\n",
       "      <td>0.017906</td>\n",
       "      <td>17.997933</td>\n",
       "    </tr>\n",
       "    <tr>\n",
       "      <th>4</th>\n",
       "      <td>kroA150</td>\n",
       "      <td>150</td>\n",
       "      <td>(0, 1, 2, 3, 4, 5, 6, 7, 8, 9, 10, 11, 12, 13,...</td>\n",
       "      <td>26524.0</td>\n",
       "      <td>None</td>\n",
       "      <td>NaN</td>\n",
       "      <td>NaN</td>\n",
       "      <td>NaN</td>\n",
       "      <td>[0, 129, 91, 7, 41, 121, 79, 30, 88, 132, 137,...</td>\n",
       "      <td>33609.866971</td>\n",
       "      <td>0.008766</td>\n",
       "      <td>26.714926</td>\n",
       "    </tr>\n",
       "  </tbody>\n",
       "</table>\n",
       "</div>"
      ],
      "text/plain": [
       "  tsp_problem  number_of_vertices  \\\n",
       "0       ch130                 130   \n",
       "1       gr666                 666   \n",
       "2     kroB100                 100   \n",
       "3        d198                 198   \n",
       "4     kroA150                 150   \n",
       "\n",
       "                                               graph  optimal_cost dp_tour  \\\n",
       "0  (0, 1, 2, 3, 4, 5, 6, 7, 8, 9, 10, 11, 12, 13,...        6110.0    None   \n",
       "1  (0, 1, 2, 3, 4, 5, 6, 7, 8, 9, 10, 11, 12, 13,...      294358.0    None   \n",
       "2  (0, 1, 2, 3, 4, 5, 6, 7, 8, 9, 10, 11, 12, 13,...       22141.0    None   \n",
       "3  (0, 1, 2, 3, 4, 5, 6, 7, 8, 9, 10, 11, 12, 13,...       15780.0    None   \n",
       "4  (0, 1, 2, 3, 4, 5, 6, 7, 8, 9, 10, 11, 12, 13,...       26524.0    None   \n",
       "\n",
       "   dp_cost  dp_execution_time  dp_deviation_from_optimal  \\\n",
       "0      NaN                NaN                        NaN   \n",
       "1      NaN                NaN                        NaN   \n",
       "2      NaN                NaN                        NaN   \n",
       "3      NaN                NaN                        NaN   \n",
       "4      NaN                NaN                        NaN   \n",
       "\n",
       "                                         greedy_tour    greedy_cost  \\\n",
       "0  [0, 40, 38, 70, 129, 49, 1, 117, 79, 45, 19, 3...    7575.286292   \n",
       "1  [0, 309, 308, 307, 301, 300, 299, 298, 296, 29...  366962.000000   \n",
       "2  [0, 94, 97, 11, 70, 26, 60, 34, 93, 56, 33, 6,...   29155.043704   \n",
       "3  [0, 1, 6, 5, 2, 3, 4, 7, 8, 9, 10, 11, 12, 40,...   18620.073812   \n",
       "4  [0, 129, 91, 7, 41, 121, 79, 30, 88, 132, 137,...   33609.866971   \n",
       "\n",
       "   greedy_execution_time  greedy_deviation_from_optimal  \n",
       "0               0.006576                      23.981772  \n",
       "1               0.618201                      24.665204  \n",
       "2               0.003280                      31.678983  \n",
       "3               0.017906                      17.997933  \n",
       "4               0.008766                      26.714926  "
      ]
     },
     "execution_count": 9,
     "metadata": {},
     "output_type": "execute_result"
    }
   ],
   "source": [
    "solve_tsp(df_loaded, GreedyTspSolver(), SOLUTION_GREEDY)\n",
    "\n",
    "df_loaded.head()"
   ]
  },
  {
   "cell_type": "markdown",
   "id": "3673d67c",
   "metadata": {},
   "source": [
    "## Christofides Algorithm"
   ]
  },
  {
   "cell_type": "code",
   "execution_count": 10,
   "id": "5af798b2",
   "metadata": {},
   "outputs": [
    {
     "name": "stdout",
     "output_type": "stream",
     "text": [
      "[1/72] Solving TSP using \"christofides\" for problem: ch130 with 130 vertices...\n",
      "Time taken to solve TSP using \"christofides\" for problem: ch130: 0.21114s\n",
      "=====================================\n",
      "[2/72] Solving TSP using \"christofides\" for problem: gr666 with 666 vertices...\n",
      "Time taken to solve TSP using \"christofides\" for problem: gr666: 23.55052s\n",
      "=====================================\n",
      "[3/72] Solving TSP using \"christofides\" for problem: kroB100 with 100 vertices...\n",
      "Time taken to solve TSP using \"christofides\" for problem: kroB100: 0.04566s\n",
      "=====================================\n",
      "[4/72] Solving TSP using \"christofides\" for problem: d198 with 198 vertices...\n",
      "Time taken to solve TSP using \"christofides\" for problem: d198: 0.75198s\n",
      "=====================================\n",
      "[5/72] Solving TSP using \"christofides\" for problem: kroA150 with 150 vertices...\n",
      "Time taken to solve TSP using \"christofides\" for problem: kroA150: 0.33111s\n",
      "=====================================\n",
      "[6/72] Solving TSP using \"christofides\" for problem: tsp225 with 225 vertices...\n",
      "Time taken to solve TSP using \"christofides\" for problem: tsp225: 0.56609s\n",
      "=====================================\n",
      "[7/72] Solving TSP using \"christofides\" for problem: fl417 with 417 vertices...\n",
      "Time taken to solve TSP using \"christofides\" for problem: fl417: 2.95495s\n",
      "=====================================\n",
      "[8/72] Solving TSP using \"christofides\" for problem: brg180 with 180 vertices...\n",
      "Time taken to solve TSP using \"christofides\" for problem: brg180: 0.03139s\n",
      "=====================================\n",
      "[9/72] Solving TSP using \"christofides\" for problem: brazil58 with 58 vertices...\n",
      "Time taken to solve TSP using \"christofides\" for problem: brazil58: 0.02177s\n",
      "=====================================\n",
      "[10/72] Solving TSP using \"christofides\" for problem: lin105 with 105 vertices...\n",
      "Time taken to solve TSP using \"christofides\" for problem: lin105: 0.07565s\n",
      "=====================================\n",
      "[11/72] Solving TSP using \"christofides\" for problem: gil262 with 262 vertices...\n",
      "Time taken to solve TSP using \"christofides\" for problem: gil262: 1.68364s\n",
      "=====================================\n",
      "[12/72] Solving TSP using \"christofides\" for problem: pcb442 with 442 vertices...\n",
      "Time taken to solve TSP using \"christofides\" for problem: pcb442: 6.46886s\n",
      "=====================================\n",
      "[13/72] Solving TSP using \"christofides\" for problem: rd100 with 100 vertices...\n",
      "Time taken to solve TSP using \"christofides\" for problem: rd100: 0.12509s\n",
      "=====================================\n",
      "[14/72] Solving TSP using \"christofides\" for problem: swiss42 with 42 vertices...\n",
      "Time taken to solve TSP using \"christofides\" for problem: swiss42: 0.00624s\n",
      "=====================================\n",
      "[15/72] Solving TSP using \"christofides\" for problem: pr439 with 439 vertices...\n",
      "Time taken to solve TSP using \"christofides\" for problem: pr439: 2.80747s\n",
      "=====================================\n",
      "[16/72] Solving TSP using \"christofides\" for problem: gr96 with 96 vertices...\n",
      "Time taken to solve TSP using \"christofides\" for problem: gr96: 0.06690s\n",
      "=====================================\n",
      "[17/72] Solving TSP using \"christofides\" for problem: gr229 with 229 vertices...\n",
      "Time taken to solve TSP using \"christofides\" for problem: gr229: 0.99905s\n",
      "=====================================\n",
      "[18/72] Solving TSP using \"christofides\" for problem: pr264 with 264 vertices...\n",
      "Time taken to solve TSP using \"christofides\" for problem: pr264: 0.45082s\n",
      "=====================================\n",
      "[19/72] Solving TSP using \"christofides\" for problem: pr76 with 76 vertices...\n",
      "Time taken to solve TSP using \"christofides\" for problem: pr76: 0.01804s\n",
      "=====================================\n",
      "[20/72] Solving TSP using \"christofides\" for problem: dantzig42 with 42 vertices...\n",
      "Time taken to solve TSP using \"christofides\" for problem: dantzig42: 0.01375s\n",
      "=====================================\n",
      "[21/72] Solving TSP using \"christofides\" for problem: kroB200 with 200 vertices...\n",
      "Time taken to solve TSP using \"christofides\" for problem: kroB200: 0.69171s\n",
      "=====================================\n",
      "[22/72] Solving TSP using \"christofides\" for problem: br17 with 17 vertices...\n",
      "Time taken to solve TSP using \"christofides\" for problem: br17: 0.00192s\n",
      "=====================================\n",
      "[23/72] Solving TSP using \"christofides\" for problem: hk48 with 48 vertices...\n",
      "Time taken to solve TSP using \"christofides\" for problem: hk48: 0.01132s\n",
      "=====================================\n",
      "[24/72] Solving TSP using \"christofides\" for problem: pr107 with 107 vertices...\n",
      "Time taken to solve TSP using \"christofides\" for problem: pr107: 0.08281s\n",
      "=====================================\n",
      "[25/72] Solving TSP using \"christofides\" for problem: ch150 with 150 vertices...\n",
      "Time taken to solve TSP using \"christofides\" for problem: ch150: 0.15103s\n",
      "=====================================\n",
      "[26/72] Solving TSP using \"christofides\" for problem: rd400 with 400 vertices...\n",
      "Time taken to solve TSP using \"christofides\" for problem: rd400: 5.89593s\n",
      "=====================================\n",
      "[27/72] Solving TSP using \"christofides\" for problem: gr202 with 202 vertices...\n",
      "Time taken to solve TSP using \"christofides\" for problem: gr202: 0.97720s\n",
      "=====================================\n",
      "[28/72] Solving TSP using \"christofides\" for problem: rat575 with 575 vertices...\n",
      "Time taken to solve TSP using \"christofides\" for problem: rat575: 16.73294s\n",
      "=====================================\n",
      "[29/72] Solving TSP using \"christofides\" for problem: kroD100 with 100 vertices...\n",
      "Time taken to solve TSP using \"christofides\" for problem: kroD100: 0.06909s\n",
      "=====================================\n",
      "[30/72] Solving TSP using \"christofides\" for problem: pr299 with 299 vertices...\n",
      "Time taken to solve TSP using \"christofides\" for problem: pr299: 1.69498s\n",
      "=====================================\n",
      "[31/72] Solving TSP using \"christofides\" for problem: u724 with 724 vertices...\n",
      "Time taken to solve TSP using \"christofides\" for problem: u724: 28.47160s\n",
      "=====================================\n",
      "[32/72] Solving TSP using \"christofides\" for problem: gr24 with 24 vertices...\n",
      "Time taken to solve TSP using \"christofides\" for problem: gr24: 0.00242s\n",
      "=====================================\n",
      "[33/72] Solving TSP using \"christofides\" for problem: ulysses16 with 16 vertices...\n",
      "Time taken to solve TSP using \"christofides\" for problem: ulysses16: 0.00055s\n",
      "=====================================\n",
      "[34/72] Solving TSP using \"christofides\" for problem: si535 with 535 vertices...\n",
      "Time taken to solve TSP using \"christofides\" for problem: si535: 9.28551s\n",
      "=====================================\n",
      "[35/72] Solving TSP using \"christofides\" for problem: gr21 with 21 vertices...\n",
      "Time taken to solve TSP using \"christofides\" for problem: gr21: 0.00111s\n",
      "=====================================\n",
      "[36/72] Solving TSP using \"christofides\" for problem: berlin52 with 52 vertices...\n",
      "Time taken to solve TSP using \"christofides\" for problem: berlin52: 0.01128s\n",
      "=====================================\n",
      "[37/72] Solving TSP using \"christofides\" for problem: bays29 with 29 vertices...\n",
      "Time taken to solve TSP using \"christofides\" for problem: bays29: 0.00612s\n",
      "=====================================\n",
      "[38/72] Solving TSP using \"christofides\" for problem: ts225 with 225 vertices...\n",
      "Time taken to solve TSP using \"christofides\" for problem: ts225: 0.20265s\n",
      "=====================================\n",
      "[39/72] Solving TSP using \"christofides\" for problem: eil101 with 101 vertices...\n",
      "Time taken to solve TSP using \"christofides\" for problem: eil101: 0.16967s\n",
      "=====================================\n",
      "[40/72] Solving TSP using \"christofides\" for problem: d657 with 657 vertices...\n",
      "Time taken to solve TSP using \"christofides\" for problem: d657: 18.99687s\n",
      "=====================================\n",
      "[41/72] Solving TSP using \"christofides\" for problem: rat783 with 783 vertices...\n",
      "Time taken to solve TSP using \"christofides\" for problem: rat783: 43.66133s\n",
      "=====================================\n",
      "[42/72] Solving TSP using \"christofides\" for problem: pr124 with 124 vertices...\n",
      "Time taken to solve TSP using \"christofides\" for problem: pr124: 0.03683s\n",
      "=====================================\n",
      "[43/72] Solving TSP using \"christofides\" for problem: p654 with 654 vertices...\n",
      "Time taken to solve TSP using \"christofides\" for problem: p654: 2.55547s\n",
      "=====================================\n",
      "[44/72] Solving TSP using \"christofides\" for problem: gr431 with 431 vertices...\n",
      "Time taken to solve TSP using \"christofides\" for problem: gr431: 7.66740s\n",
      "=====================================\n",
      "[45/72] Solving TSP using \"christofides\" for problem: kroC100 with 100 vertices...\n",
      "Time taken to solve TSP using \"christofides\" for problem: kroC100: 0.08206s\n",
      "=====================================\n",
      "[46/72] Solving TSP using \"christofides\" for problem: ali535 with 535 vertices...\n",
      "Time taken to solve TSP using \"christofides\" for problem: ali535: 11.84286s\n",
      "=====================================\n",
      "[47/72] Solving TSP using \"christofides\" for problem: ulysses22 with 22 vertices...\n",
      "Time taken to solve TSP using \"christofides\" for problem: ulysses22: 0.00162s\n",
      "=====================================\n",
      "[48/72] Solving TSP using \"christofides\" for problem: kroB150 with 150 vertices...\n",
      "Time taken to solve TSP using \"christofides\" for problem: kroB150: 0.33508s\n",
      "=====================================\n",
      "[49/72] Solving TSP using \"christofides\" for problem: kroA100 with 100 vertices...\n",
      "Time taken to solve TSP using \"christofides\" for problem: kroA100: 0.08040s\n",
      "=====================================\n",
      "[50/72] Solving TSP using \"christofides\" for problem: pr136 with 136 vertices...\n",
      "Time taken to solve TSP using \"christofides\" for problem: pr136: 0.04611s\n",
      "=====================================\n",
      "[51/72] Solving TSP using \"christofides\" for problem: rat195 with 195 vertices...\n",
      "Time taken to solve TSP using \"christofides\" for problem: rat195: 0.49573s\n",
      "=====================================\n",
      "[52/72] Solving TSP using \"christofides\" for problem: dsj1000 with 1000 vertices...\n",
      "Time taken to solve TSP using \"christofides\" for problem: dsj1000: 79.20855s\n",
      "=====================================\n",
      "[53/72] Solving TSP using \"christofides\" for problem: d493 with 493 vertices...\n",
      "Time taken to solve TSP using \"christofides\" for problem: d493: 8.27499s\n",
      "=====================================\n",
      "[54/72] Solving TSP using \"christofides\" for problem: gr17 with 17 vertices...\n",
      "Time taken to solve TSP using \"christofides\" for problem: gr17: 0.00089s\n",
      "=====================================\n",
      "[55/72] Solving TSP using \"christofides\" for problem: pr144 with 144 vertices...\n",
      "Time taken to solve TSP using \"christofides\" for problem: pr144: 0.02661s\n",
      "=====================================\n",
      "[56/72] Solving TSP using \"christofides\" for problem: kroE100 with 100 vertices...\n",
      "Time taken to solve TSP using \"christofides\" for problem: kroE100: 0.10973s\n",
      "=====================================\n",
      "[57/72] Solving TSP using \"christofides\" for problem: pr226 with 226 vertices...\n",
      "Time taken to solve TSP using \"christofides\" for problem: pr226: 0.64373s\n",
      "=====================================\n",
      "[58/72] Solving TSP using \"christofides\" for problem: si175 with 175 vertices...\n",
      "Time taken to solve TSP using \"christofides\" for problem: si175: 0.30021s\n",
      "=====================================\n",
      "[59/72] Solving TSP using \"christofides\" for problem: bayg29 with 29 vertices...\n",
      "Time taken to solve TSP using \"christofides\" for problem: bayg29: 0.00375s\n",
      "=====================================\n",
      "[60/72] Solving TSP using \"christofides\" for problem: pa561 with 561 vertices...\n",
      "Time taken to solve TSP using \"christofides\" for problem: pa561: 13.05654s\n",
      "=====================================\n",
      "[61/72] Solving TSP using \"christofides\" for problem: gr120 with 120 vertices...\n",
      "Time taken to solve TSP using \"christofides\" for problem: gr120: 0.21539s\n",
      "=====================================\n",
      "[62/72] Solving TSP using \"christofides\" for problem: pr152 with 152 vertices...\n",
      "Time taken to solve TSP using \"christofides\" for problem: pr152: 0.03593s\n",
      "=====================================\n",
      "[63/72] Solving TSP using \"christofides\" for problem: gr137 with 137 vertices...\n",
      "Time taken to solve TSP using \"christofides\" for problem: gr137: 0.09601s\n",
      "=====================================\n",
      "[64/72] Solving TSP using \"christofides\" for problem: u574 with 574 vertices...\n",
      "Time taken to solve TSP using \"christofides\" for problem: u574: 13.11939s\n",
      "=====================================\n",
      "[65/72] Solving TSP using \"christofides\" for problem: kroA200 with 200 vertices...\n",
      "Time taken to solve TSP using \"christofides\" for problem: kroA200: 0.70355s\n",
      "=====================================\n",
      "[66/72] Solving TSP using \"christofides\" for problem: burma14 with 14 vertices...\n",
      "Time taken to solve TSP using \"christofides\" for problem: burma14: 0.00056s\n",
      "=====================================\n",
      "[67/72] Solving TSP using \"christofides\" for problem: u159 with 159 vertices...\n",
      "Time taken to solve TSP using \"christofides\" for problem: u159: 0.26668s\n",
      "=====================================\n",
      "[68/72] Solving TSP using \"christofides\" for problem: st70 with 70 vertices...\n",
      "Time taken to solve TSP using \"christofides\" for problem: st70: 0.03712s\n",
      "=====================================\n",
      "[69/72] Solving TSP using \"christofides\" for problem: rat99 with 99 vertices...\n",
      "Time taken to solve TSP using \"christofides\" for problem: rat99: 0.06101s\n",
      "=====================================\n",
      "[70/72] Solving TSP using \"christofides\" for problem: att48 with 48 vertices...\n",
      "Time taken to solve TSP using \"christofides\" for problem: att48: 0.02603s\n",
      "=====================================\n",
      "[71/72] Solving TSP using \"christofides\" for problem: lin318 with 318 vertices...\n",
      "Time taken to solve TSP using \"christofides\" for problem: lin318: 2.39265s\n",
      "=====================================\n",
      "[72/72] Solving TSP using \"christofides\" for problem: gr48 with 48 vertices...\n",
      "Time taken to solve TSP using \"christofides\" for problem: gr48: 0.01635s\n",
      "=====================================\n"
     ]
    },
    {
     "data": {
      "text/html": [
       "<div>\n",
       "<style scoped>\n",
       "    .dataframe tbody tr th:only-of-type {\n",
       "        vertical-align: middle;\n",
       "    }\n",
       "\n",
       "    .dataframe tbody tr th {\n",
       "        vertical-align: top;\n",
       "    }\n",
       "\n",
       "    .dataframe thead th {\n",
       "        text-align: right;\n",
       "    }\n",
       "</style>\n",
       "<table border=\"1\" class=\"dataframe\">\n",
       "  <thead>\n",
       "    <tr style=\"text-align: right;\">\n",
       "      <th></th>\n",
       "      <th>tsp_problem</th>\n",
       "      <th>number_of_vertices</th>\n",
       "      <th>graph</th>\n",
       "      <th>optimal_cost</th>\n",
       "      <th>dp_tour</th>\n",
       "      <th>dp_cost</th>\n",
       "      <th>dp_execution_time</th>\n",
       "      <th>dp_deviation_from_optimal</th>\n",
       "      <th>greedy_tour</th>\n",
       "      <th>greedy_cost</th>\n",
       "      <th>greedy_execution_time</th>\n",
       "      <th>greedy_deviation_from_optimal</th>\n",
       "      <th>christofides_tour</th>\n",
       "      <th>christofides_cost</th>\n",
       "      <th>christofides_execution_time</th>\n",
       "      <th>christofides_deviation_from_optimal</th>\n",
       "    </tr>\n",
       "  </thead>\n",
       "  <tbody>\n",
       "    <tr>\n",
       "      <th>0</th>\n",
       "      <td>ch130</td>\n",
       "      <td>130</td>\n",
       "      <td>(0, 1, 2, 3, 4, 5, 6, 7, 8, 9, 10, 11, 12, 13,...</td>\n",
       "      <td>6110.0</td>\n",
       "      <td>None</td>\n",
       "      <td>NaN</td>\n",
       "      <td>NaN</td>\n",
       "      <td>NaN</td>\n",
       "      <td>[0, 40, 38, 70, 129, 49, 1, 117, 79, 45, 19, 3...</td>\n",
       "      <td>7575.286292</td>\n",
       "      <td>0.006576</td>\n",
       "      <td>23.981772</td>\n",
       "      <td>[0, 48, 52, 119, 59, 50, 41, 43, 39, 46, 36, 9...</td>\n",
       "      <td>1.784470e+04</td>\n",
       "      <td>0.211144</td>\n",
       "      <td>192.057244</td>\n",
       "    </tr>\n",
       "    <tr>\n",
       "      <th>1</th>\n",
       "      <td>gr666</td>\n",
       "      <td>666</td>\n",
       "      <td>(0, 1, 2, 3, 4, 5, 6, 7, 8, 9, 10, 11, 12, 13,...</td>\n",
       "      <td>294358.0</td>\n",
       "      <td>None</td>\n",
       "      <td>NaN</td>\n",
       "      <td>NaN</td>\n",
       "      <td>NaN</td>\n",
       "      <td>[0, 309, 308, 307, 301, 300, 299, 298, 296, 29...</td>\n",
       "      <td>366962.000000</td>\n",
       "      <td>0.618201</td>\n",
       "      <td>24.665204</td>\n",
       "      <td>[0, 665, 107, 108, 109, 110, 111, 449, 461, 46...</td>\n",
       "      <td>1.750465e+06</td>\n",
       "      <td>23.550516</td>\n",
       "      <td>494.672134</td>\n",
       "    </tr>\n",
       "    <tr>\n",
       "      <th>2</th>\n",
       "      <td>kroB100</td>\n",
       "      <td>100</td>\n",
       "      <td>(0, 1, 2, 3, 4, 5, 6, 7, 8, 9, 10, 11, 12, 13,...</td>\n",
       "      <td>22141.0</td>\n",
       "      <td>None</td>\n",
       "      <td>NaN</td>\n",
       "      <td>NaN</td>\n",
       "      <td>NaN</td>\n",
       "      <td>[0, 94, 97, 11, 70, 26, 60, 34, 93, 56, 33, 6,...</td>\n",
       "      <td>29155.043704</td>\n",
       "      <td>0.003280</td>\n",
       "      <td>31.678983</td>\n",
       "      <td>[0, 89, 20, 16, 77, 12, 37, 19, 79, 29, 50, 47...</td>\n",
       "      <td>5.950318e+04</td>\n",
       "      <td>0.045662</td>\n",
       "      <td>168.746557</td>\n",
       "    </tr>\n",
       "    <tr>\n",
       "      <th>3</th>\n",
       "      <td>d198</td>\n",
       "      <td>198</td>\n",
       "      <td>(0, 1, 2, 3, 4, 5, 6, 7, 8, 9, 10, 11, 12, 13,...</td>\n",
       "      <td>15780.0</td>\n",
       "      <td>None</td>\n",
       "      <td>NaN</td>\n",
       "      <td>NaN</td>\n",
       "      <td>NaN</td>\n",
       "      <td>[0, 1, 6, 5, 2, 3, 4, 7, 8, 9, 10, 11, 12, 40,...</td>\n",
       "      <td>18620.073812</td>\n",
       "      <td>0.017906</td>\n",
       "      <td>17.997933</td>\n",
       "      <td>[0, 119, 123, 124, 168, 61, 52, 136, 143, 144,...</td>\n",
       "      <td>7.218672e+04</td>\n",
       "      <td>0.751976</td>\n",
       "      <td>357.457031</td>\n",
       "    </tr>\n",
       "    <tr>\n",
       "      <th>4</th>\n",
       "      <td>kroA150</td>\n",
       "      <td>150</td>\n",
       "      <td>(0, 1, 2, 3, 4, 5, 6, 7, 8, 9, 10, 11, 12, 13,...</td>\n",
       "      <td>26524.0</td>\n",
       "      <td>None</td>\n",
       "      <td>NaN</td>\n",
       "      <td>NaN</td>\n",
       "      <td>NaN</td>\n",
       "      <td>[0, 129, 91, 7, 41, 121, 79, 30, 88, 132, 137,...</td>\n",
       "      <td>33609.866971</td>\n",
       "      <td>0.008766</td>\n",
       "      <td>26.714926</td>\n",
       "      <td>[0, 70, 40, 65, 64, 123, 117, 127, 42, 96, 142...</td>\n",
       "      <td>1.203042e+05</td>\n",
       "      <td>0.331112</td>\n",
       "      <td>353.567357</td>\n",
       "    </tr>\n",
       "  </tbody>\n",
       "</table>\n",
       "</div>"
      ],
      "text/plain": [
       "  tsp_problem  number_of_vertices  \\\n",
       "0       ch130                 130   \n",
       "1       gr666                 666   \n",
       "2     kroB100                 100   \n",
       "3        d198                 198   \n",
       "4     kroA150                 150   \n",
       "\n",
       "                                               graph  optimal_cost dp_tour  \\\n",
       "0  (0, 1, 2, 3, 4, 5, 6, 7, 8, 9, 10, 11, 12, 13,...        6110.0    None   \n",
       "1  (0, 1, 2, 3, 4, 5, 6, 7, 8, 9, 10, 11, 12, 13,...      294358.0    None   \n",
       "2  (0, 1, 2, 3, 4, 5, 6, 7, 8, 9, 10, 11, 12, 13,...       22141.0    None   \n",
       "3  (0, 1, 2, 3, 4, 5, 6, 7, 8, 9, 10, 11, 12, 13,...       15780.0    None   \n",
       "4  (0, 1, 2, 3, 4, 5, 6, 7, 8, 9, 10, 11, 12, 13,...       26524.0    None   \n",
       "\n",
       "   dp_cost  dp_execution_time  dp_deviation_from_optimal  \\\n",
       "0      NaN                NaN                        NaN   \n",
       "1      NaN                NaN                        NaN   \n",
       "2      NaN                NaN                        NaN   \n",
       "3      NaN                NaN                        NaN   \n",
       "4      NaN                NaN                        NaN   \n",
       "\n",
       "                                         greedy_tour    greedy_cost  \\\n",
       "0  [0, 40, 38, 70, 129, 49, 1, 117, 79, 45, 19, 3...    7575.286292   \n",
       "1  [0, 309, 308, 307, 301, 300, 299, 298, 296, 29...  366962.000000   \n",
       "2  [0, 94, 97, 11, 70, 26, 60, 34, 93, 56, 33, 6,...   29155.043704   \n",
       "3  [0, 1, 6, 5, 2, 3, 4, 7, 8, 9, 10, 11, 12, 40,...   18620.073812   \n",
       "4  [0, 129, 91, 7, 41, 121, 79, 30, 88, 132, 137,...   33609.866971   \n",
       "\n",
       "   greedy_execution_time  greedy_deviation_from_optimal  \\\n",
       "0               0.006576                      23.981772   \n",
       "1               0.618201                      24.665204   \n",
       "2               0.003280                      31.678983   \n",
       "3               0.017906                      17.997933   \n",
       "4               0.008766                      26.714926   \n",
       "\n",
       "                                   christofides_tour  christofides_cost  \\\n",
       "0  [0, 48, 52, 119, 59, 50, 41, 43, 39, 46, 36, 9...       1.784470e+04   \n",
       "1  [0, 665, 107, 108, 109, 110, 111, 449, 461, 46...       1.750465e+06   \n",
       "2  [0, 89, 20, 16, 77, 12, 37, 19, 79, 29, 50, 47...       5.950318e+04   \n",
       "3  [0, 119, 123, 124, 168, 61, 52, 136, 143, 144,...       7.218672e+04   \n",
       "4  [0, 70, 40, 65, 64, 123, 117, 127, 42, 96, 142...       1.203042e+05   \n",
       "\n",
       "   christofides_execution_time  christofides_deviation_from_optimal  \n",
       "0                     0.211144                           192.057244  \n",
       "1                    23.550516                           494.672134  \n",
       "2                     0.045662                           168.746557  \n",
       "3                     0.751976                           357.457031  \n",
       "4                     0.331112                           353.567357  "
      ]
     },
     "execution_count": 10,
     "metadata": {},
     "output_type": "execute_result"
    }
   ],
   "source": [
    "solve_tsp(df_loaded, ChristofidesTspSolver(), SOLUTION_CHRISTOFIDES)\n",
    "\n",
    "df_loaded.head()"
   ]
  },
  {
   "cell_type": "markdown",
   "id": "bdc2a271",
   "metadata": {},
   "source": [
    "## Simulated Annealing"
   ]
  },
  {
   "cell_type": "code",
   "execution_count": 11,
   "id": "0624842b",
   "metadata": {},
   "outputs": [
    {
     "name": "stdout",
     "output_type": "stream",
     "text": [
      "[1/72] Solving TSP using \"sa\" for problem: ch130 with 130 vertices...\n",
      "Time taken to solve TSP using \"sa\" for problem: ch130: 0.08755s\n",
      "=====================================\n",
      "[2/72] Solving TSP using \"sa\" for problem: gr666 with 666 vertices...\n",
      "Time taken to solve TSP using \"sa\" for problem: gr666: 0.26529s\n",
      "=====================================\n",
      "[3/72] Solving TSP using \"sa\" for problem: kroB100 with 100 vertices...\n",
      "Time taken to solve TSP using \"sa\" for problem: kroB100: 0.03429s\n",
      "=====================================\n",
      "[4/72] Solving TSP using \"sa\" for problem: d198 with 198 vertices...\n",
      "Time taken to solve TSP using \"sa\" for problem: d198: 0.06924s\n",
      "=====================================\n",
      "[5/72] Solving TSP using \"sa\" for problem: kroA150 with 150 vertices...\n",
      "Time taken to solve TSP using \"sa\" for problem: kroA150: 0.05183s\n",
      "=====================================\n",
      "[6/72] Solving TSP using \"sa\" for problem: tsp225 with 225 vertices...\n",
      "Time taken to solve TSP using \"sa\" for problem: tsp225: 0.07899s\n",
      "=====================================\n",
      "[7/72] Solving TSP using \"sa\" for problem: fl417 with 417 vertices...\n",
      "Time taken to solve TSP using \"sa\" for problem: fl417: 0.15859s\n",
      "=====================================\n",
      "[8/72] Solving TSP using \"sa\" for problem: brg180 with 180 vertices...\n",
      "Time taken to solve TSP using \"sa\" for problem: brg180: 0.06245s\n",
      "=====================================\n",
      "[9/72] Solving TSP using \"sa\" for problem: brazil58 with 58 vertices...\n",
      "Time taken to solve TSP using \"sa\" for problem: brazil58: 0.01997s\n",
      "=====================================\n",
      "[10/72] Solving TSP using \"sa\" for problem: lin105 with 105 vertices...\n",
      "Time taken to solve TSP using \"sa\" for problem: lin105: 0.03725s\n",
      "=====================================\n",
      "[11/72] Solving TSP using \"sa\" for problem: gil262 with 262 vertices...\n",
      "Time taken to solve TSP using \"sa\" for problem: gil262: 0.09278s\n",
      "=====================================\n",
      "[12/72] Solving TSP using \"sa\" for problem: pcb442 with 442 vertices...\n",
      "Time taken to solve TSP using \"sa\" for problem: pcb442: 0.17335s\n",
      "=====================================\n",
      "[13/72] Solving TSP using \"sa\" for problem: rd100 with 100 vertices...\n",
      "Time taken to solve TSP using \"sa\" for problem: rd100: 0.03918s\n",
      "=====================================\n",
      "[14/72] Solving TSP using \"sa\" for problem: swiss42 with 42 vertices...\n",
      "Time taken to solve TSP using \"sa\" for problem: swiss42: 0.01491s\n",
      "=====================================\n",
      "[15/72] Solving TSP using \"sa\" for problem: pr439 with 439 vertices...\n",
      "Time taken to solve TSP using \"sa\" for problem: pr439: 0.16514s\n",
      "=====================================\n",
      "[16/72] Solving TSP using \"sa\" for problem: gr96 with 96 vertices...\n",
      "Time taken to solve TSP using \"sa\" for problem: gr96: 0.03277s\n",
      "=====================================\n",
      "[17/72] Solving TSP using \"sa\" for problem: gr229 with 229 vertices...\n",
      "Time taken to solve TSP using \"sa\" for problem: gr229: 0.08216s\n",
      "=====================================\n",
      "[18/72] Solving TSP using \"sa\" for problem: pr264 with 264 vertices...\n",
      "Time taken to solve TSP using \"sa\" for problem: pr264: 0.09471s\n",
      "=====================================\n",
      "[19/72] Solving TSP using \"sa\" for problem: pr76 with 76 vertices...\n",
      "Time taken to solve TSP using \"sa\" for problem: pr76: 0.02612s\n",
      "=====================================\n",
      "[20/72] Solving TSP using \"sa\" for problem: dantzig42 with 42 vertices...\n",
      "Time taken to solve TSP using \"sa\" for problem: dantzig42: 0.01482s\n",
      "=====================================\n",
      "[21/72] Solving TSP using \"sa\" for problem: kroB200 with 200 vertices...\n",
      "Time taken to solve TSP using \"sa\" for problem: kroB200: 0.07066s\n",
      "=====================================\n",
      "[22/72] Solving TSP using \"sa\" for problem: br17 with 17 vertices...\n",
      "Time taken to solve TSP using \"sa\" for problem: br17: 0.00722s\n",
      "=====================================\n",
      "[23/72] Solving TSP using \"sa\" for problem: hk48 with 48 vertices...\n",
      "Time taken to solve TSP using \"sa\" for problem: hk48: 0.02562s\n",
      "=====================================\n",
      "[24/72] Solving TSP using \"sa\" for problem: pr107 with 107 vertices...\n",
      "Time taken to solve TSP using \"sa\" for problem: pr107: 0.03675s\n",
      "=====================================\n",
      "[25/72] Solving TSP using \"sa\" for problem: ch150 with 150 vertices...\n",
      "Time taken to solve TSP using \"sa\" for problem: ch150: 0.05158s\n",
      "=====================================\n",
      "[26/72] Solving TSP using \"sa\" for problem: rd400 with 400 vertices...\n",
      "Time taken to solve TSP using \"sa\" for problem: rd400: 0.15440s\n",
      "=====================================\n",
      "[27/72] Solving TSP using \"sa\" for problem: gr202 with 202 vertices...\n",
      "Time taken to solve TSP using \"sa\" for problem: gr202: 0.09403s\n",
      "=====================================\n",
      "[28/72] Solving TSP using \"sa\" for problem: rat575 with 575 vertices...\n",
      "Time taken to solve TSP using \"sa\" for problem: rat575: 0.22176s\n",
      "=====================================\n",
      "[29/72] Solving TSP using \"sa\" for problem: kroD100 with 100 vertices...\n",
      "Time taken to solve TSP using \"sa\" for problem: kroD100: 0.03447s\n",
      "=====================================\n",
      "[30/72] Solving TSP using \"sa\" for problem: pr299 with 299 vertices...\n",
      "Time taken to solve TSP using \"sa\" for problem: pr299: 0.10742s\n",
      "=====================================\n",
      "[31/72] Solving TSP using \"sa\" for problem: u724 with 724 vertices...\n",
      "Time taken to solve TSP using \"sa\" for problem: u724: 0.31782s\n",
      "=====================================\n",
      "[32/72] Solving TSP using \"sa\" for problem: gr24 with 24 vertices...\n",
      "Time taken to solve TSP using \"sa\" for problem: gr24: 0.00935s\n",
      "=====================================\n",
      "[33/72] Solving TSP using \"sa\" for problem: ulysses16 with 16 vertices...\n",
      "Time taken to solve TSP using \"sa\" for problem: ulysses16: 0.00673s\n",
      "=====================================\n",
      "[34/72] Solving TSP using \"sa\" for problem: si535 with 535 vertices...\n",
      "Time taken to solve TSP using \"sa\" for problem: si535: 0.20615s\n",
      "=====================================\n",
      "[35/72] Solving TSP using \"sa\" for problem: gr21 with 21 vertices...\n",
      "Time taken to solve TSP using \"sa\" for problem: gr21: 0.00827s\n",
      "=====================================\n",
      "[36/72] Solving TSP using \"sa\" for problem: berlin52 with 52 vertices...\n",
      "Time taken to solve TSP using \"sa\" for problem: berlin52: 0.01808s\n",
      "=====================================\n",
      "[37/72] Solving TSP using \"sa\" for problem: bays29 with 29 vertices...\n",
      "Time taken to solve TSP using \"sa\" for problem: bays29: 0.01071s\n",
      "=====================================\n",
      "[38/72] Solving TSP using \"sa\" for problem: ts225 with 225 vertices...\n",
      "Time taken to solve TSP using \"sa\" for problem: ts225: 0.08043s\n",
      "=====================================\n",
      "[39/72] Solving TSP using \"sa\" for problem: eil101 with 101 vertices...\n",
      "Time taken to solve TSP using \"sa\" for problem: eil101: 0.03470s\n",
      "=====================================\n",
      "[40/72] Solving TSP using \"sa\" for problem: d657 with 657 vertices...\n",
      "Time taken to solve TSP using \"sa\" for problem: d657: 0.27497s\n",
      "=====================================\n",
      "[41/72] Solving TSP using \"sa\" for problem: rat783 with 783 vertices...\n",
      "Time taken to solve TSP using \"sa\" for problem: rat783: 0.36135s\n",
      "=====================================\n",
      "[42/72] Solving TSP using \"sa\" for problem: pr124 with 124 vertices...\n",
      "Time taken to solve TSP using \"sa\" for problem: pr124: 0.04261s\n",
      "=====================================\n",
      "[43/72] Solving TSP using \"sa\" for problem: p654 with 654 vertices...\n",
      "Time taken to solve TSP using \"sa\" for problem: p654: 0.26136s\n",
      "=====================================\n",
      "[44/72] Solving TSP using \"sa\" for problem: gr431 with 431 vertices...\n",
      "Time taken to solve TSP using \"sa\" for problem: gr431: 0.16175s\n",
      "=====================================\n",
      "[45/72] Solving TSP using \"sa\" for problem: kroC100 with 100 vertices...\n",
      "Time taken to solve TSP using \"sa\" for problem: kroC100: 0.03423s\n",
      "=====================================\n",
      "[46/72] Solving TSP using \"sa\" for problem: ali535 with 535 vertices...\n",
      "Time taken to solve TSP using \"sa\" for problem: ali535: 0.20631s\n",
      "=====================================\n",
      "[47/72] Solving TSP using \"sa\" for problem: ulysses22 with 22 vertices...\n",
      "Time taken to solve TSP using \"sa\" for problem: ulysses22: 0.00872s\n",
      "=====================================\n",
      "[48/72] Solving TSP using \"sa\" for problem: kroB150 with 150 vertices...\n",
      "Time taken to solve TSP using \"sa\" for problem: kroB150: 0.05243s\n",
      "=====================================\n",
      "[49/72] Solving TSP using \"sa\" for problem: kroA100 with 100 vertices...\n",
      "Time taken to solve TSP using \"sa\" for problem: kroA100: 0.03417s\n",
      "=====================================\n",
      "[50/72] Solving TSP using \"sa\" for problem: pr136 with 136 vertices...\n",
      "Time taken to solve TSP using \"sa\" for problem: pr136: 0.04674s\n",
      "=====================================\n",
      "[51/72] Solving TSP using \"sa\" for problem: rat195 with 195 vertices...\n",
      "Time taken to solve TSP using \"sa\" for problem: rat195: 0.06794s\n",
      "=====================================\n",
      "[52/72] Solving TSP using \"sa\" for problem: dsj1000 with 1000 vertices...\n",
      "Time taken to solve TSP using \"sa\" for problem: dsj1000: 0.48927s\n",
      "=====================================\n",
      "[53/72] Solving TSP using \"sa\" for problem: d493 with 493 vertices...\n",
      "Time taken to solve TSP using \"sa\" for problem: d493: 0.20478s\n",
      "=====================================\n",
      "[54/72] Solving TSP using \"sa\" for problem: gr17 with 17 vertices...\n",
      "Time taken to solve TSP using \"sa\" for problem: gr17: 0.00710s\n",
      "=====================================\n",
      "[55/72] Solving TSP using \"sa\" for problem: pr144 with 144 vertices...\n",
      "Time taken to solve TSP using \"sa\" for problem: pr144: 0.05027s\n",
      "=====================================\n",
      "[56/72] Solving TSP using \"sa\" for problem: kroE100 with 100 vertices...\n",
      "Time taken to solve TSP using \"sa\" for problem: kroE100: 0.03729s\n",
      "=====================================\n",
      "[57/72] Solving TSP using \"sa\" for problem: pr226 with 226 vertices...\n",
      "Time taken to solve TSP using \"sa\" for problem: pr226: 0.07835s\n",
      "=====================================\n",
      "[58/72] Solving TSP using \"sa\" for problem: si175 with 175 vertices...\n",
      "Time taken to solve TSP using \"sa\" for problem: si175: 0.06058s\n",
      "=====================================\n",
      "[59/72] Solving TSP using \"sa\" for problem: bayg29 with 29 vertices...\n",
      "Time taken to solve TSP using \"sa\" for problem: bayg29: 0.01073s\n",
      "=====================================\n",
      "[60/72] Solving TSP using \"sa\" for problem: pa561 with 561 vertices...\n",
      "Time taken to solve TSP using \"sa\" for problem: pa561: 0.21374s\n",
      "=====================================\n",
      "[61/72] Solving TSP using \"sa\" for problem: gr120 with 120 vertices...\n",
      "Time taken to solve TSP using \"sa\" for problem: gr120: 0.04205s\n",
      "=====================================\n",
      "[62/72] Solving TSP using \"sa\" for problem: pr152 with 152 vertices...\n",
      "Time taken to solve TSP using \"sa\" for problem: pr152: 0.05239s\n",
      "=====================================\n",
      "[63/72] Solving TSP using \"sa\" for problem: gr137 with 137 vertices...\n",
      "Time taken to solve TSP using \"sa\" for problem: gr137: 0.04722s\n",
      "=====================================\n",
      "[64/72] Solving TSP using \"sa\" for problem: u574 with 574 vertices...\n",
      "Time taken to solve TSP using \"sa\" for problem: u574: 0.21953s\n",
      "=====================================\n",
      "[65/72] Solving TSP using \"sa\" for problem: kroA200 with 200 vertices...\n",
      "Time taken to solve TSP using \"sa\" for problem: kroA200: 0.06928s\n",
      "=====================================\n",
      "[66/72] Solving TSP using \"sa\" for problem: burma14 with 14 vertices...\n",
      "Time taken to solve TSP using \"sa\" for problem: burma14: 0.00608s\n",
      "=====================================\n",
      "[67/72] Solving TSP using \"sa\" for problem: u159 with 159 vertices...\n",
      "Time taken to solve TSP using \"sa\" for problem: u159: 0.05550s\n",
      "=====================================\n",
      "[68/72] Solving TSP using \"sa\" for problem: st70 with 70 vertices...\n",
      "Time taken to solve TSP using \"sa\" for problem: st70: 0.02434s\n",
      "=====================================\n",
      "[69/72] Solving TSP using \"sa\" for problem: rat99 with 99 vertices...\n",
      "Time taken to solve TSP using \"sa\" for problem: rat99: 0.03394s\n",
      "=====================================\n",
      "[70/72] Solving TSP using \"sa\" for problem: att48 with 48 vertices...\n",
      "Time taken to solve TSP using \"sa\" for problem: att48: 0.01672s\n",
      "=====================================\n",
      "[71/72] Solving TSP using \"sa\" for problem: lin318 with 318 vertices...\n",
      "Time taken to solve TSP using \"sa\" for problem: lin318: 0.11750s\n",
      "=====================================\n",
      "[72/72] Solving TSP using \"sa\" for problem: gr48 with 48 vertices...\n",
      "Time taken to solve TSP using \"sa\" for problem: gr48: 0.01703s\n",
      "=====================================\n"
     ]
    },
    {
     "data": {
      "text/html": [
       "<div>\n",
       "<style scoped>\n",
       "    .dataframe tbody tr th:only-of-type {\n",
       "        vertical-align: middle;\n",
       "    }\n",
       "\n",
       "    .dataframe tbody tr th {\n",
       "        vertical-align: top;\n",
       "    }\n",
       "\n",
       "    .dataframe thead th {\n",
       "        text-align: right;\n",
       "    }\n",
       "</style>\n",
       "<table border=\"1\" class=\"dataframe\">\n",
       "  <thead>\n",
       "    <tr style=\"text-align: right;\">\n",
       "      <th></th>\n",
       "      <th>tsp_problem</th>\n",
       "      <th>number_of_vertices</th>\n",
       "      <th>graph</th>\n",
       "      <th>optimal_cost</th>\n",
       "      <th>dp_tour</th>\n",
       "      <th>dp_cost</th>\n",
       "      <th>dp_execution_time</th>\n",
       "      <th>dp_deviation_from_optimal</th>\n",
       "      <th>greedy_tour</th>\n",
       "      <th>greedy_cost</th>\n",
       "      <th>greedy_execution_time</th>\n",
       "      <th>greedy_deviation_from_optimal</th>\n",
       "      <th>christofides_tour</th>\n",
       "      <th>christofides_cost</th>\n",
       "      <th>christofides_execution_time</th>\n",
       "      <th>christofides_deviation_from_optimal</th>\n",
       "      <th>sa_tour</th>\n",
       "      <th>sa_cost</th>\n",
       "      <th>sa_execution_time</th>\n",
       "      <th>sa_deviation_from_optimal</th>\n",
       "    </tr>\n",
       "  </thead>\n",
       "  <tbody>\n",
       "    <tr>\n",
       "      <th>0</th>\n",
       "      <td>ch130</td>\n",
       "      <td>130</td>\n",
       "      <td>(0, 1, 2, 3, 4, 5, 6, 7, 8, 9, 10, 11, 12, 13,...</td>\n",
       "      <td>6110.0</td>\n",
       "      <td>None</td>\n",
       "      <td>NaN</td>\n",
       "      <td>NaN</td>\n",
       "      <td>NaN</td>\n",
       "      <td>[0, 40, 38, 70, 129, 49, 1, 117, 79, 45, 19, 3...</td>\n",
       "      <td>7575.286292</td>\n",
       "      <td>0.006576</td>\n",
       "      <td>23.981772</td>\n",
       "      <td>[0, 48, 52, 119, 59, 50, 41, 43, 39, 46, 36, 9...</td>\n",
       "      <td>1.784470e+04</td>\n",
       "      <td>0.211144</td>\n",
       "      <td>192.057244</td>\n",
       "      <td>[65, 125, 84, 27, 90, 56, 55, 117, 30, 18, 15,...</td>\n",
       "      <td>2.362042e+04</td>\n",
       "      <td>0.087551</td>\n",
       "      <td>286.586172</td>\n",
       "    </tr>\n",
       "    <tr>\n",
       "      <th>1</th>\n",
       "      <td>gr666</td>\n",
       "      <td>666</td>\n",
       "      <td>(0, 1, 2, 3, 4, 5, 6, 7, 8, 9, 10, 11, 12, 13,...</td>\n",
       "      <td>294358.0</td>\n",
       "      <td>None</td>\n",
       "      <td>NaN</td>\n",
       "      <td>NaN</td>\n",
       "      <td>NaN</td>\n",
       "      <td>[0, 309, 308, 307, 301, 300, 299, 298, 296, 29...</td>\n",
       "      <td>366962.000000</td>\n",
       "      <td>0.618201</td>\n",
       "      <td>24.665204</td>\n",
       "      <td>[0, 665, 107, 108, 109, 110, 111, 449, 461, 46...</td>\n",
       "      <td>1.750465e+06</td>\n",
       "      <td>23.550516</td>\n",
       "      <td>494.672134</td>\n",
       "      <td>[393, 396, 530, 653, 647, 416, 310, 400, 231, ...</td>\n",
       "      <td>3.519361e+06</td>\n",
       "      <td>0.265293</td>\n",
       "      <td>1095.605691</td>\n",
       "    </tr>\n",
       "    <tr>\n",
       "      <th>2</th>\n",
       "      <td>kroB100</td>\n",
       "      <td>100</td>\n",
       "      <td>(0, 1, 2, 3, 4, 5, 6, 7, 8, 9, 10, 11, 12, 13,...</td>\n",
       "      <td>22141.0</td>\n",
       "      <td>None</td>\n",
       "      <td>NaN</td>\n",
       "      <td>NaN</td>\n",
       "      <td>NaN</td>\n",
       "      <td>[0, 94, 97, 11, 70, 26, 60, 34, 93, 56, 33, 6,...</td>\n",
       "      <td>29155.043704</td>\n",
       "      <td>0.003280</td>\n",
       "      <td>31.678983</td>\n",
       "      <td>[0, 89, 20, 16, 77, 12, 37, 19, 79, 29, 50, 47...</td>\n",
       "      <td>5.950318e+04</td>\n",
       "      <td>0.045662</td>\n",
       "      <td>168.746557</td>\n",
       "      <td>[6, 19, 10, 90, 2, 98, 93, 35, 44, 47, 81, 32,...</td>\n",
       "      <td>6.474740e+04</td>\n",
       "      <td>0.034291</td>\n",
       "      <td>192.432125</td>\n",
       "    </tr>\n",
       "    <tr>\n",
       "      <th>3</th>\n",
       "      <td>d198</td>\n",
       "      <td>198</td>\n",
       "      <td>(0, 1, 2, 3, 4, 5, 6, 7, 8, 9, 10, 11, 12, 13,...</td>\n",
       "      <td>15780.0</td>\n",
       "      <td>None</td>\n",
       "      <td>NaN</td>\n",
       "      <td>NaN</td>\n",
       "      <td>NaN</td>\n",
       "      <td>[0, 1, 6, 5, 2, 3, 4, 7, 8, 9, 10, 11, 12, 40,...</td>\n",
       "      <td>18620.073812</td>\n",
       "      <td>0.017906</td>\n",
       "      <td>17.997933</td>\n",
       "      <td>[0, 119, 123, 124, 168, 61, 52, 136, 143, 144,...</td>\n",
       "      <td>7.218672e+04</td>\n",
       "      <td>0.751976</td>\n",
       "      <td>357.457031</td>\n",
       "      <td>[131, 152, 147, 158, 89, 23, 21, 13, 3, 1, 41,...</td>\n",
       "      <td>8.280767e+04</td>\n",
       "      <td>0.069244</td>\n",
       "      <td>424.763458</td>\n",
       "    </tr>\n",
       "    <tr>\n",
       "      <th>4</th>\n",
       "      <td>kroA150</td>\n",
       "      <td>150</td>\n",
       "      <td>(0, 1, 2, 3, 4, 5, 6, 7, 8, 9, 10, 11, 12, 13,...</td>\n",
       "      <td>26524.0</td>\n",
       "      <td>None</td>\n",
       "      <td>NaN</td>\n",
       "      <td>NaN</td>\n",
       "      <td>NaN</td>\n",
       "      <td>[0, 129, 91, 7, 41, 121, 79, 30, 88, 132, 137,...</td>\n",
       "      <td>33609.866971</td>\n",
       "      <td>0.008766</td>\n",
       "      <td>26.714926</td>\n",
       "      <td>[0, 70, 40, 65, 64, 123, 117, 127, 42, 96, 142...</td>\n",
       "      <td>1.203042e+05</td>\n",
       "      <td>0.331112</td>\n",
       "      <td>353.567357</td>\n",
       "      <td>[112, 9, 52, 133, 115, 4, 146, 56, 91, 55, 105...</td>\n",
       "      <td>1.159725e+05</td>\n",
       "      <td>0.051831</td>\n",
       "      <td>337.236057</td>\n",
       "    </tr>\n",
       "  </tbody>\n",
       "</table>\n",
       "</div>"
      ],
      "text/plain": [
       "  tsp_problem  number_of_vertices  \\\n",
       "0       ch130                 130   \n",
       "1       gr666                 666   \n",
       "2     kroB100                 100   \n",
       "3        d198                 198   \n",
       "4     kroA150                 150   \n",
       "\n",
       "                                               graph  optimal_cost dp_tour  \\\n",
       "0  (0, 1, 2, 3, 4, 5, 6, 7, 8, 9, 10, 11, 12, 13,...        6110.0    None   \n",
       "1  (0, 1, 2, 3, 4, 5, 6, 7, 8, 9, 10, 11, 12, 13,...      294358.0    None   \n",
       "2  (0, 1, 2, 3, 4, 5, 6, 7, 8, 9, 10, 11, 12, 13,...       22141.0    None   \n",
       "3  (0, 1, 2, 3, 4, 5, 6, 7, 8, 9, 10, 11, 12, 13,...       15780.0    None   \n",
       "4  (0, 1, 2, 3, 4, 5, 6, 7, 8, 9, 10, 11, 12, 13,...       26524.0    None   \n",
       "\n",
       "   dp_cost  dp_execution_time  dp_deviation_from_optimal  \\\n",
       "0      NaN                NaN                        NaN   \n",
       "1      NaN                NaN                        NaN   \n",
       "2      NaN                NaN                        NaN   \n",
       "3      NaN                NaN                        NaN   \n",
       "4      NaN                NaN                        NaN   \n",
       "\n",
       "                                         greedy_tour    greedy_cost  \\\n",
       "0  [0, 40, 38, 70, 129, 49, 1, 117, 79, 45, 19, 3...    7575.286292   \n",
       "1  [0, 309, 308, 307, 301, 300, 299, 298, 296, 29...  366962.000000   \n",
       "2  [0, 94, 97, 11, 70, 26, 60, 34, 93, 56, 33, 6,...   29155.043704   \n",
       "3  [0, 1, 6, 5, 2, 3, 4, 7, 8, 9, 10, 11, 12, 40,...   18620.073812   \n",
       "4  [0, 129, 91, 7, 41, 121, 79, 30, 88, 132, 137,...   33609.866971   \n",
       "\n",
       "   greedy_execution_time  greedy_deviation_from_optimal  \\\n",
       "0               0.006576                      23.981772   \n",
       "1               0.618201                      24.665204   \n",
       "2               0.003280                      31.678983   \n",
       "3               0.017906                      17.997933   \n",
       "4               0.008766                      26.714926   \n",
       "\n",
       "                                   christofides_tour  christofides_cost  \\\n",
       "0  [0, 48, 52, 119, 59, 50, 41, 43, 39, 46, 36, 9...       1.784470e+04   \n",
       "1  [0, 665, 107, 108, 109, 110, 111, 449, 461, 46...       1.750465e+06   \n",
       "2  [0, 89, 20, 16, 77, 12, 37, 19, 79, 29, 50, 47...       5.950318e+04   \n",
       "3  [0, 119, 123, 124, 168, 61, 52, 136, 143, 144,...       7.218672e+04   \n",
       "4  [0, 70, 40, 65, 64, 123, 117, 127, 42, 96, 142...       1.203042e+05   \n",
       "\n",
       "   christofides_execution_time  christofides_deviation_from_optimal  \\\n",
       "0                     0.211144                           192.057244   \n",
       "1                    23.550516                           494.672134   \n",
       "2                     0.045662                           168.746557   \n",
       "3                     0.751976                           357.457031   \n",
       "4                     0.331112                           353.567357   \n",
       "\n",
       "                                             sa_tour       sa_cost  \\\n",
       "0  [65, 125, 84, 27, 90, 56, 55, 117, 30, 18, 15,...  2.362042e+04   \n",
       "1  [393, 396, 530, 653, 647, 416, 310, 400, 231, ...  3.519361e+06   \n",
       "2  [6, 19, 10, 90, 2, 98, 93, 35, 44, 47, 81, 32,...  6.474740e+04   \n",
       "3  [131, 152, 147, 158, 89, 23, 21, 13, 3, 1, 41,...  8.280767e+04   \n",
       "4  [112, 9, 52, 133, 115, 4, 146, 56, 91, 55, 105...  1.159725e+05   \n",
       "\n",
       "   sa_execution_time  sa_deviation_from_optimal  \n",
       "0           0.087551                 286.586172  \n",
       "1           0.265293                1095.605691  \n",
       "2           0.034291                 192.432125  \n",
       "3           0.069244                 424.763458  \n",
       "4           0.051831                 337.236057  "
      ]
     },
     "execution_count": 11,
     "metadata": {},
     "output_type": "execute_result"
    }
   ],
   "source": [
    "solve_tsp(df_loaded, SimulatedAnnealingTspSolver(), SOLUTION_SIMULATED_ANNEALING)\n",
    "\n",
    "df_loaded.head()"
   ]
  },
  {
   "cell_type": "markdown",
   "id": "eb5e6739",
   "metadata": {},
   "source": [
    "## Lin-Kernighan Heuristic"
   ]
  },
  {
   "cell_type": "code",
   "execution_count": 12,
   "id": "8bc1b8ab",
   "metadata": {},
   "outputs": [],
   "source": [
    "# solve_tsp(df_loaded, LinKernighanSolver(), SOLUTION_LIN_KERNIGHAN)\n",
    "\n",
    "# df_loaded.head()"
   ]
  },
  {
   "cell_type": "markdown",
   "id": "d5c732f5",
   "metadata": {},
   "source": [
    "## Genetic Algorithm"
   ]
  },
  {
   "cell_type": "code",
   "execution_count": 13,
   "id": "7796a3dd",
   "metadata": {},
   "outputs": [],
   "source": [
    "# solve_tsp(df_loaded, GeneticAlgorithmSolver(), SOLUTION_GENETIC)\n",
    "\n",
    "# df_loaded.head()"
   ]
  },
  {
   "cell_type": "markdown",
   "id": "53228326",
   "metadata": {},
   "source": [
    "## Ant Colony Optimization (ACO)"
   ]
  },
  {
   "cell_type": "code",
   "execution_count": 14,
   "id": "5daad753",
   "metadata": {},
   "outputs": [],
   "source": [
    "# solve_tsp(df_loaded, AntColonySolver(), SOLUTION_ANT_COLONY)\n",
    "\n",
    "# df_loaded.head()"
   ]
  },
  {
   "cell_type": "markdown",
   "id": "85fd30f5",
   "metadata": {},
   "source": [
    "# Performance Analysis"
   ]
  },
  {
   "cell_type": "markdown",
   "id": "001c1c41",
   "metadata": {},
   "source": [
    "## Summary Statistics"
   ]
  },
  {
   "cell_type": "code",
   "execution_count": 15,
   "id": "66d27f9d",
   "metadata": {},
   "outputs": [
    {
     "data": {
      "text/html": [
       "<div>\n",
       "<style scoped>\n",
       "    .dataframe tbody tr th:only-of-type {\n",
       "        vertical-align: middle;\n",
       "    }\n",
       "\n",
       "    .dataframe tbody tr th {\n",
       "        vertical-align: top;\n",
       "    }\n",
       "\n",
       "    .dataframe thead th {\n",
       "        text-align: right;\n",
       "    }\n",
       "</style>\n",
       "<table border=\"1\" class=\"dataframe\">\n",
       "  <thead>\n",
       "    <tr style=\"text-align: right;\">\n",
       "      <th></th>\n",
       "      <th>dp_cost</th>\n",
       "      <th>dp_execution_time</th>\n",
       "      <th>dp_deviation_from_optimal</th>\n",
       "      <th>greedy_cost</th>\n",
       "      <th>greedy_execution_time</th>\n",
       "      <th>greedy_deviation_from_optimal</th>\n",
       "      <th>christofides_cost</th>\n",
       "      <th>christofides_execution_time</th>\n",
       "      <th>christofides_deviation_from_optimal</th>\n",
       "      <th>sa_cost</th>\n",
       "      <th>sa_execution_time</th>\n",
       "      <th>sa_deviation_from_optimal</th>\n",
       "    </tr>\n",
       "  </thead>\n",
       "  <tbody>\n",
       "    <tr>\n",
       "      <th>count</th>\n",
       "      <td>4.000000</td>\n",
       "      <td>4.000000</td>\n",
       "      <td>4.0</td>\n",
       "      <td>7.200000e+01</td>\n",
       "      <td>72.000000</td>\n",
       "      <td>72.000000</td>\n",
       "      <td>7.200000e+01</td>\n",
       "      <td>72.000000</td>\n",
       "      <td>72.000000</td>\n",
       "      <td>7.200000e+01</td>\n",
       "      <td>72.000000</td>\n",
       "      <td>72.000000</td>\n",
       "    </tr>\n",
       "    <tr>\n",
       "      <th>mean</th>\n",
       "      <td>3076.500000</td>\n",
       "      <td>3.788762</td>\n",
       "      <td>0.0</td>\n",
       "      <td>3.876467e+05</td>\n",
       "      <td>0.121134</td>\n",
       "      <td>33.035781</td>\n",
       "      <td>2.784668e+06</td>\n",
       "      <td>4.306075</td>\n",
       "      <td>440.456731</td>\n",
       "      <td>5.796343e+06</td>\n",
       "      <td>0.090331</td>\n",
       "      <td>634.907499</td>\n",
       "    </tr>\n",
       "    <tr>\n",
       "      <th>std</th>\n",
       "      <td>2862.257093</td>\n",
       "      <td>2.703037</td>\n",
       "      <td>0.0</td>\n",
       "      <td>2.898035e+06</td>\n",
       "      <td>0.292460</td>\n",
       "      <td>61.879420</td>\n",
       "      <td>2.218057e+07</td>\n",
       "      <td>11.666878</td>\n",
       "      <td>1207.993402</td>\n",
       "      <td>4.673931e+07</td>\n",
       "      <td>0.096024</td>\n",
       "      <td>1326.856133</td>\n",
       "    </tr>\n",
       "    <tr>\n",
       "      <th>min</th>\n",
       "      <td>39.000000</td>\n",
       "      <td>0.498868</td>\n",
       "      <td>0.0</td>\n",
       "      <td>9.200000e+01</td>\n",
       "      <td>0.000046</td>\n",
       "      <td>3.496388</td>\n",
       "      <td>1.570000e+02</td>\n",
       "      <td>0.000551</td>\n",
       "      <td>20.061233</td>\n",
       "      <td>4.600000e+01</td>\n",
       "      <td>0.006082</td>\n",
       "      <td>0.391213</td>\n",
       "    </tr>\n",
       "    <tr>\n",
       "      <th>25%</th>\n",
       "      <td>1573.500000</td>\n",
       "      <td>2.113508</td>\n",
       "      <td>0.0</td>\n",
       "      <td>8.039782e+03</td>\n",
       "      <td>0.002538</td>\n",
       "      <td>20.969953</td>\n",
       "      <td>1.497330e+04</td>\n",
       "      <td>0.030195</td>\n",
       "      <td>164.270783</td>\n",
       "      <td>1.722648e+04</td>\n",
       "      <td>0.031108</td>\n",
       "      <td>146.260160</td>\n",
       "    </tr>\n",
       "    <tr>\n",
       "      <th>50%</th>\n",
       "      <td>2704.000000</td>\n",
       "      <td>4.304398</td>\n",
       "      <td>0.0</td>\n",
       "      <td>2.690342e+04</td>\n",
       "      <td>0.008734</td>\n",
       "      <td>24.778315</td>\n",
       "      <td>8.036258e+04</td>\n",
       "      <td>0.186158</td>\n",
       "      <td>264.614001</td>\n",
       "      <td>9.939008e+04</td>\n",
       "      <td>0.052109</td>\n",
       "      <td>320.756283</td>\n",
       "    </tr>\n",
       "    <tr>\n",
       "      <th>75%</th>\n",
       "      <td>4207.000000</td>\n",
       "      <td>5.979652</td>\n",
       "      <td>0.0</td>\n",
       "      <td>5.849190e+04</td>\n",
       "      <td>0.060800</td>\n",
       "      <td>28.145511</td>\n",
       "      <td>2.228753e+05</td>\n",
       "      <td>1.869396</td>\n",
       "      <td>440.318647</td>\n",
       "      <td>3.358382e+05</td>\n",
       "      <td>0.109943</td>\n",
       "      <td>734.956855</td>\n",
       "    </tr>\n",
       "    <tr>\n",
       "      <th>max</th>\n",
       "      <td>6859.000000</td>\n",
       "      <td>6.047385</td>\n",
       "      <td>0.0</td>\n",
       "      <td>2.463096e+07</td>\n",
       "      <td>1.981584</td>\n",
       "      <td>533.846154</td>\n",
       "      <td>1.883642e+08</td>\n",
       "      <td>79.208555</td>\n",
       "      <td>10410.256410</td>\n",
       "      <td>3.968577e+08</td>\n",
       "      <td>0.489268</td>\n",
       "      <td>10768.717949</td>\n",
       "    </tr>\n",
       "  </tbody>\n",
       "</table>\n",
       "</div>"
      ],
      "text/plain": [
       "           dp_cost  dp_execution_time  dp_deviation_from_optimal  \\\n",
       "count     4.000000           4.000000                        4.0   \n",
       "mean   3076.500000           3.788762                        0.0   \n",
       "std    2862.257093           2.703037                        0.0   \n",
       "min      39.000000           0.498868                        0.0   \n",
       "25%    1573.500000           2.113508                        0.0   \n",
       "50%    2704.000000           4.304398                        0.0   \n",
       "75%    4207.000000           5.979652                        0.0   \n",
       "max    6859.000000           6.047385                        0.0   \n",
       "\n",
       "        greedy_cost  greedy_execution_time  greedy_deviation_from_optimal  \\\n",
       "count  7.200000e+01              72.000000                      72.000000   \n",
       "mean   3.876467e+05               0.121134                      33.035781   \n",
       "std    2.898035e+06               0.292460                      61.879420   \n",
       "min    9.200000e+01               0.000046                       3.496388   \n",
       "25%    8.039782e+03               0.002538                      20.969953   \n",
       "50%    2.690342e+04               0.008734                      24.778315   \n",
       "75%    5.849190e+04               0.060800                      28.145511   \n",
       "max    2.463096e+07               1.981584                     533.846154   \n",
       "\n",
       "       christofides_cost  christofides_execution_time  \\\n",
       "count       7.200000e+01                    72.000000   \n",
       "mean        2.784668e+06                     4.306075   \n",
       "std         2.218057e+07                    11.666878   \n",
       "min         1.570000e+02                     0.000551   \n",
       "25%         1.497330e+04                     0.030195   \n",
       "50%         8.036258e+04                     0.186158   \n",
       "75%         2.228753e+05                     1.869396   \n",
       "max         1.883642e+08                    79.208555   \n",
       "\n",
       "       christofides_deviation_from_optimal       sa_cost  sa_execution_time  \\\n",
       "count                            72.000000  7.200000e+01          72.000000   \n",
       "mean                            440.456731  5.796343e+06           0.090331   \n",
       "std                            1207.993402  4.673931e+07           0.096024   \n",
       "min                              20.061233  4.600000e+01           0.006082   \n",
       "25%                             164.270783  1.722648e+04           0.031108   \n",
       "50%                             264.614001  9.939008e+04           0.052109   \n",
       "75%                             440.318647  3.358382e+05           0.109943   \n",
       "max                           10410.256410  3.968577e+08           0.489268   \n",
       "\n",
       "       sa_deviation_from_optimal  \n",
       "count                  72.000000  \n",
       "mean                  634.907499  \n",
       "std                  1326.856133  \n",
       "min                     0.391213  \n",
       "25%                   146.260160  \n",
       "50%                   320.756283  \n",
       "75%                   734.956855  \n",
       "max                 10768.717949  "
      ]
     },
     "execution_count": 15,
     "metadata": {},
     "output_type": "execute_result"
    }
   ],
   "source": [
    "# Create the list of column names dynamically\n",
    "metric_columns = []\n",
    "for solution in ALL_SOLUTIONS:\n",
    "\tmetric_columns.append(f'{solution}_cost')\n",
    "\tmetric_columns.append(f'{solution}_execution_time')\n",
    "\tmetric_columns.append(f'{solution}_deviation_from_optimal')\n",
    "\n",
    "# Display summary statistics\n",
    "df_loaded[metric_columns].describe()"
   ]
  },
  {
   "cell_type": "markdown",
   "id": "be40e23d",
   "metadata": {},
   "source": [
    "## Cost Analysis"
   ]
  },
  {
   "cell_type": "code",
   "execution_count": 16,
   "id": "71aae133",
   "metadata": {},
   "outputs": [
    {
     "data": {
      "application/vnd.plotly.v1+json": {
       "config": {
        "plotlyServerURL": "https://plot.ly"
       },
       "data": [
        {
         "connectgaps": true,
         "line": {
          "dash": "solid"
         },
         "marker": {
          "size": 8
         },
         "mode": "lines+markers",
         "name": "Optimal",
         "type": "scatter",
         "x": [
          14,
          16,
          17,
          21,
          22,
          24,
          29,
          42,
          48,
          52,
          58,
          70,
          76,
          96,
          99,
          100,
          101,
          105,
          107,
          120,
          124,
          130,
          136,
          137,
          144,
          150,
          152,
          159,
          175,
          180,
          195,
          198,
          200,
          202,
          225,
          226,
          229,
          262,
          264,
          299,
          318,
          400,
          417,
          431,
          439,
          442,
          493,
          535,
          561,
          574,
          575,
          654,
          657,
          666,
          724,
          783,
          1000
         ],
         "y": [
          3323,
          6859,
          1062,
          2707,
          7013,
          1272,
          1815,
          986,
          9045,
          7542,
          25395,
          675,
          108159,
          55209,
          1211,
          19240.666666666668,
          629,
          14379,
          44303,
          6942,
          59030,
          6110,
          96772,
          69853,
          58537,
          19727.333333333332,
          73682,
          42080,
          21407,
          1950,
          2323,
          15780,
          29402.5,
          40160,
          65279.5,
          80369,
          134602,
          2378,
          49135,
          48191,
          42029,
          15281,
          11861,
          171414,
          107217,
          50778,
          35002,
          125394.5,
          2763,
          36905,
          6773,
          34643,
          48912,
          294358,
          41910,
          8806,
          18659688
         ]
        },
        {
         "connectgaps": true,
         "line": {
          "dash": "dash"
         },
         "marker": {
          "size": 8
         },
         "mode": "lines+markers",
         "name": "Dp",
         "type": "scatter",
         "x": [
          14,
          16,
          17,
          21,
          22,
          24,
          29,
          42,
          48,
          52,
          58,
          70,
          76,
          96,
          99,
          100,
          101,
          105,
          107,
          120,
          124,
          130,
          136,
          137,
          144,
          150,
          152,
          159,
          175,
          180,
          195,
          198,
          200,
          202,
          225,
          226,
          229,
          262,
          264,
          299,
          318,
          400,
          417,
          431,
          439,
          442,
          493,
          535,
          561,
          574,
          575,
          654,
          657,
          666,
          724,
          783,
          1000
         ],
         "y": [
          3323,
          6859,
          1062,
          null,
          null,
          null,
          null,
          null,
          null,
          null,
          null,
          null,
          null,
          null,
          null,
          null,
          null,
          null,
          null,
          null,
          null,
          null,
          null,
          null,
          null,
          null,
          null,
          null,
          null,
          null,
          null,
          null,
          null,
          null,
          null,
          null,
          null,
          null,
          null,
          null,
          null,
          null,
          null,
          null,
          null,
          null,
          null,
          null,
          null,
          null,
          null,
          null,
          null,
          null,
          null,
          null,
          null
         ]
        },
        {
         "connectgaps": true,
         "line": {
          "dash": "solid"
         },
         "marker": {
          "size": 8
         },
         "mode": "lines+markers",
         "name": "Greedy",
         "type": "scatter",
         "x": [
          14,
          16,
          17,
          21,
          22,
          24,
          29,
          42,
          48,
          52,
          58,
          70,
          76,
          96,
          99,
          100,
          101,
          105,
          107,
          120,
          124,
          130,
          136,
          137,
          144,
          150,
          152,
          159,
          175,
          180,
          195,
          198,
          200,
          202,
          225,
          226,
          229,
          262,
          264,
          299,
          318,
          400,
          417,
          431,
          439,
          442,
          493,
          535,
          561,
          574,
          575,
          654,
          657,
          666,
          724,
          783,
          1000
         ],
         "y": [
          4048,
          9988,
          1139.5,
          3333,
          10586,
          1553,
          2131.5,
          1293,
          10713.333333333334,
          8980.91827932919,
          30774,
          805.5312008437772,
          153461.92250215416,
          70916,
          1564.724855363279,
          24469.601204075738,
          825.2423227277447,
          20362.75741726528,
          46678.15415698672,
          9351,
          69299.42521616325,
          7575.286291798959,
          120777.85961075767,
          93912,
          61650.71979547381,
          24876.743730011163,
          85702.95365681671,
          54669.026414963366,
          22263,
          12360,
          2761.9573600471713,
          18620.07381201942,
          36389.9995575676,
          49336,
          78661.27373589535,
          94685.45419690569,
          162430,
          3241.4668367219524,
          58022.856841092,
          59899.009675340254,
          54033.57677328341,
          19168.051518770302,
          15114.118639134173,
          210069,
          131282.09211543194,
          61984.04725691383,
          43646.376133929276,
          151635.5,
          3422,
          46881.86653725993,
          8449.318332290888,
          43411.559314767685,
          62176.401032322225,
          366962,
          55223.20398825188,
          11255.070244962233,
          24630960.10147313
         ]
        },
        {
         "connectgaps": true,
         "line": {
          "dash": "solid"
         },
         "marker": {
          "size": 8
         },
         "mode": "lines+markers",
         "name": "Christofides",
         "type": "scatter",
         "x": [
          14,
          16,
          17,
          21,
          22,
          24,
          29,
          42,
          48,
          52,
          58,
          70,
          76,
          96,
          99,
          100,
          101,
          105,
          107,
          120,
          124,
          130,
          136,
          137,
          144,
          150,
          152,
          159,
          175,
          180,
          195,
          198,
          200,
          202,
          225,
          226,
          229,
          262,
          264,
          299,
          318,
          400,
          417,
          431,
          439,
          442,
          493,
          535,
          561,
          574,
          575,
          654,
          657,
          666,
          724,
          783,
          1000
         ],
         "y": [
          5413,
          8235,
          1698.5,
          4407,
          10283,
          2353,
          3797,
          2219,
          22510,
          16352.851666158305,
          55149,
          1947.764030295517,
          235527.67187619934,
          163176,
          3839.8926549177463,
          64870.54102474888,
          1992.9295457862322,
          47458.328859976624,
          239954.8106981189,
          27622,
          178742.12434029306,
          17844.69760478809,
          260276.27880528936,
          206471,
          154704.74583750838,
          85284.48190987816,
          160594.24204066338,
          166035.64705498866,
          32169,
          204950,
          8632.915230240274,
          72186.71951746724,
          139988.87548327007,
          128723,
          174808.48748060782,
          497096.38980922033,
          561390,
          10749.376976792488,
          312456.36856707407,
          262372.80384852574,
          218836.1191097217,
          83554.93140930441,
          123822.46486703069,
          968337,
          510888.35628153826,
          296401.8657349013,
          161969.48408307988,
          661366.5,
          14917,
          234992.75990234513,
          43809.89539693788,
          316419.0582460919,
          290334.82386590703,
          1750465,
          309512.293533152,
          68186.5703146874,
          188364161.51326963
         ]
        },
        {
         "connectgaps": true,
         "line": {
          "dash": "solid"
         },
         "marker": {
          "size": 8
         },
         "mode": "lines+markers",
         "name": "Sa",
         "type": "scatter",
         "x": [
          14,
          16,
          17,
          21,
          22,
          24,
          29,
          42,
          48,
          52,
          58,
          70,
          76,
          96,
          99,
          100,
          101,
          105,
          107,
          120,
          124,
          130,
          136,
          137,
          144,
          150,
          152,
          159,
          175,
          180,
          195,
          198,
          200,
          202,
          225,
          226,
          229,
          262,
          264,
          299,
          318,
          400,
          417,
          431,
          439,
          442,
          493,
          535,
          561,
          574,
          575,
          654,
          657,
          666,
          724,
          783,
          1000
         ],
         "y": [
          3336,
          6974,
          1104.5,
          3420,
          7500,
          1658,
          2555.5,
          1714.5,
          15200,
          12183.2272671548,
          45576,
          1741.2700530509908,
          246844.04207411286,
          159546,
          4093.973781934633,
          63120.10189493374,
          1937.4602065569384,
          50793.59559851364,
          194805.62945526058,
          23754,
          310853.9640088472,
          23620.41509130788,
          364363.21900523675,
          276542,
          360391.45910281845,
          86578.45925972464,
          448610.09099927684,
          199501.8764449035,
          35849,
          211940,
          11213.82913104792,
          82807.6737446188,
          166365.83274592247,
          148913,
          422975.5950241629,
          798734.0769210439,
          692925,
          15901.926378575063,
          543450.0694009478,
          401739.2430357651,
          327653.7310399259,
          132780.08481918377,
          255414.04573383724,
          1438007,
          1098445.8428074415,
          468145.85047267884,
          279309.56294433563,
          1228629,
          26206,
          436016.7255319369,
          75390.94614989933,
          1130187.8625770148,
          552097.7217959986,
          3519361,
          595711.6542337323,
          122018.95837155684,
          396857692.9142177
         ]
        }
       ],
       "layout": {
        "hovermode": "x unified",
        "legend": {
         "title": {
          "text": "Solutions"
         }
        },
        "template": {
         "data": {
          "bar": [
           {
            "error_x": {
             "color": "#2a3f5f"
            },
            "error_y": {
             "color": "#2a3f5f"
            },
            "marker": {
             "line": {
              "color": "#E5ECF6",
              "width": 0.5
             },
             "pattern": {
              "fillmode": "overlay",
              "size": 10,
              "solidity": 0.2
             }
            },
            "type": "bar"
           }
          ],
          "barpolar": [
           {
            "marker": {
             "line": {
              "color": "#E5ECF6",
              "width": 0.5
             },
             "pattern": {
              "fillmode": "overlay",
              "size": 10,
              "solidity": 0.2
             }
            },
            "type": "barpolar"
           }
          ],
          "carpet": [
           {
            "aaxis": {
             "endlinecolor": "#2a3f5f",
             "gridcolor": "white",
             "linecolor": "white",
             "minorgridcolor": "white",
             "startlinecolor": "#2a3f5f"
            },
            "baxis": {
             "endlinecolor": "#2a3f5f",
             "gridcolor": "white",
             "linecolor": "white",
             "minorgridcolor": "white",
             "startlinecolor": "#2a3f5f"
            },
            "type": "carpet"
           }
          ],
          "choropleth": [
           {
            "colorbar": {
             "outlinewidth": 0,
             "ticks": ""
            },
            "type": "choropleth"
           }
          ],
          "contour": [
           {
            "colorbar": {
             "outlinewidth": 0,
             "ticks": ""
            },
            "colorscale": [
             [
              0,
              "#0d0887"
             ],
             [
              0.1111111111111111,
              "#46039f"
             ],
             [
              0.2222222222222222,
              "#7201a8"
             ],
             [
              0.3333333333333333,
              "#9c179e"
             ],
             [
              0.4444444444444444,
              "#bd3786"
             ],
             [
              0.5555555555555556,
              "#d8576b"
             ],
             [
              0.6666666666666666,
              "#ed7953"
             ],
             [
              0.7777777777777778,
              "#fb9f3a"
             ],
             [
              0.8888888888888888,
              "#fdca26"
             ],
             [
              1,
              "#f0f921"
             ]
            ],
            "type": "contour"
           }
          ],
          "contourcarpet": [
           {
            "colorbar": {
             "outlinewidth": 0,
             "ticks": ""
            },
            "type": "contourcarpet"
           }
          ],
          "heatmap": [
           {
            "colorbar": {
             "outlinewidth": 0,
             "ticks": ""
            },
            "colorscale": [
             [
              0,
              "#0d0887"
             ],
             [
              0.1111111111111111,
              "#46039f"
             ],
             [
              0.2222222222222222,
              "#7201a8"
             ],
             [
              0.3333333333333333,
              "#9c179e"
             ],
             [
              0.4444444444444444,
              "#bd3786"
             ],
             [
              0.5555555555555556,
              "#d8576b"
             ],
             [
              0.6666666666666666,
              "#ed7953"
             ],
             [
              0.7777777777777778,
              "#fb9f3a"
             ],
             [
              0.8888888888888888,
              "#fdca26"
             ],
             [
              1,
              "#f0f921"
             ]
            ],
            "type": "heatmap"
           }
          ],
          "heatmapgl": [
           {
            "colorbar": {
             "outlinewidth": 0,
             "ticks": ""
            },
            "colorscale": [
             [
              0,
              "#0d0887"
             ],
             [
              0.1111111111111111,
              "#46039f"
             ],
             [
              0.2222222222222222,
              "#7201a8"
             ],
             [
              0.3333333333333333,
              "#9c179e"
             ],
             [
              0.4444444444444444,
              "#bd3786"
             ],
             [
              0.5555555555555556,
              "#d8576b"
             ],
             [
              0.6666666666666666,
              "#ed7953"
             ],
             [
              0.7777777777777778,
              "#fb9f3a"
             ],
             [
              0.8888888888888888,
              "#fdca26"
             ],
             [
              1,
              "#f0f921"
             ]
            ],
            "type": "heatmapgl"
           }
          ],
          "histogram": [
           {
            "marker": {
             "pattern": {
              "fillmode": "overlay",
              "size": 10,
              "solidity": 0.2
             }
            },
            "type": "histogram"
           }
          ],
          "histogram2d": [
           {
            "colorbar": {
             "outlinewidth": 0,
             "ticks": ""
            },
            "colorscale": [
             [
              0,
              "#0d0887"
             ],
             [
              0.1111111111111111,
              "#46039f"
             ],
             [
              0.2222222222222222,
              "#7201a8"
             ],
             [
              0.3333333333333333,
              "#9c179e"
             ],
             [
              0.4444444444444444,
              "#bd3786"
             ],
             [
              0.5555555555555556,
              "#d8576b"
             ],
             [
              0.6666666666666666,
              "#ed7953"
             ],
             [
              0.7777777777777778,
              "#fb9f3a"
             ],
             [
              0.8888888888888888,
              "#fdca26"
             ],
             [
              1,
              "#f0f921"
             ]
            ],
            "type": "histogram2d"
           }
          ],
          "histogram2dcontour": [
           {
            "colorbar": {
             "outlinewidth": 0,
             "ticks": ""
            },
            "colorscale": [
             [
              0,
              "#0d0887"
             ],
             [
              0.1111111111111111,
              "#46039f"
             ],
             [
              0.2222222222222222,
              "#7201a8"
             ],
             [
              0.3333333333333333,
              "#9c179e"
             ],
             [
              0.4444444444444444,
              "#bd3786"
             ],
             [
              0.5555555555555556,
              "#d8576b"
             ],
             [
              0.6666666666666666,
              "#ed7953"
             ],
             [
              0.7777777777777778,
              "#fb9f3a"
             ],
             [
              0.8888888888888888,
              "#fdca26"
             ],
             [
              1,
              "#f0f921"
             ]
            ],
            "type": "histogram2dcontour"
           }
          ],
          "mesh3d": [
           {
            "colorbar": {
             "outlinewidth": 0,
             "ticks": ""
            },
            "type": "mesh3d"
           }
          ],
          "parcoords": [
           {
            "line": {
             "colorbar": {
              "outlinewidth": 0,
              "ticks": ""
             }
            },
            "type": "parcoords"
           }
          ],
          "pie": [
           {
            "automargin": true,
            "type": "pie"
           }
          ],
          "scatter": [
           {
            "fillpattern": {
             "fillmode": "overlay",
             "size": 10,
             "solidity": 0.2
            },
            "type": "scatter"
           }
          ],
          "scatter3d": [
           {
            "line": {
             "colorbar": {
              "outlinewidth": 0,
              "ticks": ""
             }
            },
            "marker": {
             "colorbar": {
              "outlinewidth": 0,
              "ticks": ""
             }
            },
            "type": "scatter3d"
           }
          ],
          "scattercarpet": [
           {
            "marker": {
             "colorbar": {
              "outlinewidth": 0,
              "ticks": ""
             }
            },
            "type": "scattercarpet"
           }
          ],
          "scattergeo": [
           {
            "marker": {
             "colorbar": {
              "outlinewidth": 0,
              "ticks": ""
             }
            },
            "type": "scattergeo"
           }
          ],
          "scattergl": [
           {
            "marker": {
             "colorbar": {
              "outlinewidth": 0,
              "ticks": ""
             }
            },
            "type": "scattergl"
           }
          ],
          "scattermapbox": [
           {
            "marker": {
             "colorbar": {
              "outlinewidth": 0,
              "ticks": ""
             }
            },
            "type": "scattermapbox"
           }
          ],
          "scatterpolar": [
           {
            "marker": {
             "colorbar": {
              "outlinewidth": 0,
              "ticks": ""
             }
            },
            "type": "scatterpolar"
           }
          ],
          "scatterpolargl": [
           {
            "marker": {
             "colorbar": {
              "outlinewidth": 0,
              "ticks": ""
             }
            },
            "type": "scatterpolargl"
           }
          ],
          "scatterternary": [
           {
            "marker": {
             "colorbar": {
              "outlinewidth": 0,
              "ticks": ""
             }
            },
            "type": "scatterternary"
           }
          ],
          "surface": [
           {
            "colorbar": {
             "outlinewidth": 0,
             "ticks": ""
            },
            "colorscale": [
             [
              0,
              "#0d0887"
             ],
             [
              0.1111111111111111,
              "#46039f"
             ],
             [
              0.2222222222222222,
              "#7201a8"
             ],
             [
              0.3333333333333333,
              "#9c179e"
             ],
             [
              0.4444444444444444,
              "#bd3786"
             ],
             [
              0.5555555555555556,
              "#d8576b"
             ],
             [
              0.6666666666666666,
              "#ed7953"
             ],
             [
              0.7777777777777778,
              "#fb9f3a"
             ],
             [
              0.8888888888888888,
              "#fdca26"
             ],
             [
              1,
              "#f0f921"
             ]
            ],
            "type": "surface"
           }
          ],
          "table": [
           {
            "cells": {
             "fill": {
              "color": "#EBF0F8"
             },
             "line": {
              "color": "white"
             }
            },
            "header": {
             "fill": {
              "color": "#C8D4E3"
             },
             "line": {
              "color": "white"
             }
            },
            "type": "table"
           }
          ]
         },
         "layout": {
          "annotationdefaults": {
           "arrowcolor": "#2a3f5f",
           "arrowhead": 0,
           "arrowwidth": 1
          },
          "autotypenumbers": "strict",
          "coloraxis": {
           "colorbar": {
            "outlinewidth": 0,
            "ticks": ""
           }
          },
          "colorscale": {
           "diverging": [
            [
             0,
             "#8e0152"
            ],
            [
             0.1,
             "#c51b7d"
            ],
            [
             0.2,
             "#de77ae"
            ],
            [
             0.3,
             "#f1b6da"
            ],
            [
             0.4,
             "#fde0ef"
            ],
            [
             0.5,
             "#f7f7f7"
            ],
            [
             0.6,
             "#e6f5d0"
            ],
            [
             0.7,
             "#b8e186"
            ],
            [
             0.8,
             "#7fbc41"
            ],
            [
             0.9,
             "#4d9221"
            ],
            [
             1,
             "#276419"
            ]
           ],
           "sequential": [
            [
             0,
             "#0d0887"
            ],
            [
             0.1111111111111111,
             "#46039f"
            ],
            [
             0.2222222222222222,
             "#7201a8"
            ],
            [
             0.3333333333333333,
             "#9c179e"
            ],
            [
             0.4444444444444444,
             "#bd3786"
            ],
            [
             0.5555555555555556,
             "#d8576b"
            ],
            [
             0.6666666666666666,
             "#ed7953"
            ],
            [
             0.7777777777777778,
             "#fb9f3a"
            ],
            [
             0.8888888888888888,
             "#fdca26"
            ],
            [
             1,
             "#f0f921"
            ]
           ],
           "sequentialminus": [
            [
             0,
             "#0d0887"
            ],
            [
             0.1111111111111111,
             "#46039f"
            ],
            [
             0.2222222222222222,
             "#7201a8"
            ],
            [
             0.3333333333333333,
             "#9c179e"
            ],
            [
             0.4444444444444444,
             "#bd3786"
            ],
            [
             0.5555555555555556,
             "#d8576b"
            ],
            [
             0.6666666666666666,
             "#ed7953"
            ],
            [
             0.7777777777777778,
             "#fb9f3a"
            ],
            [
             0.8888888888888888,
             "#fdca26"
            ],
            [
             1,
             "#f0f921"
            ]
           ]
          },
          "colorway": [
           "#636efa",
           "#EF553B",
           "#00cc96",
           "#ab63fa",
           "#FFA15A",
           "#19d3f3",
           "#FF6692",
           "#B6E880",
           "#FF97FF",
           "#FECB52"
          ],
          "font": {
           "color": "#2a3f5f"
          },
          "geo": {
           "bgcolor": "white",
           "lakecolor": "white",
           "landcolor": "#E5ECF6",
           "showlakes": true,
           "showland": true,
           "subunitcolor": "white"
          },
          "hoverlabel": {
           "align": "left"
          },
          "hovermode": "closest",
          "mapbox": {
           "style": "light"
          },
          "paper_bgcolor": "white",
          "plot_bgcolor": "#E5ECF6",
          "polar": {
           "angularaxis": {
            "gridcolor": "white",
            "linecolor": "white",
            "ticks": ""
           },
           "bgcolor": "#E5ECF6",
           "radialaxis": {
            "gridcolor": "white",
            "linecolor": "white",
            "ticks": ""
           }
          },
          "scene": {
           "xaxis": {
            "backgroundcolor": "#E5ECF6",
            "gridcolor": "white",
            "gridwidth": 2,
            "linecolor": "white",
            "showbackground": true,
            "ticks": "",
            "zerolinecolor": "white"
           },
           "yaxis": {
            "backgroundcolor": "#E5ECF6",
            "gridcolor": "white",
            "gridwidth": 2,
            "linecolor": "white",
            "showbackground": true,
            "ticks": "",
            "zerolinecolor": "white"
           },
           "zaxis": {
            "backgroundcolor": "#E5ECF6",
            "gridcolor": "white",
            "gridwidth": 2,
            "linecolor": "white",
            "showbackground": true,
            "ticks": "",
            "zerolinecolor": "white"
           }
          },
          "shapedefaults": {
           "line": {
            "color": "#2a3f5f"
           }
          },
          "ternary": {
           "aaxis": {
            "gridcolor": "white",
            "linecolor": "white",
            "ticks": ""
           },
           "baxis": {
            "gridcolor": "white",
            "linecolor": "white",
            "ticks": ""
           },
           "bgcolor": "#E5ECF6",
           "caxis": {
            "gridcolor": "white",
            "linecolor": "white",
            "ticks": ""
           }
          },
          "title": {
           "x": 0.05
          },
          "xaxis": {
           "automargin": true,
           "gridcolor": "white",
           "linecolor": "white",
           "ticks": "",
           "title": {
            "standoff": 15
           },
           "zerolinecolor": "white",
           "zerolinewidth": 2
          },
          "yaxis": {
           "automargin": true,
           "gridcolor": "white",
           "linecolor": "white",
           "ticks": "",
           "title": {
            "standoff": 15
           },
           "zerolinecolor": "white",
           "zerolinewidth": 2
          }
         }
        },
        "title": {
         "text": "TSP Solution Costs vs. Optimal Solution Costs"
        },
        "xaxis": {
         "title": {
          "text": "Number of Vertices"
         }
        },
        "yaxis": {
         "title": {
          "text": "Cost"
         }
        }
       }
      }
     },
     "metadata": {},
     "output_type": "display_data"
    }
   ],
   "source": [
    "# Prepare data for the plot\n",
    "costs = ['optimal_cost', *(map(lambda solution: f'{solution}_cost', ALL_SOLUTIONS))]\n",
    "legend = ['Optimal', *(map(lambda solution: solution.capitalize(), ALL_SOLUTIONS))]\n",
    "\n",
    "# Create a new DataFrame to store the averaged results\n",
    "averaged_data = df_loaded.groupby('number_of_vertices', as_index=False).mean(numeric_only=True)\n",
    "\n",
    "# Create a Plotly figure\n",
    "fig = go.Figure()\n",
    "\n",
    "# Add traces for each solution's cost\n",
    "for idx, cost in enumerate(costs):\n",
    "\t# Directly use the averaged cost values\n",
    "\ty_values = averaged_data[cost]\n",
    "\n",
    "\t# Create a scatter plot with lines connecting the points\n",
    "\tfig.add_trace(go.Scatter(\n",
    "\t\tx=averaged_data['number_of_vertices'],\n",
    "\t\ty=y_values,\n",
    "\t\tmode='lines+markers',\n",
    "\t\tname=legend[idx],\n",
    "\t\tline=dict(dash='dash' if 'Dp' in legend[idx] else 'solid'),  # Dashed line for DP\n",
    "\t\tmarker=dict(size=8),\n",
    "\t\tconnectgaps=True  # This option connects gaps in data points\n",
    "\t))\n",
    "\n",
    "# Update layout\n",
    "fig.update_layout(\n",
    "\ttitle='TSP Solution Costs vs. Optimal Solution Costs',\n",
    "\txaxis_title='Number of Vertices',\n",
    "\tyaxis_title='Cost',\n",
    "\tlegend_title='Solutions',\n",
    "\thovermode='x unified',  # Show hover information for all traces at x\n",
    ")\n",
    "\n",
    "# Show the plot\n",
    "fig.show()"
   ]
  },
  {
   "cell_type": "markdown",
   "id": "db034a09",
   "metadata": {},
   "source": [
    "## Time Complexity Analysis"
   ]
  },
  {
   "cell_type": "code",
   "execution_count": 21,
   "id": "10b56b3c",
   "metadata": {},
   "outputs": [],
   "source": [
    "def matplotlib_color_to_plotly(color):\n",
    "\tr, g, b, a = color\n",
    "\treturn f'rgba({int(r * 255)}, {int(g * 255)}, {int(b * 255)}, {a})'"
   ]
  },
  {
   "cell_type": "code",
   "execution_count": 22,
   "id": "ac057726",
   "metadata": {},
   "outputs": [],
   "source": [
    "# Define model functions\n",
    "def exponential_model(x, a, b):\n",
    "\treturn a * np.exp(b * x)\n",
    "\n",
    "def quadratic_model(x, a, b, c):\n",
    "\treturn a * x**2 + b * x + c\n",
    "\n",
    "def quadratic_log_model(x, a, b):\n",
    "\treturn a * (x**2 * np.log(x)) + b\n",
    "\n",
    "def cubic_model(x, a, b, c, d):\n",
    "\treturn a * x**3 + b * x**2 + c * x + d"
   ]
  },
  {
   "cell_type": "code",
   "execution_count": 23,
   "id": "5aa84c90",
   "metadata": {},
   "outputs": [],
   "source": [
    "def fit_and_plot_curve_fit(x_valid, y_valid, algorithm_name, color, fig):\n",
    "\tplotly_color = matplotlib_color_to_plotly(color)  # Convert color\n",
    "\n",
    "\tif algorithm_name == SOLUTION_DP:  # Held-Karp (exponential)\n",
    "\t\tpopt, _ = curve_fit(exponential_model, x_valid, y_valid, p0=[1, 0.1])\n",
    "\t\tx_fit = np.linspace(min(x_valid), max(x_valid), 100)\n",
    "\t\ty_fit = exponential_model(x_fit, *popt)\n",
    "\n",
    "\t\tfig.add_trace(go.Scatter(\n",
    "\t\t\tx=x_fit,\n",
    "\t\t\ty=y_fit,\n",
    "\t\t\tmode='lines',\n",
    "\t\t\tname=f'{algorithm_name.capitalize()} (Exp Fit)',\n",
    "\t\t\tlegendgroup=algorithm_name,  # Group data and curve under one legend\n",
    "\t\t\tline=dict(color=plotly_color)  # Solid line\n",
    "\t\t))\n",
    "\n",
    "\telif algorithm_name == SOLUTION_CHRISTOFIDES:  # Christofides (cubic)\n",
    "\t\tpopt, _ = curve_fit(cubic_model, x_valid, y_valid)\n",
    "\t\tx_fit = np.linspace(min(x_valid), max(x_valid), 100)\n",
    "\t\ty_fit = cubic_model(x_fit, *popt)\n",
    "\n",
    "\t\tfig.add_trace(go.Scatter(\n",
    "\t\t\tx=x_fit,\n",
    "\t\t\ty=y_fit,\n",
    "\t\t\tmode='lines',\n",
    "\t\t\tname=f'{algorithm_name.capitalize()} (Cubic Fit)',\n",
    "\t\t\tlegendgroup=algorithm_name,  # Group data and curve under one legend\n",
    "\t\t\tline=dict(color=plotly_color)  # Solid line\n",
    "\t\t))\n",
    "\n",
    "\telif algorithm_name == SOLUTION_LIN_KERNIGHAN:  # Lin-Kernighan (N^2 log N)\n",
    "\t\tpopt, _ = curve_fit(quadratic_log_model, x_valid, y_valid)\n",
    "\t\tx_fit = np.linspace(min(x_valid), max(x_valid), 100)\n",
    "\t\ty_fit = quadratic_log_model(x_fit, *popt)\n",
    "\n",
    "\t\tfig.add_trace(go.Scatter(\n",
    "\t\t\tx=x_fit,\n",
    "\t\t\ty=y_fit,\n",
    "\t\t\tmode='lines',\n",
    "\t\t\tname=f'{algorithm_name.capitalize()} (Quad Log Fit)',\n",
    "\t\t\tlegendgroup=algorithm_name,  # Group data and curve under one legend\n",
    "\t\t\tline=dict(color=plotly_color)  # Solid line\n",
    "\t\t))\n",
    "\n",
    "\telse:  # Greedy or any other algorithm (quadratic)\n",
    "\t\tpopt, _ = curve_fit(quadratic_model, x_valid, y_valid)\n",
    "\t\tx_fit = np.linspace(min(x_valid), max(x_valid), 100)\n",
    "\t\ty_fit = quadratic_model(x_fit, *popt)\n",
    "\n",
    "\t\tfig.add_trace(go.Scatter(\n",
    "\t\t\tx=x_fit,\n",
    "\t\t\ty=y_fit,\n",
    "\t\t\tmode='lines',\n",
    "\t\t\tname=f'{algorithm_name.capitalize()} (Quad Fit)',\n",
    "\t\t\tlegendgroup=algorithm_name,  # Group data and curve under one legend\n",
    "\t\t\tline=dict(color=plotly_color)  # Solid line\n",
    "\t\t))"
   ]
  },
  {
   "cell_type": "code",
   "execution_count": 24,
   "id": "996fa761",
   "metadata": {},
   "outputs": [],
   "source": [
    "def plot_execution_times(df, solutions):\n",
    "\texecution_times = list(map(lambda solution: f'{solution}_execution_time', solutions))\n",
    "\tcolors = plt.cm.viridis(np.linspace(0, 1, len(execution_times)))\n",
    "\n",
    "\tfig = go.Figure()\n",
    "\n",
    "\tfor idx, execution_time in enumerate(execution_times):\n",
    "\t\talgorithm_name = execution_time.replace('_execution_time', '')\n",
    "\t\tmask = df[execution_time].notna()\n",
    "\t\tx_valid = df.loc[mask, 'number_of_vertices']\n",
    "\t\ty_valid = df.loc[mask, execution_time]\n",
    "\n",
    "\t\t# Convert Matplotlib color to Plotly RGB format\n",
    "\t\tplotly_color = matplotlib_color_to_plotly(colors[idx])\n",
    "\n",
    "\t\t# Scatter plot for the data points (hide legend for this trace)\n",
    "\t\tfig.add_trace(go.Scatter(\n",
    "\t\t\tx=x_valid,\n",
    "\t\t\ty=y_valid,\n",
    "\t\t\tmode='markers',\n",
    "\t\t\tname=f'{algorithm_name.capitalize()} (Data)',  # Common legend entry\n",
    "\t\t\tlegendgroup=algorithm_name,  # Group with the curve\n",
    "\t\t\tshowlegend=False,  # Hide individual data points from legend\n",
    "\t\t\tmarker=dict(size=8, color=plotly_color)\n",
    "\t\t))\n",
    "\n",
    "\t\t# Fit and plot best-fit line based on the algorithm's complexity\n",
    "\t\tfit_and_plot_curve_fit(x_valid, y_valid, algorithm_name, colors[idx], fig)\n",
    "\n",
    "\tfig.update_layout(\n",
    "\t\ttitle='Execution Time vs. Number of Vertices for All Solutions',\n",
    "\t\txaxis_title='Number of Vertices',\n",
    "\t\tyaxis_title='Execution Time (s)',\n",
    "\t\tlegend_title='Solutions',\n",
    "\t\thovermode='x unified'\n",
    "\t)\n",
    "\n",
    "\tfig.show()"
   ]
  },
  {
   "cell_type": "code",
   "execution_count": 25,
   "id": "1bd267ee",
   "metadata": {},
   "outputs": [
    {
     "data": {
      "application/vnd.plotly.v1+json": {
       "config": {
        "plotlyServerURL": "https://plot.ly"
       },
       "data": [
        {
         "legendgroup": "dp",
         "marker": {
          "color": "rgba(68, 1, 84, 1.0)",
          "size": 8
         },
         "mode": "markers",
         "name": "Dp (Data)",
         "showlegend": false,
         "type": "scatter",
         "x": [
          17,
          16,
          17,
          14
         ],
         "y": [
          5.957074880599976,
          2.651721954345703,
          6.047384977340698,
          0.4988679885864258
         ]
        },
        {
         "legendgroup": "dp",
         "line": {
          "color": "rgba(68, 1, 84, 1.0)"
         },
         "mode": "lines",
         "name": "Dp (Exp Fit)",
         "type": "scatter",
         "x": [
          14,
          14.030303030303031,
          14.06060606060606,
          14.090909090909092,
          14.121212121212121,
          14.151515151515152,
          14.181818181818182,
          14.212121212121213,
          14.242424242424242,
          14.272727272727273,
          14.303030303030303,
          14.333333333333334,
          14.363636363636363,
          14.393939393939394,
          14.424242424242424,
          14.454545454545455,
          14.484848484848484,
          14.515151515151516,
          14.545454545454545,
          14.575757575757576,
          14.606060606060606,
          14.636363636363637,
          14.666666666666666,
          14.696969696969697,
          14.727272727272727,
          14.757575757575758,
          14.787878787878787,
          14.818181818181818,
          14.848484848484848,
          14.878787878787879,
          14.90909090909091,
          14.93939393939394,
          14.969696969696969,
          15,
          15.030303030303031,
          15.06060606060606,
          15.09090909090909,
          15.121212121212121,
          15.151515151515152,
          15.181818181818182,
          15.212121212121213,
          15.242424242424242,
          15.272727272727273,
          15.303030303030303,
          15.333333333333334,
          15.363636363636363,
          15.393939393939394,
          15.424242424242424,
          15.454545454545455,
          15.484848484848484,
          15.515151515151516,
          15.545454545454545,
          15.575757575757576,
          15.606060606060606,
          15.636363636363637,
          15.666666666666666,
          15.696969696969697,
          15.727272727272727,
          15.757575757575758,
          15.787878787878787,
          15.818181818181818,
          15.848484848484848,
          15.878787878787879,
          15.90909090909091,
          15.93939393939394,
          15.969696969696969,
          16,
          16.03030303030303,
          16.060606060606062,
          16.09090909090909,
          16.12121212121212,
          16.151515151515152,
          16.18181818181818,
          16.21212121212121,
          16.242424242424242,
          16.272727272727273,
          16.303030303030305,
          16.333333333333332,
          16.363636363636363,
          16.393939393939394,
          16.424242424242426,
          16.454545454545453,
          16.484848484848484,
          16.515151515151516,
          16.545454545454547,
          16.575757575757574,
          16.606060606060606,
          16.636363636363637,
          16.666666666666668,
          16.696969696969695,
          16.727272727272727,
          16.757575757575758,
          16.78787878787879,
          16.81818181818182,
          16.848484848484848,
          16.87878787878788,
          16.90909090909091,
          16.939393939393938,
          16.96969696969697,
          17
         ],
         "y": [
          0.5126691941198978,
          0.5255702379602522,
          0.5387959296126443,
          0.5523544386642163,
          0.566254140285364,
          0.5805036204031321,
          0.5951116810047862,
          0.6100873455748601,
          0.625439864669006,
          0.6411787216281255,
          0.6573136384362762,
          0.6738545817260059,
          0.690811768934795,
          0.7081956746164308,
          0.7260170369111946,
          0.7442868641788828,
          0.7630164417987257,
          0.7822173391404406,
          0.8019014167106939,
          0.8220808334794095,
          0.8427680543904281,
          0.863975858061187,
          0.8857173446761358,
          0.9080059440788062,
          0.9308554240674995,
          0.9542798988997399,
          0.9782938380107259,
          1.0029120749511988,
          1.0281498165501983,
          1.0540226523084244,
          1.0805465640279504,
          1.1077379356842851,
          1.1356135635468465,
          1.1641906665541175,
          1.1934868969498793,
          1.2235203511871098,
          1.2543095811062728,
          1.285873605394892,
          1.3182319213355105,
          1.3514045168492668,
          1.3854118828425663,
          1.4202750258644163,
          1.4560154810823127,
          1.4926553255846198,
          1.5302171920177345,
          1.568724282566394,
          1.6082003832858076,
          1.648669878794428,
          1.6901577673364967,
          1.7326896762235804,
          1.7762918776647312,
          1.8209913049949735,
          1.8668155693121895,
          1.9137929765326405,
          1.9619525448757222,
          2.011324022788661,
          2.061937907322328,
          2.113825462969431,
          2.1670187409767854,
          2.2215505991435367,
          2.277454722117646,
          2.334765642203061,
          2.3935187606905557,
          2.4537503697252805,
          2.5154976747246636,
          2.578798817360397,
          2.6436928991187787,
          2.7102200054539187,
          2.7784212305487683,
          2.8483387026992264,
          2.920015610337067,
          2.9934962287076483,
          3.068825947218988,
          3.1460512974791204,
          3.225219982038875,
          3.3063809038580616,
          3.3895841965130993,
          3.474881255164832,
          3.5623247683056327,
          3.651968750305345,
          3.7438685747763176,
          3.8380810087779813,
          3.9346642478822527,
          4.033677952121187,
          4.135183282839412,
          4.239242940473781,
          4.34592120328388,
          4.455283967057001,
          4.567398785812403,
          4.6823349135297985,
          4.800163346927999,
          4.920956869319939,
          5.044790095571374,
          5.1717395181909245,
          5.301883554579935,
          5.435302595471424,
          5.572079054587796,
          5.71229741954837,
          5.856044304057879,
          6.003408501408188
         ]
        },
        {
         "legendgroup": "greedy",
         "marker": {
          "color": "rgba(48, 103, 141, 1.0)",
          "size": 8
         },
         "mode": "markers",
         "name": "Greedy (Data)",
         "showlegend": false,
         "type": "scatter",
         "x": [
          130,
          666,
          100,
          198,
          150,
          225,
          417,
          180,
          58,
          105,
          262,
          442,
          100,
          42,
          439,
          96,
          229,
          264,
          76,
          42,
          200,
          17,
          48,
          107,
          150,
          400,
          202,
          575,
          100,
          299,
          724,
          24,
          16,
          535,
          21,
          52,
          29,
          225,
          101,
          657,
          783,
          124,
          654,
          431,
          100,
          535,
          22,
          150,
          100,
          136,
          195,
          1000,
          493,
          17,
          144,
          100,
          226,
          175,
          29,
          561,
          120,
          152,
          137,
          574,
          200,
          14,
          159,
          70,
          99,
          48,
          318,
          48
         ],
         "y": [
          0.0065762996673583984,
          0.6182012557983398,
          0.0032799243927001953,
          0.01790618896484375,
          0.008765935897827148,
          0.025554895401000977,
          0.14836716651916504,
          0.01449894905090332,
          0.0008828639984130859,
          0.0038232803344726562,
          0.04586625099182129,
          0.17777299880981445,
          0.0031800270080566406,
          0.0003960132598876953,
          0.16542387008666992,
          0.0028569698333740234,
          0.0263519287109375,
          0.038686275482177734,
          0.0015799999237060547,
          0.00039505958557128906,
          0.018430233001708984,
          0.00006198883056640625,
          0.0005466938018798828,
          0.003607034683227539,
          0.008701086044311523,
          0.13318395614624023,
          0.02023005485534668,
          0.38687896728515625,
          0.0031969547271728516,
          0.05888104438781738,
          0.7671678066253662,
          0.00014066696166992188,
          0.000051021575927734375,
          0.31108808517456055,
          0.00010800361633300781,
          0.0006701946258544922,
          0.00019311904907226562,
          0.025471925735473633,
          0.003206014633178711,
          0.5476138591766357,
          0.889380693435669,
          0.0061986446380615234,
          0.5605111122131348,
          0.1601862907409668,
          0.0032110214233398438,
          0.30593419075012207,
          0.00011301040649414062,
          0.009032964706420898,
          0.003439188003540039,
          0.007291316986083984,
          0.017745018005371094,
          1.981583833694458,
          0.24205899238586426,
          0.00006604194641113281,
          0.008516073226928711,
          0.0032510757446289062,
          0.028605222702026367,
          0.013445854187011719,
          0.00021386146545410156,
          0.3553578853607178,
          0.0051767826080322266,
          0.009724140167236328,
          0.007311820983886719,
          0.4002680778503418,
          0.020390987396240234,
          0.000046253204345703125,
          0.010231971740722656,
          0.0015079975128173828,
          0.003325939178466797,
          0.0005970001220703125,
          0.06655621528625488,
          0.0005590915679931641
         ]
        },
        {
         "legendgroup": "greedy",
         "line": {
          "color": "rgba(48, 103, 141, 1.0)"
         },
         "mode": "lines",
         "name": "Greedy (Quad Fit)",
         "type": "scatter",
         "x": [
          14,
          23.95959595959596,
          33.91919191919192,
          43.87878787878788,
          53.83838383838384,
          63.7979797979798,
          73.75757575757576,
          83.71717171717172,
          93.67676767676768,
          103.63636363636364,
          113.5959595959596,
          123.55555555555556,
          133.51515151515153,
          143.4747474747475,
          153.43434343434345,
          163.3939393939394,
          173.35353535353536,
          183.31313131313132,
          193.27272727272728,
          203.23232323232324,
          213.1919191919192,
          223.15151515151516,
          233.11111111111111,
          243.07070707070707,
          253.03030303030306,
          262.989898989899,
          272.949494949495,
          282.90909090909093,
          292.8686868686869,
          302.82828282828285,
          312.7878787878788,
          322.74747474747477,
          332.7070707070707,
          342.6666666666667,
          352.62626262626264,
          362.5858585858586,
          372.54545454545456,
          382.5050505050505,
          392.4646464646465,
          402.42424242424244,
          412.3838383838384,
          422.34343434343435,
          432.3030303030303,
          442.26262626262627,
          452.22222222222223,
          462.1818181818182,
          472.14141414141415,
          482.1010101010101,
          492.0606060606061,
          502.0202020202021,
          511.97979797979804,
          521.939393939394,
          531.89898989899,
          541.8585858585859,
          551.8181818181819,
          561.7777777777778,
          571.7373737373738,
          581.6969696969697,
          591.6565656565657,
          601.6161616161617,
          611.5757575757576,
          621.5353535353536,
          631.4949494949495,
          641.4545454545455,
          651.4141414141415,
          661.3737373737374,
          671.3333333333334,
          681.2929292929293,
          691.2525252525253,
          701.2121212121212,
          711.1717171717172,
          721.1313131313132,
          731.0909090909091,
          741.0505050505051,
          751.010101010101,
          760.969696969697,
          770.929292929293,
          780.8888888888889,
          790.8484848484849,
          800.8080808080808,
          810.7676767676768,
          820.7272727272727,
          830.6868686868687,
          840.6464646464647,
          850.6060606060606,
          860.5656565656566,
          870.5252525252525,
          880.4848484848485,
          890.4444444444445,
          900.4040404040404,
          910.3636363636364,
          920.3232323232323,
          930.2828282828283,
          940.2424242424242,
          950.2020202020202,
          960.1616161616162,
          970.1212121212122,
          980.0808080808082,
          990.0404040404042,
          1000
         ],
         "y": [
          0.04465127719710391,
          0.036928678909274405,
          0.029728291011116015,
          0.02305011350262874,
          0.01689414638381259,
          0.011260389654667566,
          0.00614884331519365,
          0.001559507365390872,
          -0.002507618194740803,
          -0.00605253336520134,
          -0.009075238145990774,
          -0.011575732537109085,
          -0.013554016538556257,
          -0.015010090150332334,
          -0.01594395337243726,
          -0.016355606204871073,
          -0.016245048647633792,
          -0.015612280700725373,
          -0.01445730236414583,
          -0.012780113637895163,
          -0.0105807145219734,
          -0.007859105016380485,
          -0.004615285121116475,
          -0.0008492548361813124,
          0.003438985838424946,
          0.008249436902702328,
          0.013582098356650807,
          0.019436970200270465,
          0.02581405243356122,
          0.03271334505652307,
          0.040134848069156015,
          0.04807856147146017,
          0.05654448526343536,
          0.06553261944508176,
          0.0750429640163992,
          0.0850755189773878,
          0.09563028432804749,
          0.10670726006837833,
          0.11830644619838027,
          0.13042784271805336,
          0.14307144962739748,
          0.15623726692641288,
          0.1699252946150993,
          0.18413553269345673,
          0.19886798116148546,
          0.2141226400191853,
          0.22989950926655622,
          0.24619858890359825,
          0.2630198789303115,
          0.28036337934669575,
          0.2982290901527511,
          0.3166170113484777,
          0.33552714293387537,
          0.3549594849089441,
          0.374914037273684,
          0.3953908000280949,
          0.4163897731721771,
          0.43791095670593033,
          0.4599543506293547,
          0.4825199549424502,
          0.5056077696452166,
          0.5292177947376544,
          0.5533500302197634,
          0.5780044760915433,
          0.6031811323529943,
          0.6288799990041165,
          0.6551010760449099,
          0.6818443634753744,
          0.7091098612955098,
          0.7368975695053164,
          0.7652074881047943,
          0.7940396170939434,
          0.8233939564727635,
          0.8532705062412547,
          0.8836692663994168,
          0.9145902369472503,
          0.9460334178847547,
          0.9779988092119303,
          1.0104864109287772,
          1.0434962230352949,
          1.077028245531484,
          1.1110824784173443,
          1.1456589216928756,
          1.1807575753580777,
          1.2163784394129513,
          1.2525215138574957,
          1.2891867986917116,
          1.3263742939155985,
          1.3640839995291565,
          1.4023159155323857,
          1.4410700419252855,
          1.480346378707857,
          1.5201449258800992,
          1.5604656834420132,
          1.6013086513935975,
          1.6426738297348538,
          1.6845612184657812,
          1.726970817586379,
          1.7699026270966483,
          1.8133566469965883
         ]
        },
        {
         "legendgroup": "christofides",
         "marker": {
          "color": "rgba(53, 183, 120, 1.0)",
          "size": 8
         },
         "mode": "markers",
         "name": "Christofides (Data)",
         "showlegend": false,
         "type": "scatter",
         "x": [
          130,
          666,
          100,
          198,
          150,
          225,
          417,
          180,
          58,
          105,
          262,
          442,
          100,
          42,
          439,
          96,
          229,
          264,
          76,
          42,
          200,
          17,
          48,
          107,
          150,
          400,
          202,
          575,
          100,
          299,
          724,
          24,
          16,
          535,
          21,
          52,
          29,
          225,
          101,
          657,
          783,
          124,
          654,
          431,
          100,
          535,
          22,
          150,
          100,
          136,
          195,
          1000,
          493,
          17,
          144,
          100,
          226,
          175,
          29,
          561,
          120,
          152,
          137,
          574,
          200,
          14,
          159,
          70,
          99,
          48,
          318,
          48
         ],
         "y": [
          0.21114420890808105,
          23.55051589012146,
          0.04566192626953125,
          0.7519760131835938,
          0.3311119079589844,
          0.566087007522583,
          2.9549529552459717,
          0.03139090538024902,
          0.021767139434814453,
          0.07565093040466309,
          1.6836421489715576,
          6.468859910964966,
          0.12509417533874512,
          0.006242990493774414,
          2.8074731826782227,
          0.06689834594726562,
          0.9990479946136475,
          0.4508190155029297,
          0.018041133880615234,
          0.013751029968261719,
          0.6917059421539307,
          0.0019199848175048828,
          0.011320114135742188,
          0.08281207084655762,
          0.15103411674499512,
          5.895931959152222,
          0.9772040843963623,
          16.732935190200806,
          0.06909298896789551,
          1.694977045059204,
          28.471604824066162,
          0.002416849136352539,
          0.0005509853363037109,
          9.285508871078491,
          0.001107931137084961,
          0.011284112930297852,
          0.006116151809692383,
          0.20264792442321777,
          0.16966819763183594,
          18.99686908721924,
          43.6613290309906,
          0.03683209419250488,
          2.5554747581481934,
          7.667403936386108,
          0.08206295967102051,
          11.842863082885742,
          0.0016169548034667969,
          0.3350808620452881,
          0.08039689064025879,
          0.04610610008239746,
          0.4957256317138672,
          79.20855498313904,
          8.274985790252686,
          0.0008933544158935547,
          0.026608943939208984,
          0.10972809791564941,
          0.6437299251556396,
          0.30020976066589355,
          0.0037450790405273438,
          13.056544065475464,
          0.21538782119750977,
          0.03592967987060547,
          0.0960092544555664,
          13.119394063949585,
          0.7035479545593262,
          0.0005590915679931641,
          0.2666778564453125,
          0.037117958068847656,
          0.06100797653198242,
          0.026027202606201172,
          2.3926520347595215,
          0.016348838806152344
         ]
        },
        {
         "legendgroup": "christofides",
         "line": {
          "color": "rgba(53, 183, 120, 1.0)"
         },
         "mode": "lines",
         "name": "Christofides (Cubic Fit)",
         "type": "scatter",
         "x": [
          14,
          23.95959595959596,
          33.91919191919192,
          43.87878787878788,
          53.83838383838384,
          63.7979797979798,
          73.75757575757576,
          83.71717171717172,
          93.67676767676768,
          103.63636363636364,
          113.5959595959596,
          123.55555555555556,
          133.51515151515153,
          143.4747474747475,
          153.43434343434345,
          163.3939393939394,
          173.35353535353536,
          183.31313131313132,
          193.27272727272728,
          203.23232323232324,
          213.1919191919192,
          223.15151515151516,
          233.11111111111111,
          243.07070707070707,
          253.03030303030306,
          262.989898989899,
          272.949494949495,
          282.90909090909093,
          292.8686868686869,
          302.82828282828285,
          312.7878787878788,
          322.74747474747477,
          332.7070707070707,
          342.6666666666667,
          352.62626262626264,
          362.5858585858586,
          372.54545454545456,
          382.5050505050505,
          392.4646464646465,
          402.42424242424244,
          412.3838383838384,
          422.34343434343435,
          432.3030303030303,
          442.26262626262627,
          452.22222222222223,
          462.1818181818182,
          472.14141414141415,
          482.1010101010101,
          492.0606060606061,
          502.0202020202021,
          511.97979797979804,
          521.939393939394,
          531.89898989899,
          541.8585858585859,
          551.8181818181819,
          561.7777777777778,
          571.7373737373738,
          581.6969696969697,
          591.6565656565657,
          601.6161616161617,
          611.5757575757576,
          621.5353535353536,
          631.4949494949495,
          641.4545454545455,
          651.4141414141415,
          661.3737373737374,
          671.3333333333334,
          681.2929292929293,
          691.2525252525253,
          701.2121212121212,
          711.1717171717172,
          721.1313131313132,
          731.0909090909091,
          741.0505050505051,
          751.010101010101,
          760.969696969697,
          770.929292929293,
          780.8888888888889,
          790.8484848484849,
          800.8080808080808,
          810.7676767676768,
          820.7272727272727,
          830.6868686868687,
          840.6464646464647,
          850.6060606060606,
          860.5656565656566,
          870.5252525252525,
          880.4848484848485,
          890.4444444444445,
          900.4040404040404,
          910.3636363636364,
          920.3232323232323,
          930.2828282828283,
          940.2424242424242,
          950.2020202020202,
          960.1616161616162,
          970.1212121212122,
          980.0808080808082,
          990.0404040404042,
          1000
         ],
         "y": [
          -0.15902263275630574,
          -0.10706384919008097,
          -0.06017897321428936,
          -0.017731023372442617,
          0.02091698179194748,
          0.056402023735369206,
          0.08936108391431083,
          0.12043114378526057,
          0.15024918480470664,
          0.17945218842913738,
          0.20867713611504093,
          0.2385610093189057,
          0.2697407894972198,
          0.3028534581064716,
          0.33853599660314904,
          0.3774253864437408,
          0.4201586090847348,
          0.46737264598261963,
          0.519704478593883,
          0.5777910883750143,
          0.6422694567825001,
          0.7137765652728302,
          0.7929493953024919,
          0.8804249283279734,
          0.9768401458057635,
          1.082832029192351,
          1.1990375599442225,
          1.3260937195178673,
          1.4646374893697738,
          1.6153058509564302,
          1.778735785734324,
          1.9555642751599436,
          2.1464283006897777,
          2.3519648437803156,
          2.5728108858880434,
          2.8096034084694503,
          3.062979392981026,
          3.3335758208792554,
          3.6220296736206303,
          3.9289779326616356,
          4.2550575794587635,
          4.600905595468498,
          4.967158962147331,
          5.354454660951749,
          5.763429673338239,
          6.19472098076329,
          6.648965564683393,
          7.126800406555035,
          7.628862487834704,
          8.155788789978883,
          8.708216294444071,
          9.286781982686747,
          9.8921228361634,
          10.524875836330523,
          11.185677964644603,
          11.875166202562125,
          12.593977531539585,
          13.342748933033457,
          14.12211738850024,
          14.932719879396426,
          15.775193387178495,
          16.65017489330294,
          17.55830137922624,
          18.500209826404898,
          19.476537216295384,
          20.487920530354206,
          21.534996750037845,
          22.618402856802774,
          23.738775832105507,
          24.896752657402512,
          26.09297031415029,
          27.32806578380532,
          28.602676047824094,
          29.917438087663108,
          31.272988884778837,
          32.669965420627776,
          34.109004676666416,
          35.590743634351234,
          37.115819275138726,
          38.68486858048539,
          40.2985285318477,
          41.95743611068215,
          43.66222829844522,
          45.413542076593416,
          47.21201442658321,
          49.0582823298711,
          50.95298276791356,
          52.89675272216709,
          54.89022917408818,
          56.93404910513332,
          59.028849496758994,
          61.175267330421676,
          63.373939587577865,
          65.62550324968407,
          67.93059529819676,
          70.28985271457242,
          72.70391248026756,
          75.17341157673863,
          77.69898698544213,
          80.28127568783454
         ]
        },
        {
         "legendgroup": "sa",
         "marker": {
          "color": "rgba(253, 231, 36, 1.0)",
          "size": 8
         },
         "mode": "markers",
         "name": "Sa (Data)",
         "showlegend": false,
         "type": "scatter",
         "x": [
          130,
          666,
          100,
          198,
          150,
          225,
          417,
          180,
          58,
          105,
          262,
          442,
          100,
          42,
          439,
          96,
          229,
          264,
          76,
          42,
          200,
          17,
          48,
          107,
          150,
          400,
          202,
          575,
          100,
          299,
          724,
          24,
          16,
          535,
          21,
          52,
          29,
          225,
          101,
          657,
          783,
          124,
          654,
          431,
          100,
          535,
          22,
          150,
          100,
          136,
          195,
          1000,
          493,
          17,
          144,
          100,
          226,
          175,
          29,
          561,
          120,
          152,
          137,
          574,
          200,
          14,
          159,
          70,
          99,
          48,
          318,
          48
         ],
         "y": [
          0.08755087852478027,
          0.2652928829193115,
          0.03429102897644043,
          0.0692439079284668,
          0.05183100700378418,
          0.0789949893951416,
          0.15858793258666992,
          0.0624539852142334,
          0.01996898651123047,
          0.03724527359008789,
          0.09278321266174316,
          0.17335295677185059,
          0.039179086685180664,
          0.014905929565429688,
          0.16514182090759277,
          0.03276968002319336,
          0.08215904235839844,
          0.0947120189666748,
          0.026122093200683594,
          0.014815330505371094,
          0.07066178321838379,
          0.007218837738037109,
          0.025619029998779297,
          0.03674912452697754,
          0.0515751838684082,
          0.15439820289611816,
          0.09402704238891602,
          0.22176408767700195,
          0.03447127342224121,
          0.10742497444152832,
          0.31781768798828125,
          0.009348154067993164,
          0.0067272186279296875,
          0.20615291595458984,
          0.008268117904663086,
          0.0180819034576416,
          0.010710000991821289,
          0.08043408393859863,
          0.0346989631652832,
          0.27496886253356934,
          0.3613548278808594,
          0.04261302947998047,
          0.26135706901550293,
          0.16175484657287598,
          0.034227848052978516,
          0.20631194114685059,
          0.00872182846069336,
          0.052427053451538086,
          0.03416585922241211,
          0.046742916107177734,
          0.06793904304504395,
          0.48926782608032227,
          0.20478415489196777,
          0.007100105285644531,
          0.05027008056640625,
          0.03728628158569336,
          0.0783538818359375,
          0.06058096885681152,
          0.010726213455200195,
          0.21373796463012695,
          0.04205012321472168,
          0.05238795280456543,
          0.04721999168395996,
          0.21952509880065918,
          0.06928277015686035,
          0.006082057952880859,
          0.05549502372741699,
          0.0243380069732666,
          0.03394198417663574,
          0.016718149185180664,
          0.11749792098999023,
          0.01703190803527832
         ]
        },
        {
         "legendgroup": "sa",
         "line": {
          "color": "rgba(253, 231, 36, 1.0)"
         },
         "mode": "lines",
         "name": "Sa (Quad Fit)",
         "type": "scatter",
         "x": [
          14,
          23.95959595959596,
          33.91919191919192,
          43.87878787878788,
          53.83838383838384,
          63.7979797979798,
          73.75757575757576,
          83.71717171717172,
          93.67676767676768,
          103.63636363636364,
          113.5959595959596,
          123.55555555555556,
          133.51515151515153,
          143.4747474747475,
          153.43434343434345,
          163.3939393939394,
          173.35353535353536,
          183.31313131313132,
          193.27272727272728,
          203.23232323232324,
          213.1919191919192,
          223.15151515151516,
          233.11111111111111,
          243.07070707070707,
          253.03030303030306,
          262.989898989899,
          272.949494949495,
          282.90909090909093,
          292.8686868686869,
          302.82828282828285,
          312.7878787878788,
          322.74747474747477,
          332.7070707070707,
          342.6666666666667,
          352.62626262626264,
          362.5858585858586,
          372.54545454545456,
          382.5050505050505,
          392.4646464646465,
          402.42424242424244,
          412.3838383838384,
          422.34343434343435,
          432.3030303030303,
          442.26262626262627,
          452.22222222222223,
          462.1818181818182,
          472.14141414141415,
          482.1010101010101,
          492.0606060606061,
          502.0202020202021,
          511.97979797979804,
          521.939393939394,
          531.89898989899,
          541.8585858585859,
          551.8181818181819,
          561.7777777777778,
          571.7373737373738,
          581.6969696969697,
          591.6565656565657,
          601.6161616161617,
          611.5757575757576,
          621.5353535353536,
          631.4949494949495,
          641.4545454545455,
          651.4141414141415,
          661.3737373737374,
          671.3333333333334,
          681.2929292929293,
          691.2525252525253,
          701.2121212121212,
          711.1717171717172,
          721.1313131313132,
          731.0909090909091,
          741.0505050505051,
          751.010101010101,
          760.969696969697,
          770.929292929293,
          780.8888888888889,
          790.8484848484849,
          800.8080808080808,
          810.7676767676768,
          820.7272727272727,
          830.6868686868687,
          840.6464646464647,
          850.6060606060606,
          860.5656565656566,
          870.5252525252525,
          880.4848484848485,
          890.4444444444445,
          900.4040404040404,
          910.3636363636364,
          920.3232323232323,
          930.2828282828283,
          940.2424242424242,
          950.2020202020202,
          960.1616161616162,
          970.1212121212122,
          980.0808080808082,
          990.0404040404042,
          1000
         ],
         "y": [
          0.009526423888099399,
          0.012402808181820487,
          0.015318038312058906,
          0.018272114278814654,
          0.021265036082087733,
          0.024296803721878136,
          0.02736741719818588,
          0.030476876511010945,
          0.033625181660353345,
          0.03681233264621307,
          0.04003832946859013,
          0.04330317212748452,
          0.046606860622896235,
          0.049949394954825276,
          0.05333077512327166,
          0.05675100112823537,
          0.0602100729697164,
          0.06370799064771476,
          0.06724475416223046,
          0.07082036351326348,
          0.07443481870081382,
          0.07808811972488151,
          0.08178026658546653,
          0.08551125928256886,
          0.08928109781618855,
          0.09308978218632556,
          0.0969373123929799,
          0.10082368843615157,
          0.10474891031584055,
          0.10871297803204688,
          0.11271589158477054,
          0.11675765097401151,
          0.12083825619976982,
          0.12495770726204547,
          0.12911600416083846,
          0.13331314689614876,
          0.1375491354679764,
          0.14182396987632134,
          0.14613765012118363,
          0.15049017620256327,
          0.15488154812046023,
          0.1593117658748745,
          0.1637808294658061,
          0.16828873889325505,
          0.17283549415722133,
          0.1774210952577049,
          0.18204554219470584,
          0.1867088349682241,
          0.19141097357825973,
          0.19615195802481264,
          0.20093178830788289,
          0.20575046442747047,
          0.2106079863835754,
          0.21550435417619762,
          0.2204395678053372,
          0.2254136272709941,
          0.2304265325731683,
          0.23547828371185986,
          0.24056888068706878,
          0.24569832349879497,
          0.25086661214703854,
          0.25607374663179944,
          0.2613197269530776,
          0.2666045531108731,
          0.271928225105186,
          0.2772907429360162,
          0.2826921066033637,
          0.2881323161072286,
          0.2936113714476108,
          0.2991292726245103,
          0.30468601963792713,
          0.3102816124878613,
          0.3159160511743128,
          0.32158933569728165,
          0.32730146605676785,
          0.3330524422527713,
          0.3388422642852921,
          0.3446709321543303,
          0.3505384458598858,
          0.3564448054019586,
          0.3623900107805487,
          0.3683740619956562,
          0.37439695904728104,
          0.38045870193542314,
          0.3865592906600826,
          0.3926987252212594,
          0.3988770056189535,
          0.40509413185316495,
          0.41135010392389376,
          0.4176449218311399,
          0.4239785855749033,
          0.43035109515518405,
          0.4367624505719822,
          0.4432126518252976,
          0.4497016989151304,
          0.45622959184148043,
          0.46279633060434794,
          0.4694019152037327,
          0.4760463456396348,
          0.4827296219120541
         ]
        }
       ],
       "layout": {
        "hovermode": "x unified",
        "legend": {
         "title": {
          "text": "Solutions"
         }
        },
        "template": {
         "data": {
          "bar": [
           {
            "error_x": {
             "color": "#2a3f5f"
            },
            "error_y": {
             "color": "#2a3f5f"
            },
            "marker": {
             "line": {
              "color": "#E5ECF6",
              "width": 0.5
             },
             "pattern": {
              "fillmode": "overlay",
              "size": 10,
              "solidity": 0.2
             }
            },
            "type": "bar"
           }
          ],
          "barpolar": [
           {
            "marker": {
             "line": {
              "color": "#E5ECF6",
              "width": 0.5
             },
             "pattern": {
              "fillmode": "overlay",
              "size": 10,
              "solidity": 0.2
             }
            },
            "type": "barpolar"
           }
          ],
          "carpet": [
           {
            "aaxis": {
             "endlinecolor": "#2a3f5f",
             "gridcolor": "white",
             "linecolor": "white",
             "minorgridcolor": "white",
             "startlinecolor": "#2a3f5f"
            },
            "baxis": {
             "endlinecolor": "#2a3f5f",
             "gridcolor": "white",
             "linecolor": "white",
             "minorgridcolor": "white",
             "startlinecolor": "#2a3f5f"
            },
            "type": "carpet"
           }
          ],
          "choropleth": [
           {
            "colorbar": {
             "outlinewidth": 0,
             "ticks": ""
            },
            "type": "choropleth"
           }
          ],
          "contour": [
           {
            "colorbar": {
             "outlinewidth": 0,
             "ticks": ""
            },
            "colorscale": [
             [
              0,
              "#0d0887"
             ],
             [
              0.1111111111111111,
              "#46039f"
             ],
             [
              0.2222222222222222,
              "#7201a8"
             ],
             [
              0.3333333333333333,
              "#9c179e"
             ],
             [
              0.4444444444444444,
              "#bd3786"
             ],
             [
              0.5555555555555556,
              "#d8576b"
             ],
             [
              0.6666666666666666,
              "#ed7953"
             ],
             [
              0.7777777777777778,
              "#fb9f3a"
             ],
             [
              0.8888888888888888,
              "#fdca26"
             ],
             [
              1,
              "#f0f921"
             ]
            ],
            "type": "contour"
           }
          ],
          "contourcarpet": [
           {
            "colorbar": {
             "outlinewidth": 0,
             "ticks": ""
            },
            "type": "contourcarpet"
           }
          ],
          "heatmap": [
           {
            "colorbar": {
             "outlinewidth": 0,
             "ticks": ""
            },
            "colorscale": [
             [
              0,
              "#0d0887"
             ],
             [
              0.1111111111111111,
              "#46039f"
             ],
             [
              0.2222222222222222,
              "#7201a8"
             ],
             [
              0.3333333333333333,
              "#9c179e"
             ],
             [
              0.4444444444444444,
              "#bd3786"
             ],
             [
              0.5555555555555556,
              "#d8576b"
             ],
             [
              0.6666666666666666,
              "#ed7953"
             ],
             [
              0.7777777777777778,
              "#fb9f3a"
             ],
             [
              0.8888888888888888,
              "#fdca26"
             ],
             [
              1,
              "#f0f921"
             ]
            ],
            "type": "heatmap"
           }
          ],
          "heatmapgl": [
           {
            "colorbar": {
             "outlinewidth": 0,
             "ticks": ""
            },
            "colorscale": [
             [
              0,
              "#0d0887"
             ],
             [
              0.1111111111111111,
              "#46039f"
             ],
             [
              0.2222222222222222,
              "#7201a8"
             ],
             [
              0.3333333333333333,
              "#9c179e"
             ],
             [
              0.4444444444444444,
              "#bd3786"
             ],
             [
              0.5555555555555556,
              "#d8576b"
             ],
             [
              0.6666666666666666,
              "#ed7953"
             ],
             [
              0.7777777777777778,
              "#fb9f3a"
             ],
             [
              0.8888888888888888,
              "#fdca26"
             ],
             [
              1,
              "#f0f921"
             ]
            ],
            "type": "heatmapgl"
           }
          ],
          "histogram": [
           {
            "marker": {
             "pattern": {
              "fillmode": "overlay",
              "size": 10,
              "solidity": 0.2
             }
            },
            "type": "histogram"
           }
          ],
          "histogram2d": [
           {
            "colorbar": {
             "outlinewidth": 0,
             "ticks": ""
            },
            "colorscale": [
             [
              0,
              "#0d0887"
             ],
             [
              0.1111111111111111,
              "#46039f"
             ],
             [
              0.2222222222222222,
              "#7201a8"
             ],
             [
              0.3333333333333333,
              "#9c179e"
             ],
             [
              0.4444444444444444,
              "#bd3786"
             ],
             [
              0.5555555555555556,
              "#d8576b"
             ],
             [
              0.6666666666666666,
              "#ed7953"
             ],
             [
              0.7777777777777778,
              "#fb9f3a"
             ],
             [
              0.8888888888888888,
              "#fdca26"
             ],
             [
              1,
              "#f0f921"
             ]
            ],
            "type": "histogram2d"
           }
          ],
          "histogram2dcontour": [
           {
            "colorbar": {
             "outlinewidth": 0,
             "ticks": ""
            },
            "colorscale": [
             [
              0,
              "#0d0887"
             ],
             [
              0.1111111111111111,
              "#46039f"
             ],
             [
              0.2222222222222222,
              "#7201a8"
             ],
             [
              0.3333333333333333,
              "#9c179e"
             ],
             [
              0.4444444444444444,
              "#bd3786"
             ],
             [
              0.5555555555555556,
              "#d8576b"
             ],
             [
              0.6666666666666666,
              "#ed7953"
             ],
             [
              0.7777777777777778,
              "#fb9f3a"
             ],
             [
              0.8888888888888888,
              "#fdca26"
             ],
             [
              1,
              "#f0f921"
             ]
            ],
            "type": "histogram2dcontour"
           }
          ],
          "mesh3d": [
           {
            "colorbar": {
             "outlinewidth": 0,
             "ticks": ""
            },
            "type": "mesh3d"
           }
          ],
          "parcoords": [
           {
            "line": {
             "colorbar": {
              "outlinewidth": 0,
              "ticks": ""
             }
            },
            "type": "parcoords"
           }
          ],
          "pie": [
           {
            "automargin": true,
            "type": "pie"
           }
          ],
          "scatter": [
           {
            "fillpattern": {
             "fillmode": "overlay",
             "size": 10,
             "solidity": 0.2
            },
            "type": "scatter"
           }
          ],
          "scatter3d": [
           {
            "line": {
             "colorbar": {
              "outlinewidth": 0,
              "ticks": ""
             }
            },
            "marker": {
             "colorbar": {
              "outlinewidth": 0,
              "ticks": ""
             }
            },
            "type": "scatter3d"
           }
          ],
          "scattercarpet": [
           {
            "marker": {
             "colorbar": {
              "outlinewidth": 0,
              "ticks": ""
             }
            },
            "type": "scattercarpet"
           }
          ],
          "scattergeo": [
           {
            "marker": {
             "colorbar": {
              "outlinewidth": 0,
              "ticks": ""
             }
            },
            "type": "scattergeo"
           }
          ],
          "scattergl": [
           {
            "marker": {
             "colorbar": {
              "outlinewidth": 0,
              "ticks": ""
             }
            },
            "type": "scattergl"
           }
          ],
          "scattermapbox": [
           {
            "marker": {
             "colorbar": {
              "outlinewidth": 0,
              "ticks": ""
             }
            },
            "type": "scattermapbox"
           }
          ],
          "scatterpolar": [
           {
            "marker": {
             "colorbar": {
              "outlinewidth": 0,
              "ticks": ""
             }
            },
            "type": "scatterpolar"
           }
          ],
          "scatterpolargl": [
           {
            "marker": {
             "colorbar": {
              "outlinewidth": 0,
              "ticks": ""
             }
            },
            "type": "scatterpolargl"
           }
          ],
          "scatterternary": [
           {
            "marker": {
             "colorbar": {
              "outlinewidth": 0,
              "ticks": ""
             }
            },
            "type": "scatterternary"
           }
          ],
          "surface": [
           {
            "colorbar": {
             "outlinewidth": 0,
             "ticks": ""
            },
            "colorscale": [
             [
              0,
              "#0d0887"
             ],
             [
              0.1111111111111111,
              "#46039f"
             ],
             [
              0.2222222222222222,
              "#7201a8"
             ],
             [
              0.3333333333333333,
              "#9c179e"
             ],
             [
              0.4444444444444444,
              "#bd3786"
             ],
             [
              0.5555555555555556,
              "#d8576b"
             ],
             [
              0.6666666666666666,
              "#ed7953"
             ],
             [
              0.7777777777777778,
              "#fb9f3a"
             ],
             [
              0.8888888888888888,
              "#fdca26"
             ],
             [
              1,
              "#f0f921"
             ]
            ],
            "type": "surface"
           }
          ],
          "table": [
           {
            "cells": {
             "fill": {
              "color": "#EBF0F8"
             },
             "line": {
              "color": "white"
             }
            },
            "header": {
             "fill": {
              "color": "#C8D4E3"
             },
             "line": {
              "color": "white"
             }
            },
            "type": "table"
           }
          ]
         },
         "layout": {
          "annotationdefaults": {
           "arrowcolor": "#2a3f5f",
           "arrowhead": 0,
           "arrowwidth": 1
          },
          "autotypenumbers": "strict",
          "coloraxis": {
           "colorbar": {
            "outlinewidth": 0,
            "ticks": ""
           }
          },
          "colorscale": {
           "diverging": [
            [
             0,
             "#8e0152"
            ],
            [
             0.1,
             "#c51b7d"
            ],
            [
             0.2,
             "#de77ae"
            ],
            [
             0.3,
             "#f1b6da"
            ],
            [
             0.4,
             "#fde0ef"
            ],
            [
             0.5,
             "#f7f7f7"
            ],
            [
             0.6,
             "#e6f5d0"
            ],
            [
             0.7,
             "#b8e186"
            ],
            [
             0.8,
             "#7fbc41"
            ],
            [
             0.9,
             "#4d9221"
            ],
            [
             1,
             "#276419"
            ]
           ],
           "sequential": [
            [
             0,
             "#0d0887"
            ],
            [
             0.1111111111111111,
             "#46039f"
            ],
            [
             0.2222222222222222,
             "#7201a8"
            ],
            [
             0.3333333333333333,
             "#9c179e"
            ],
            [
             0.4444444444444444,
             "#bd3786"
            ],
            [
             0.5555555555555556,
             "#d8576b"
            ],
            [
             0.6666666666666666,
             "#ed7953"
            ],
            [
             0.7777777777777778,
             "#fb9f3a"
            ],
            [
             0.8888888888888888,
             "#fdca26"
            ],
            [
             1,
             "#f0f921"
            ]
           ],
           "sequentialminus": [
            [
             0,
             "#0d0887"
            ],
            [
             0.1111111111111111,
             "#46039f"
            ],
            [
             0.2222222222222222,
             "#7201a8"
            ],
            [
             0.3333333333333333,
             "#9c179e"
            ],
            [
             0.4444444444444444,
             "#bd3786"
            ],
            [
             0.5555555555555556,
             "#d8576b"
            ],
            [
             0.6666666666666666,
             "#ed7953"
            ],
            [
             0.7777777777777778,
             "#fb9f3a"
            ],
            [
             0.8888888888888888,
             "#fdca26"
            ],
            [
             1,
             "#f0f921"
            ]
           ]
          },
          "colorway": [
           "#636efa",
           "#EF553B",
           "#00cc96",
           "#ab63fa",
           "#FFA15A",
           "#19d3f3",
           "#FF6692",
           "#B6E880",
           "#FF97FF",
           "#FECB52"
          ],
          "font": {
           "color": "#2a3f5f"
          },
          "geo": {
           "bgcolor": "white",
           "lakecolor": "white",
           "landcolor": "#E5ECF6",
           "showlakes": true,
           "showland": true,
           "subunitcolor": "white"
          },
          "hoverlabel": {
           "align": "left"
          },
          "hovermode": "closest",
          "mapbox": {
           "style": "light"
          },
          "paper_bgcolor": "white",
          "plot_bgcolor": "#E5ECF6",
          "polar": {
           "angularaxis": {
            "gridcolor": "white",
            "linecolor": "white",
            "ticks": ""
           },
           "bgcolor": "#E5ECF6",
           "radialaxis": {
            "gridcolor": "white",
            "linecolor": "white",
            "ticks": ""
           }
          },
          "scene": {
           "xaxis": {
            "backgroundcolor": "#E5ECF6",
            "gridcolor": "white",
            "gridwidth": 2,
            "linecolor": "white",
            "showbackground": true,
            "ticks": "",
            "zerolinecolor": "white"
           },
           "yaxis": {
            "backgroundcolor": "#E5ECF6",
            "gridcolor": "white",
            "gridwidth": 2,
            "linecolor": "white",
            "showbackground": true,
            "ticks": "",
            "zerolinecolor": "white"
           },
           "zaxis": {
            "backgroundcolor": "#E5ECF6",
            "gridcolor": "white",
            "gridwidth": 2,
            "linecolor": "white",
            "showbackground": true,
            "ticks": "",
            "zerolinecolor": "white"
           }
          },
          "shapedefaults": {
           "line": {
            "color": "#2a3f5f"
           }
          },
          "ternary": {
           "aaxis": {
            "gridcolor": "white",
            "linecolor": "white",
            "ticks": ""
           },
           "baxis": {
            "gridcolor": "white",
            "linecolor": "white",
            "ticks": ""
           },
           "bgcolor": "#E5ECF6",
           "caxis": {
            "gridcolor": "white",
            "linecolor": "white",
            "ticks": ""
           }
          },
          "title": {
           "x": 0.05
          },
          "xaxis": {
           "automargin": true,
           "gridcolor": "white",
           "linecolor": "white",
           "ticks": "",
           "title": {
            "standoff": 15
           },
           "zerolinecolor": "white",
           "zerolinewidth": 2
          },
          "yaxis": {
           "automargin": true,
           "gridcolor": "white",
           "linecolor": "white",
           "ticks": "",
           "title": {
            "standoff": 15
           },
           "zerolinecolor": "white",
           "zerolinewidth": 2
          }
         }
        },
        "title": {
         "text": "Execution Time vs. Number of Vertices for All Solutions"
        },
        "xaxis": {
         "title": {
          "text": "Number of Vertices"
         }
        },
        "yaxis": {
         "title": {
          "text": "Execution Time (s)"
         }
        }
       }
      }
     },
     "metadata": {},
     "output_type": "display_data"
    }
   ],
   "source": [
    "plot_execution_times(df_loaded, ALL_SOLUTIONS)"
   ]
  },
  {
   "cell_type": "markdown",
   "id": "02231a1a",
   "metadata": {},
   "source": [
    "## Deviation From Optimality"
   ]
  },
  {
   "cell_type": "code",
   "execution_count": 26,
   "id": "95dc1010",
   "metadata": {},
   "outputs": [
    {
     "data": {
      "application/vnd.plotly.v1+json": {
       "config": {
        "plotlyServerURL": "https://plot.ly"
       },
       "data": [
        {
         "connectgaps": true,
         "line": {
          "dash": "dash"
         },
         "marker": {
          "size": 8
         },
         "mode": "lines+markers",
         "name": "Dp",
         "type": "scatter",
         "x": [
          14,
          16,
          17,
          21,
          22,
          24,
          29,
          42,
          48,
          52,
          58,
          70,
          76,
          96,
          99,
          100,
          101,
          105,
          107,
          120,
          124,
          130,
          136,
          137,
          144,
          150,
          152,
          159,
          175,
          180,
          195,
          198,
          200,
          202,
          225,
          226,
          229,
          262,
          264,
          299,
          318,
          400,
          417,
          431,
          439,
          442,
          493,
          535,
          561,
          574,
          575,
          654,
          657,
          666,
          724,
          783,
          1000
         ],
         "y": [
          0,
          0,
          0,
          null,
          null,
          null,
          null,
          null,
          null,
          null,
          null,
          null,
          null,
          null,
          null,
          null,
          null,
          null,
          null,
          null,
          null,
          null,
          null,
          null,
          null,
          null,
          null,
          null,
          null,
          null,
          null,
          null,
          null,
          null,
          null,
          null,
          null,
          null,
          null,
          null,
          null,
          null,
          null,
          null,
          null,
          null,
          null,
          null,
          null,
          null,
          null,
          null,
          null,
          null,
          null,
          null,
          null
         ]
        },
        {
         "connectgaps": true,
         "line": {
          "dash": "solid"
         },
         "marker": {
          "size": 8
         },
         "mode": "lines+markers",
         "name": "Greedy",
         "type": "scatter",
         "x": [
          14,
          16,
          17,
          21,
          22,
          24,
          29,
          42,
          48,
          52,
          58,
          70,
          76,
          96,
          99,
          100,
          101,
          105,
          107,
          120,
          124,
          130,
          136,
          137,
          144,
          150,
          152,
          159,
          175,
          180,
          195,
          198,
          200,
          202,
          225,
          226,
          229,
          262,
          264,
          299,
          318,
          400,
          417,
          431,
          439,
          442,
          493,
          535,
          561,
          574,
          575,
          654,
          657,
          666,
          724,
          783,
          1000
         ],
         "y": [
          21.817634667469154,
          45.61889488263595,
          70.39476111418558,
          23.125230882896194,
          50.94823898474262,
          22.09119496855346,
          18.158169854252506,
          32.40540015081584,
          18.955383749381564,
          19.078736135364483,
          21.181334908446544,
          19.337955680559592,
          41.88548572208893,
          28.450071546305857,
          29.209319187719153,
          27.00148505935608,
          31.199097412995986,
          41.61455885155629,
          5.361158740913073,
          34.70181503889369,
          17.396959539493896,
          23.98177236986839,
          24.80661721443979,
          34.44232889067041,
          5.3192336393628095,
          25.956643475033616,
          16.314640830619023,
          29.91688786825895,
          3.998692016630075,
          533.8461538461538,
          18.896141198758986,
          17.997932902531165,
          23.76279399330935,
          22.848605577689245,
          21.863332725943433,
          17.81340342284424,
          20.67428418597049,
          36.31063232640675,
          18.08864728013025,
          24.295012918055768,
          28.56260385277643,
          25.437154104903488,
          27.427018287953565,
          22.550666806678567,
          22.44522054845028,
          22.068705456918014,
          24.696806279439105,
          14.298419131701603,
          23.850886717336227,
          27.033915559571682,
          24.75001228836392,
          25.311200862418627,
          27.118909536151097,
          24.66520359562166,
          31.766175109166976,
          27.811381387261335,
          32.000921459528854
         ]
        },
        {
         "connectgaps": true,
         "line": {
          "dash": "solid"
         },
         "marker": {
          "size": 8
         },
         "mode": "lines+markers",
         "name": "Christofides",
         "type": "scatter",
         "x": [
          14,
          16,
          17,
          21,
          22,
          24,
          29,
          42,
          48,
          52,
          58,
          70,
          76,
          96,
          99,
          100,
          101,
          105,
          107,
          120,
          124,
          130,
          136,
          137,
          144,
          150,
          152,
          159,
          175,
          180,
          195,
          198,
          200,
          202,
          225,
          226,
          229,
          262,
          264,
          299,
          318,
          400,
          417,
          431,
          439,
          442,
          493,
          535,
          561,
          574,
          575,
          654,
          657,
          666,
          724,
          783,
          1000
         ],
         "y": [
          62.89497442070419,
          20.061233415949847,
          178.97989300867,
          62.80014776505356,
          46.627691430201054,
          84.98427672955975,
          107.8513006580161,
          134.46535113005112,
          150.09845203391274,
          116.82380888568424,
          117.16479621972829,
          188.55763411785435,
          117.76058568977092,
          195.56050643916754,
          217.08444714432255,
          240.2555023071467,
          216.84094527603057,
          230.05305556698397,
          441.62203620097716,
          297.8968596946125,
          202.7987876339032,
          192.05724394088526,
          168.95825115249178,
          195.5792879332312,
          164.2854021174785,
          299.5579351942129,
          117.95586715977223,
          294.5714045983571,
          50.27327509693092,
          10410.25641025641,
          271.6278618269597,
          357.4570311626568,
          376.1511895260883,
          220.5253984063745,
          223.5341650861615,
          518.5175749470819,
          317.0740405045987,
          352.03435562626106,
          535.914050202654,
          444.4435762871195,
          420.67886247524734,
          446.7896826732832,
          943.946251302847,
          464.91126745773397,
          376.49939494813157,
          483.7210322086362,
          362.7435120366833,
          301.33176019353556,
          439.88418385812525,
          536.7504671517278,
          546.8314690231489,
          813.3708346450709,
          493.58608085113474,
          494.6721339321506,
          638.5165677240564,
          674.3194448635861,
          909.4711203813783
         ]
        },
        {
         "connectgaps": true,
         "line": {
          "dash": "solid"
         },
         "marker": {
          "size": 8
         },
         "mode": "lines+markers",
         "name": "Sa",
         "type": "scatter",
         "x": [
          14,
          16,
          17,
          21,
          22,
          24,
          29,
          42,
          48,
          52,
          58,
          70,
          76,
          96,
          99,
          100,
          101,
          105,
          107,
          120,
          124,
          130,
          136,
          137,
          144,
          150,
          152,
          159,
          175,
          180,
          195,
          198,
          200,
          202,
          225,
          226,
          229,
          262,
          264,
          299,
          318,
          400,
          417,
          431,
          439,
          442,
          493,
          535,
          561,
          574,
          575,
          654,
          657,
          666,
          724,
          783,
          1000
         ],
         "y": [
          0.39121275955461937,
          1.6766292462458083,
          10.844862571481276,
          26.339120797931287,
          6.9442463995437045,
          30.345911949685533,
          40.81867658815571,
          74.41811722952889,
          69.14463479947058,
          61.53841510414744,
          79.46839929119905,
          157.96593378533197,
          128.2233027987619,
          188.98549149595175,
          238.0655476411753,
          228.2361100466887,
          208.02229039061024,
          253.24845676690754,
          339.7120498730573,
          242.17804667242868,
          426.6033610178675,
          286.5861717071666,
          276.51719402847596,
          295.89137188095,
          515.6643816779447,
          330.23210751499306,
          508.8462460292566,
          374.1014174070901,
          67.46391367309758,
          10768.71794871795,
          382.73048347171414,
          424.76345845766036,
          465.84275715932733,
          270.7993027888446,
          513.9811596925708,
          893.8335389528847,
          414.79547109255435,
          568.7101084346115,
          1006.0345362795314,
          733.6395655532466,
          679.5896429606364,
          768.9227460191333,
          2053.393859993569,
          738.9087239081989,
          924.5071609982012,
          821.946217796445,
          697.9817237424594,
          603.1460924855334,
          848.4618168657256,
          1081.457053331356,
          1013.1100863708746,
          3162.3845006985966,
          1028.7572002698696,
          1095.6056910292907,
          1321.4069535522124,
          1285.634321730148,
          2026.8184811783437
         ]
        }
       ],
       "layout": {
        "hovermode": "x unified",
        "legend": {
         "title": {
          "text": "Solutions"
         }
        },
        "template": {
         "data": {
          "bar": [
           {
            "error_x": {
             "color": "#2a3f5f"
            },
            "error_y": {
             "color": "#2a3f5f"
            },
            "marker": {
             "line": {
              "color": "#E5ECF6",
              "width": 0.5
             },
             "pattern": {
              "fillmode": "overlay",
              "size": 10,
              "solidity": 0.2
             }
            },
            "type": "bar"
           }
          ],
          "barpolar": [
           {
            "marker": {
             "line": {
              "color": "#E5ECF6",
              "width": 0.5
             },
             "pattern": {
              "fillmode": "overlay",
              "size": 10,
              "solidity": 0.2
             }
            },
            "type": "barpolar"
           }
          ],
          "carpet": [
           {
            "aaxis": {
             "endlinecolor": "#2a3f5f",
             "gridcolor": "white",
             "linecolor": "white",
             "minorgridcolor": "white",
             "startlinecolor": "#2a3f5f"
            },
            "baxis": {
             "endlinecolor": "#2a3f5f",
             "gridcolor": "white",
             "linecolor": "white",
             "minorgridcolor": "white",
             "startlinecolor": "#2a3f5f"
            },
            "type": "carpet"
           }
          ],
          "choropleth": [
           {
            "colorbar": {
             "outlinewidth": 0,
             "ticks": ""
            },
            "type": "choropleth"
           }
          ],
          "contour": [
           {
            "colorbar": {
             "outlinewidth": 0,
             "ticks": ""
            },
            "colorscale": [
             [
              0,
              "#0d0887"
             ],
             [
              0.1111111111111111,
              "#46039f"
             ],
             [
              0.2222222222222222,
              "#7201a8"
             ],
             [
              0.3333333333333333,
              "#9c179e"
             ],
             [
              0.4444444444444444,
              "#bd3786"
             ],
             [
              0.5555555555555556,
              "#d8576b"
             ],
             [
              0.6666666666666666,
              "#ed7953"
             ],
             [
              0.7777777777777778,
              "#fb9f3a"
             ],
             [
              0.8888888888888888,
              "#fdca26"
             ],
             [
              1,
              "#f0f921"
             ]
            ],
            "type": "contour"
           }
          ],
          "contourcarpet": [
           {
            "colorbar": {
             "outlinewidth": 0,
             "ticks": ""
            },
            "type": "contourcarpet"
           }
          ],
          "heatmap": [
           {
            "colorbar": {
             "outlinewidth": 0,
             "ticks": ""
            },
            "colorscale": [
             [
              0,
              "#0d0887"
             ],
             [
              0.1111111111111111,
              "#46039f"
             ],
             [
              0.2222222222222222,
              "#7201a8"
             ],
             [
              0.3333333333333333,
              "#9c179e"
             ],
             [
              0.4444444444444444,
              "#bd3786"
             ],
             [
              0.5555555555555556,
              "#d8576b"
             ],
             [
              0.6666666666666666,
              "#ed7953"
             ],
             [
              0.7777777777777778,
              "#fb9f3a"
             ],
             [
              0.8888888888888888,
              "#fdca26"
             ],
             [
              1,
              "#f0f921"
             ]
            ],
            "type": "heatmap"
           }
          ],
          "heatmapgl": [
           {
            "colorbar": {
             "outlinewidth": 0,
             "ticks": ""
            },
            "colorscale": [
             [
              0,
              "#0d0887"
             ],
             [
              0.1111111111111111,
              "#46039f"
             ],
             [
              0.2222222222222222,
              "#7201a8"
             ],
             [
              0.3333333333333333,
              "#9c179e"
             ],
             [
              0.4444444444444444,
              "#bd3786"
             ],
             [
              0.5555555555555556,
              "#d8576b"
             ],
             [
              0.6666666666666666,
              "#ed7953"
             ],
             [
              0.7777777777777778,
              "#fb9f3a"
             ],
             [
              0.8888888888888888,
              "#fdca26"
             ],
             [
              1,
              "#f0f921"
             ]
            ],
            "type": "heatmapgl"
           }
          ],
          "histogram": [
           {
            "marker": {
             "pattern": {
              "fillmode": "overlay",
              "size": 10,
              "solidity": 0.2
             }
            },
            "type": "histogram"
           }
          ],
          "histogram2d": [
           {
            "colorbar": {
             "outlinewidth": 0,
             "ticks": ""
            },
            "colorscale": [
             [
              0,
              "#0d0887"
             ],
             [
              0.1111111111111111,
              "#46039f"
             ],
             [
              0.2222222222222222,
              "#7201a8"
             ],
             [
              0.3333333333333333,
              "#9c179e"
             ],
             [
              0.4444444444444444,
              "#bd3786"
             ],
             [
              0.5555555555555556,
              "#d8576b"
             ],
             [
              0.6666666666666666,
              "#ed7953"
             ],
             [
              0.7777777777777778,
              "#fb9f3a"
             ],
             [
              0.8888888888888888,
              "#fdca26"
             ],
             [
              1,
              "#f0f921"
             ]
            ],
            "type": "histogram2d"
           }
          ],
          "histogram2dcontour": [
           {
            "colorbar": {
             "outlinewidth": 0,
             "ticks": ""
            },
            "colorscale": [
             [
              0,
              "#0d0887"
             ],
             [
              0.1111111111111111,
              "#46039f"
             ],
             [
              0.2222222222222222,
              "#7201a8"
             ],
             [
              0.3333333333333333,
              "#9c179e"
             ],
             [
              0.4444444444444444,
              "#bd3786"
             ],
             [
              0.5555555555555556,
              "#d8576b"
             ],
             [
              0.6666666666666666,
              "#ed7953"
             ],
             [
              0.7777777777777778,
              "#fb9f3a"
             ],
             [
              0.8888888888888888,
              "#fdca26"
             ],
             [
              1,
              "#f0f921"
             ]
            ],
            "type": "histogram2dcontour"
           }
          ],
          "mesh3d": [
           {
            "colorbar": {
             "outlinewidth": 0,
             "ticks": ""
            },
            "type": "mesh3d"
           }
          ],
          "parcoords": [
           {
            "line": {
             "colorbar": {
              "outlinewidth": 0,
              "ticks": ""
             }
            },
            "type": "parcoords"
           }
          ],
          "pie": [
           {
            "automargin": true,
            "type": "pie"
           }
          ],
          "scatter": [
           {
            "fillpattern": {
             "fillmode": "overlay",
             "size": 10,
             "solidity": 0.2
            },
            "type": "scatter"
           }
          ],
          "scatter3d": [
           {
            "line": {
             "colorbar": {
              "outlinewidth": 0,
              "ticks": ""
             }
            },
            "marker": {
             "colorbar": {
              "outlinewidth": 0,
              "ticks": ""
             }
            },
            "type": "scatter3d"
           }
          ],
          "scattercarpet": [
           {
            "marker": {
             "colorbar": {
              "outlinewidth": 0,
              "ticks": ""
             }
            },
            "type": "scattercarpet"
           }
          ],
          "scattergeo": [
           {
            "marker": {
             "colorbar": {
              "outlinewidth": 0,
              "ticks": ""
             }
            },
            "type": "scattergeo"
           }
          ],
          "scattergl": [
           {
            "marker": {
             "colorbar": {
              "outlinewidth": 0,
              "ticks": ""
             }
            },
            "type": "scattergl"
           }
          ],
          "scattermapbox": [
           {
            "marker": {
             "colorbar": {
              "outlinewidth": 0,
              "ticks": ""
             }
            },
            "type": "scattermapbox"
           }
          ],
          "scatterpolar": [
           {
            "marker": {
             "colorbar": {
              "outlinewidth": 0,
              "ticks": ""
             }
            },
            "type": "scatterpolar"
           }
          ],
          "scatterpolargl": [
           {
            "marker": {
             "colorbar": {
              "outlinewidth": 0,
              "ticks": ""
             }
            },
            "type": "scatterpolargl"
           }
          ],
          "scatterternary": [
           {
            "marker": {
             "colorbar": {
              "outlinewidth": 0,
              "ticks": ""
             }
            },
            "type": "scatterternary"
           }
          ],
          "surface": [
           {
            "colorbar": {
             "outlinewidth": 0,
             "ticks": ""
            },
            "colorscale": [
             [
              0,
              "#0d0887"
             ],
             [
              0.1111111111111111,
              "#46039f"
             ],
             [
              0.2222222222222222,
              "#7201a8"
             ],
             [
              0.3333333333333333,
              "#9c179e"
             ],
             [
              0.4444444444444444,
              "#bd3786"
             ],
             [
              0.5555555555555556,
              "#d8576b"
             ],
             [
              0.6666666666666666,
              "#ed7953"
             ],
             [
              0.7777777777777778,
              "#fb9f3a"
             ],
             [
              0.8888888888888888,
              "#fdca26"
             ],
             [
              1,
              "#f0f921"
             ]
            ],
            "type": "surface"
           }
          ],
          "table": [
           {
            "cells": {
             "fill": {
              "color": "#EBF0F8"
             },
             "line": {
              "color": "white"
             }
            },
            "header": {
             "fill": {
              "color": "#C8D4E3"
             },
             "line": {
              "color": "white"
             }
            },
            "type": "table"
           }
          ]
         },
         "layout": {
          "annotationdefaults": {
           "arrowcolor": "#2a3f5f",
           "arrowhead": 0,
           "arrowwidth": 1
          },
          "autotypenumbers": "strict",
          "coloraxis": {
           "colorbar": {
            "outlinewidth": 0,
            "ticks": ""
           }
          },
          "colorscale": {
           "diverging": [
            [
             0,
             "#8e0152"
            ],
            [
             0.1,
             "#c51b7d"
            ],
            [
             0.2,
             "#de77ae"
            ],
            [
             0.3,
             "#f1b6da"
            ],
            [
             0.4,
             "#fde0ef"
            ],
            [
             0.5,
             "#f7f7f7"
            ],
            [
             0.6,
             "#e6f5d0"
            ],
            [
             0.7,
             "#b8e186"
            ],
            [
             0.8,
             "#7fbc41"
            ],
            [
             0.9,
             "#4d9221"
            ],
            [
             1,
             "#276419"
            ]
           ],
           "sequential": [
            [
             0,
             "#0d0887"
            ],
            [
             0.1111111111111111,
             "#46039f"
            ],
            [
             0.2222222222222222,
             "#7201a8"
            ],
            [
             0.3333333333333333,
             "#9c179e"
            ],
            [
             0.4444444444444444,
             "#bd3786"
            ],
            [
             0.5555555555555556,
             "#d8576b"
            ],
            [
             0.6666666666666666,
             "#ed7953"
            ],
            [
             0.7777777777777778,
             "#fb9f3a"
            ],
            [
             0.8888888888888888,
             "#fdca26"
            ],
            [
             1,
             "#f0f921"
            ]
           ],
           "sequentialminus": [
            [
             0,
             "#0d0887"
            ],
            [
             0.1111111111111111,
             "#46039f"
            ],
            [
             0.2222222222222222,
             "#7201a8"
            ],
            [
             0.3333333333333333,
             "#9c179e"
            ],
            [
             0.4444444444444444,
             "#bd3786"
            ],
            [
             0.5555555555555556,
             "#d8576b"
            ],
            [
             0.6666666666666666,
             "#ed7953"
            ],
            [
             0.7777777777777778,
             "#fb9f3a"
            ],
            [
             0.8888888888888888,
             "#fdca26"
            ],
            [
             1,
             "#f0f921"
            ]
           ]
          },
          "colorway": [
           "#636efa",
           "#EF553B",
           "#00cc96",
           "#ab63fa",
           "#FFA15A",
           "#19d3f3",
           "#FF6692",
           "#B6E880",
           "#FF97FF",
           "#FECB52"
          ],
          "font": {
           "color": "#2a3f5f"
          },
          "geo": {
           "bgcolor": "white",
           "lakecolor": "white",
           "landcolor": "#E5ECF6",
           "showlakes": true,
           "showland": true,
           "subunitcolor": "white"
          },
          "hoverlabel": {
           "align": "left"
          },
          "hovermode": "closest",
          "mapbox": {
           "style": "light"
          },
          "paper_bgcolor": "white",
          "plot_bgcolor": "#E5ECF6",
          "polar": {
           "angularaxis": {
            "gridcolor": "white",
            "linecolor": "white",
            "ticks": ""
           },
           "bgcolor": "#E5ECF6",
           "radialaxis": {
            "gridcolor": "white",
            "linecolor": "white",
            "ticks": ""
           }
          },
          "scene": {
           "xaxis": {
            "backgroundcolor": "#E5ECF6",
            "gridcolor": "white",
            "gridwidth": 2,
            "linecolor": "white",
            "showbackground": true,
            "ticks": "",
            "zerolinecolor": "white"
           },
           "yaxis": {
            "backgroundcolor": "#E5ECF6",
            "gridcolor": "white",
            "gridwidth": 2,
            "linecolor": "white",
            "showbackground": true,
            "ticks": "",
            "zerolinecolor": "white"
           },
           "zaxis": {
            "backgroundcolor": "#E5ECF6",
            "gridcolor": "white",
            "gridwidth": 2,
            "linecolor": "white",
            "showbackground": true,
            "ticks": "",
            "zerolinecolor": "white"
           }
          },
          "shapedefaults": {
           "line": {
            "color": "#2a3f5f"
           }
          },
          "ternary": {
           "aaxis": {
            "gridcolor": "white",
            "linecolor": "white",
            "ticks": ""
           },
           "baxis": {
            "gridcolor": "white",
            "linecolor": "white",
            "ticks": ""
           },
           "bgcolor": "#E5ECF6",
           "caxis": {
            "gridcolor": "white",
            "linecolor": "white",
            "ticks": ""
           }
          },
          "title": {
           "x": 0.05
          },
          "xaxis": {
           "automargin": true,
           "gridcolor": "white",
           "linecolor": "white",
           "ticks": "",
           "title": {
            "standoff": 15
           },
           "zerolinecolor": "white",
           "zerolinewidth": 2
          },
          "yaxis": {
           "automargin": true,
           "gridcolor": "white",
           "linecolor": "white",
           "ticks": "",
           "title": {
            "standoff": 15
           },
           "zerolinecolor": "white",
           "zerolinewidth": 2
          }
         }
        },
        "title": {
         "text": "Deviation of TSP Solutions from Optimal"
        },
        "xaxis": {
         "title": {
          "text": "Number of Vertices"
         }
        },
        "yaxis": {
         "title": {
          "text": "Deviation from Optimal (%)"
         }
        }
       }
      }
     },
     "metadata": {},
     "output_type": "display_data"
    }
   ],
   "source": [
    "# Prepare data for the plot\n",
    "deviations_from_optimal = list(map(lambda solution: f'{solution}_deviation_from_optimal', ALL_SOLUTIONS))\n",
    "legend = list(map(lambda solution: solution.capitalize(), ALL_SOLUTIONS))\n",
    "\n",
    "# Create a new DataFrame to store the averaged results\n",
    "averaged_deviation_data = df_loaded.groupby('number_of_vertices', as_index=False).mean(numeric_only=True)\n",
    "\n",
    "# Create a Plotly figure\n",
    "fig = go.Figure()\n",
    "\n",
    "# Add traces for each solution's deviation from optimal\n",
    "for idx, deviation in enumerate(deviations_from_optimal):\n",
    "\t# Directly use the averaged deviation values\n",
    "\ty_values = averaged_deviation_data[deviation]\n",
    "\n",
    "\t# Create a scatter plot with lines connecting the points\n",
    "\tfig.add_trace(go.Scatter(\n",
    "\t\tx=averaged_deviation_data['number_of_vertices'],\n",
    "\t\ty=y_values,\n",
    "\t\tmode='lines+markers',\n",
    "\t\tname=legend[idx],\n",
    "\t\tline=dict(dash='dash' if 'Dp' in legend[idx] else 'solid'),  # Dashed line for DP\n",
    "\t\tmarker=dict(size=8),\n",
    "\t\tconnectgaps=True  # This option connects gaps in data points\n",
    "\t))\n",
    "\n",
    "# Update layout\n",
    "fig.update_layout(\n",
    "\ttitle='Deviation of TSP Solutions from Optimal',\n",
    "\txaxis_title='Number of Vertices',\n",
    "\tyaxis_title='Deviation from Optimal (%)',\n",
    "\tlegend_title='Solutions',\n",
    "\thovermode='x unified',  # Show hover information for all traces at x\n",
    ")\n",
    "\n",
    "# Show the plot\n",
    "fig.show()"
   ]
  }
 ],
 "metadata": {
  "kernelspec": {
   "display_name": "Python 3 (ipykernel)",
   "language": "python",
   "name": "python3"
  },
  "language_info": {
   "codemirror_mode": {
    "name": "ipython",
    "version": 3
   },
   "file_extension": ".py",
   "mimetype": "text/x-python",
   "name": "python",
   "nbconvert_exporter": "python",
   "pygments_lexer": "ipython3",
   "version": "3.12.7"
  }
 },
 "nbformat": 4,
 "nbformat_minor": 5
}
